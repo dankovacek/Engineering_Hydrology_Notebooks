{
 "cells": [
  {
   "cell_type": "markdown",
   "metadata": {},
   "source": [
    "# Notebook 2: Rating Curve Development"
   ]
  },
  {
   "cell_type": "code",
   "execution_count": 3,
   "metadata": {
    "tags": []
   },
   "outputs": [
    {
     "data": {
      "text/html": [
       "\n",
       "    <div class=\"bk-root\">\n",
       "        <a href=\"https://bokeh.org\" target=\"_blank\" class=\"bk-logo bk-logo-small bk-logo-notebook\"></a>\n",
       "        <span id=\"1003\">Loading BokehJS ...</span>\n",
       "    </div>"
      ]
     },
     "metadata": {},
     "output_type": "display_data"
    },
    {
     "data": {
      "application/javascript": "\n(function(root) {\n  function now() {\n    return new Date();\n  }\n\n  const force = true;\n\n  if (typeof root._bokeh_onload_callbacks === \"undefined\" || force === true) {\n    root._bokeh_onload_callbacks = [];\n    root._bokeh_is_loading = undefined;\n  }\n\n  const JS_MIME_TYPE = 'application/javascript';\n  const HTML_MIME_TYPE = 'text/html';\n  const EXEC_MIME_TYPE = 'application/vnd.bokehjs_exec.v0+json';\n  const CLASS_NAME = 'output_bokeh rendered_html';\n\n  /**\n   * Render data to the DOM node\n   */\n  function render(props, node) {\n    const script = document.createElement(\"script\");\n    node.appendChild(script);\n  }\n\n  /**\n   * Handle when an output is cleared or removed\n   */\n  function handleClearOutput(event, handle) {\n    const cell = handle.cell;\n\n    const id = cell.output_area._bokeh_element_id;\n    const server_id = cell.output_area._bokeh_server_id;\n    // Clean up Bokeh references\n    if (id != null && id in Bokeh.index) {\n      Bokeh.index[id].model.document.clear();\n      delete Bokeh.index[id];\n    }\n\n    if (server_id !== undefined) {\n      // Clean up Bokeh references\n      const cmd_clean = \"from bokeh.io.state import curstate; print(curstate().uuid_to_server['\" + server_id + \"'].get_sessions()[0].document.roots[0]._id)\";\n      cell.notebook.kernel.execute(cmd_clean, {\n        iopub: {\n          output: function(msg) {\n            const id = msg.content.text.trim();\n            if (id in Bokeh.index) {\n              Bokeh.index[id].model.document.clear();\n              delete Bokeh.index[id];\n            }\n          }\n        }\n      });\n      // Destroy server and session\n      const cmd_destroy = \"import bokeh.io.notebook as ion; ion.destroy_server('\" + server_id + \"')\";\n      cell.notebook.kernel.execute(cmd_destroy);\n    }\n  }\n\n  /**\n   * Handle when a new output is added\n   */\n  function handleAddOutput(event, handle) {\n    const output_area = handle.output_area;\n    const output = handle.output;\n\n    // limit handleAddOutput to display_data with EXEC_MIME_TYPE content only\n    if ((output.output_type != \"display_data\") || (!Object.prototype.hasOwnProperty.call(output.data, EXEC_MIME_TYPE))) {\n      return\n    }\n\n    const toinsert = output_area.element.find(\".\" + CLASS_NAME.split(' ')[0]);\n\n    if (output.metadata[EXEC_MIME_TYPE][\"id\"] !== undefined) {\n      toinsert[toinsert.length - 1].firstChild.textContent = output.data[JS_MIME_TYPE];\n      // store reference to embed id on output_area\n      output_area._bokeh_element_id = output.metadata[EXEC_MIME_TYPE][\"id\"];\n    }\n    if (output.metadata[EXEC_MIME_TYPE][\"server_id\"] !== undefined) {\n      const bk_div = document.createElement(\"div\");\n      bk_div.innerHTML = output.data[HTML_MIME_TYPE];\n      const script_attrs = bk_div.children[0].attributes;\n      for (let i = 0; i < script_attrs.length; i++) {\n        toinsert[toinsert.length - 1].firstChild.setAttribute(script_attrs[i].name, script_attrs[i].value);\n        toinsert[toinsert.length - 1].firstChild.textContent = bk_div.children[0].textContent\n      }\n      // store reference to server id on output_area\n      output_area._bokeh_server_id = output.metadata[EXEC_MIME_TYPE][\"server_id\"];\n    }\n  }\n\n  function register_renderer(events, OutputArea) {\n\n    function append_mime(data, metadata, element) {\n      // create a DOM node to render to\n      const toinsert = this.create_output_subarea(\n        metadata,\n        CLASS_NAME,\n        EXEC_MIME_TYPE\n      );\n      this.keyboard_manager.register_events(toinsert);\n      // Render to node\n      const props = {data: data, metadata: metadata[EXEC_MIME_TYPE]};\n      render(props, toinsert[toinsert.length - 1]);\n      element.append(toinsert);\n      return toinsert\n    }\n\n    /* Handle when an output is cleared or removed */\n    events.on('clear_output.CodeCell', handleClearOutput);\n    events.on('delete.Cell', handleClearOutput);\n\n    /* Handle when a new output is added */\n    events.on('output_added.OutputArea', handleAddOutput);\n\n    /**\n     * Register the mime type and append_mime function with output_area\n     */\n    OutputArea.prototype.register_mime_type(EXEC_MIME_TYPE, append_mime, {\n      /* Is output safe? */\n      safe: true,\n      /* Index of renderer in `output_area.display_order` */\n      index: 0\n    });\n  }\n\n  // register the mime type if in Jupyter Notebook environment and previously unregistered\n  if (root.Jupyter !== undefined) {\n    const events = require('base/js/events');\n    const OutputArea = require('notebook/js/outputarea').OutputArea;\n\n    if (OutputArea.prototype.mime_types().indexOf(EXEC_MIME_TYPE) == -1) {\n      register_renderer(events, OutputArea);\n    }\n  }\n\n  \n  if (typeof (root._bokeh_timeout) === \"undefined\" || force === true) {\n    root._bokeh_timeout = Date.now() + 5000;\n    root._bokeh_failed_load = false;\n  }\n\n  const NB_LOAD_WARNING = {'data': {'text/html':\n     \"<div style='background-color: #fdd'>\\n\"+\n     \"<p>\\n\"+\n     \"BokehJS does not appear to have successfully loaded. If loading BokehJS from CDN, this \\n\"+\n     \"may be due to a slow or bad network connection. Possible fixes:\\n\"+\n     \"</p>\\n\"+\n     \"<ul>\\n\"+\n     \"<li>re-rerun `output_notebook()` to attempt to load from CDN again, or</li>\\n\"+\n     \"<li>use INLINE resources instead, as so:</li>\\n\"+\n     \"</ul>\\n\"+\n     \"<code>\\n\"+\n     \"from bokeh.resources import INLINE\\n\"+\n     \"output_notebook(resources=INLINE)\\n\"+\n     \"</code>\\n\"+\n     \"</div>\"}};\n\n  function display_loaded() {\n    const el = document.getElementById(\"1003\");\n    if (el != null) {\n      el.textContent = \"BokehJS is loading...\";\n    }\n    if (root.Bokeh !== undefined) {\n      if (el != null) {\n        el.textContent = \"BokehJS \" + root.Bokeh.version + \" successfully loaded.\";\n      }\n    } else if (Date.now() < root._bokeh_timeout) {\n      setTimeout(display_loaded, 100)\n    }\n  }\n\n\n  function run_callbacks() {\n    try {\n      root._bokeh_onload_callbacks.forEach(function(callback) {\n        if (callback != null)\n          callback();\n      });\n    } finally {\n      delete root._bokeh_onload_callbacks\n    }\n    console.debug(\"Bokeh: all callbacks have finished\");\n  }\n\n  function load_libs(css_urls, js_urls, callback) {\n    if (css_urls == null) css_urls = [];\n    if (js_urls == null) js_urls = [];\n\n    root._bokeh_onload_callbacks.push(callback);\n    if (root._bokeh_is_loading > 0) {\n      console.debug(\"Bokeh: BokehJS is being loaded, scheduling callback at\", now());\n      return null;\n    }\n    if (js_urls == null || js_urls.length === 0) {\n      run_callbacks();\n      return null;\n    }\n    console.debug(\"Bokeh: BokehJS not loaded, scheduling load and callback at\", now());\n    root._bokeh_is_loading = css_urls.length + js_urls.length;\n\n    function on_load() {\n      root._bokeh_is_loading--;\n      if (root._bokeh_is_loading === 0) {\n        console.debug(\"Bokeh: all BokehJS libraries/stylesheets loaded\");\n        run_callbacks()\n      }\n    }\n\n    function on_error(url) {\n      console.error(\"failed to load \" + url);\n    }\n\n    for (let i = 0; i < css_urls.length; i++) {\n      const url = css_urls[i];\n      const element = document.createElement(\"link\");\n      element.onload = on_load;\n      element.onerror = on_error.bind(null, url);\n      element.rel = \"stylesheet\";\n      element.type = \"text/css\";\n      element.href = url;\n      console.debug(\"Bokeh: injecting link tag for BokehJS stylesheet: \", url);\n      document.body.appendChild(element);\n    }\n\n    for (let i = 0; i < js_urls.length; i++) {\n      const url = js_urls[i];\n      const element = document.createElement('script');\n      element.onload = on_load;\n      element.onerror = on_error.bind(null, url);\n      element.async = false;\n      element.src = url;\n      console.debug(\"Bokeh: injecting script tag for BokehJS library: \", url);\n      document.head.appendChild(element);\n    }\n  };\n\n  function inject_raw_css(css) {\n    const element = document.createElement(\"style\");\n    element.appendChild(document.createTextNode(css));\n    document.body.appendChild(element);\n  }\n\n  \n  const js_urls = [\"https://cdn.bokeh.org/bokeh/release/bokeh-2.4.2.min.js\", \"https://cdn.bokeh.org/bokeh/release/bokeh-gl-2.4.2.min.js\", \"https://cdn.bokeh.org/bokeh/release/bokeh-widgets-2.4.2.min.js\", \"https://cdn.bokeh.org/bokeh/release/bokeh-tables-2.4.2.min.js\", \"https://cdn.bokeh.org/bokeh/release/bokeh-mathjax-2.4.2.min.js\"];\n  const css_urls = [];\n  \n\n  const inline_js = [\n    function(Bokeh) {\n      Bokeh.set_log_level(\"info\");\n    },\n    function(Bokeh) {\n    \n    \n    }\n  ];\n\n  function run_inline_js() {\n    \n    if (root.Bokeh !== undefined || force === true) {\n      \n    for (let i = 0; i < inline_js.length; i++) {\n      inline_js[i].call(root, root.Bokeh);\n    }\n    if (force === true) {\n        display_loaded();\n      }} else if (Date.now() < root._bokeh_timeout) {\n      setTimeout(run_inline_js, 100);\n    } else if (!root._bokeh_failed_load) {\n      console.log(\"Bokeh: BokehJS failed to load within specified timeout.\");\n      root._bokeh_failed_load = true;\n    } else if (force !== true) {\n      const cell = $(document.getElementById(\"1003\")).parents('.cell').data().cell;\n      cell.output_area.append_execute_result(NB_LOAD_WARNING)\n    }\n\n  }\n\n  if (root._bokeh_is_loading === 0) {\n    console.debug(\"Bokeh: BokehJS loaded, going straight to plotting\");\n    run_inline_js();\n  } else {\n    load_libs(css_urls, js_urls, function() {\n      console.debug(\"Bokeh: BokehJS plotting callback run at\", now());\n      run_inline_js();\n    });\n  }\n}(window));",
      "application/vnd.bokehjs_load.v0+json": ""
     },
     "metadata": {},
     "output_type": "display_data"
    }
   ],
   "source": [
    "import os\n",
    "import math\n",
    "import pandas as pd\n",
    "import numpy as np\n",
    "from scipy import stats as st\n",
    "\n",
    "import matplotlib.pyplot as plt\n",
    "\n",
    "from bokeh.plotting import figure, show, output_file\n",
    "from bokeh.models import ColumnDataSource, Band\n",
    "from bokeh.io import output_notebook\n",
    "from bokeh.layouts import gridplot\n",
    "\n",
    "output_notebook()"
   ]
  },
  {
   "cell_type": "markdown",
   "metadata": {},
   "source": [
    "## Introduction\n",
    "\n",
    "### Pressure Transducer\n",
    "\n",
    "It isn't practical to accurately measure surface runoff directly on a *continuous* basis.  In practice, it is much easier and more reliable to install an instrument at a fixed location in the river to measure water pressure, which recall is a linear function of the depth of water, to collect these measurements at a frequency of minutes or hours, and then to establish a mathematical relation between water depth and volumetric flow.\n",
    "\n",
    "![Pressure Transducer](img/transducer.png)"
   ]
  },
  {
   "cell_type": "markdown",
   "metadata": {},
   "source": [
    "### Hydrometric Station\n",
    "\n",
    "A hydrometric station is often simply a pressure transducer (shown above) connected to a computer (a datalogger) to store measurements in memory.  We then need a way to map these recorded water level measurements to **volumetric flow** ($\\frac{m^3}{s}$).  The pressure transducer is often fastened within a protective pipe (as shown in the image below) to protect it from debris moving during high flows.  \n",
    "\n",
    "Benchmarks are used to validate both the position of the pressure transducer and the calibration of the sensor.  **Benchmark survey is critical to the validation of your measured flow series!**  \n",
    "\n",
    ">**Note**: Water level or depth is often referred to as 'stage'.\n",
    "\n",
    "![Hydrometric Station](img/station.png)"
   ]
  },
  {
   "cell_type": "markdown",
   "metadata": {},
   "source": [
    "In Notebook 1, we processed a single discharge measurement taken using the salt dilution method.  Typically we want to collect discharge measurements to describe as much of the expected range of natural flow conditions as possible, from very low flows in the dry season, to the highest flows we can (safely) measure.\n",
    "\n",
    "Go through this notebook and follow along with the development of the stage-discharge rating curve. At the end, there is an open ended question that requires you to reflect on the content of the notebook. \n",
    "\n",
    ">**Note**: [A folder of references is provided in the repository](https://github.com/dankovacek/Engineering_Hydrology_Notebooks/tree/main/content/notebooks/Notebook_2/References) containing governing standards for hydrometric data collection, as well as a discussion paper on uncertainty in hydrometric data collection."
   ]
  },
  {
   "cell_type": "markdown",
   "metadata": {},
   "source": [
    "## Stage-Discharge (Rating Curve) Development\n",
    "\n",
    "The purpose of establishing continuous collection of stage data, and collecting many discharge (flow) measurements is to establish (and validate) a relationship between the water level and the volumetric flow over a wide range of conditions:\n",
    "\n",
    "![Stage-Discharge Relationship (source: Hamilton & Moore (2012))](img/rating_curve_ex.png)\n",
    "\n",
    "Each point in the above plot represents an 'instantaneous' or 'point in time' discharge measurement, and the water level (stage) at the time the discharge measurement was taken.\n",
    "\n",
    "In this exercise, we will develop a stage-discharge relationship from a collection of discharge measurements and the corresponding stage record. Once a valid stage-discharge relationship has been established, it can be used to translate the time series of **stage** to a time series of **discharge**."
   ]
  },
  {
   "cell_type": "markdown",
   "metadata": {},
   "source": [
    "## Import the Data"
   ]
  },
  {
   "cell_type": "code",
   "execution_count": 4,
   "metadata": {},
   "outputs": [
    {
     "data": {
      "text/plain": [
       "['RC_Data.csv',\n",
       " 'WL_data.csv',\n",
       " 'Regional_data.csv',\n",
       " 'SD_cal.csv',\n",
       " 'SD_data.csv']"
      ]
     },
     "execution_count": 4,
     "metadata": {},
     "output_type": "execute_result"
    }
   ],
   "source": [
    "os.listdir('../../notebook_data/notebook_2_data')"
   ]
  },
  {
   "cell_type": "code",
   "execution_count": 5,
   "metadata": {},
   "outputs": [],
   "source": [
    "# import the stage data\n",
    "stage_df = pd.read_csv('../../notebook_data/notebook_2_data/WL_data.csv', parse_dates=['Date'])"
   ]
  },
  {
   "cell_type": "code",
   "execution_count": 6,
   "metadata": {},
   "outputs": [
    {
     "data": {
      "text/html": [
       "<div>\n",
       "<style scoped>\n",
       "    .dataframe tbody tr th:only-of-type {\n",
       "        vertical-align: middle;\n",
       "    }\n",
       "\n",
       "    .dataframe tbody tr th {\n",
       "        vertical-align: top;\n",
       "    }\n",
       "\n",
       "    .dataframe thead th {\n",
       "        text-align: right;\n",
       "    }\n",
       "</style>\n",
       "<table border=\"1\" class=\"dataframe\">\n",
       "  <thead>\n",
       "    <tr style=\"text-align: right;\">\n",
       "      <th></th>\n",
       "      <th>Date</th>\n",
       "      <th>Water level (daily av.) (m)</th>\n",
       "    </tr>\n",
       "  </thead>\n",
       "  <tbody>\n",
       "    <tr>\n",
       "      <th>0</th>\n",
       "      <td>2009-01-01</td>\n",
       "      <td>0.240</td>\n",
       "    </tr>\n",
       "    <tr>\n",
       "      <th>1</th>\n",
       "      <td>2009-01-02</td>\n",
       "      <td>0.236</td>\n",
       "    </tr>\n",
       "    <tr>\n",
       "      <th>2</th>\n",
       "      <td>2009-01-03</td>\n",
       "      <td>0.234</td>\n",
       "    </tr>\n",
       "    <tr>\n",
       "      <th>3</th>\n",
       "      <td>2009-01-04</td>\n",
       "      <td>0.233</td>\n",
       "    </tr>\n",
       "    <tr>\n",
       "      <th>4</th>\n",
       "      <td>2009-01-05</td>\n",
       "      <td>0.231</td>\n",
       "    </tr>\n",
       "    <tr>\n",
       "      <th>...</th>\n",
       "      <td>...</td>\n",
       "      <td>...</td>\n",
       "    </tr>\n",
       "    <tr>\n",
       "      <th>725</th>\n",
       "      <td>2010-12-27</td>\n",
       "      <td>0.288</td>\n",
       "    </tr>\n",
       "    <tr>\n",
       "      <th>726</th>\n",
       "      <td>2010-12-28</td>\n",
       "      <td>0.287</td>\n",
       "    </tr>\n",
       "    <tr>\n",
       "      <th>727</th>\n",
       "      <td>2010-12-29</td>\n",
       "      <td>0.265</td>\n",
       "    </tr>\n",
       "    <tr>\n",
       "      <th>728</th>\n",
       "      <td>2010-12-30</td>\n",
       "      <td>0.248</td>\n",
       "    </tr>\n",
       "    <tr>\n",
       "      <th>729</th>\n",
       "      <td>2010-12-31</td>\n",
       "      <td>0.242</td>\n",
       "    </tr>\n",
       "  </tbody>\n",
       "</table>\n",
       "<p>730 rows × 2 columns</p>\n",
       "</div>"
      ],
      "text/plain": [
       "          Date  Water level (daily av.) (m)\n",
       "0   2009-01-01                        0.240\n",
       "1   2009-01-02                        0.236\n",
       "2   2009-01-03                        0.234\n",
       "3   2009-01-04                        0.233\n",
       "4   2009-01-05                        0.231\n",
       "..         ...                          ...\n",
       "725 2010-12-27                        0.288\n",
       "726 2010-12-28                        0.287\n",
       "727 2010-12-29                        0.265\n",
       "728 2010-12-30                        0.248\n",
       "729 2010-12-31                        0.242\n",
       "\n",
       "[730 rows x 2 columns]"
      ]
     },
     "execution_count": 6,
     "metadata": {},
     "output_type": "execute_result"
    }
   ],
   "source": [
    "# take a quick look at the file contents\n",
    "stage_df"
   ]
  },
  {
   "cell_type": "code",
   "execution_count": 7,
   "metadata": {},
   "outputs": [],
   "source": [
    "# looking at the data preview above, the water level (stage) label is quite long\n",
    "# lets store it in a more convenient variable\n",
    "stage_label = 'Water level (daily av.) (m)'\n",
    "\n",
    "stage_df = stage_df[['Date', stage_label]].copy()\n"
   ]
  },
  {
   "cell_type": "markdown",
   "metadata": {},
   "source": [
    "Open the rating curve data file (the set of discrete flow measurements)."
   ]
  },
  {
   "cell_type": "code",
   "execution_count": 28,
   "metadata": {},
   "outputs": [],
   "source": [
    "# import the table of discrete discharge measurements\n",
    "rc_df = pd.read_csv('../../notebook_data/notebook_2_data/RC_Data.csv', parse_dates=['Date'])"
   ]
  },
  {
   "cell_type": "code",
   "execution_count": 29,
   "metadata": {},
   "outputs": [
    {
     "data": {
      "text/html": [
       "<div>\n",
       "<style scoped>\n",
       "    .dataframe tbody tr th:only-of-type {\n",
       "        vertical-align: middle;\n",
       "    }\n",
       "\n",
       "    .dataframe tbody tr th {\n",
       "        vertical-align: top;\n",
       "    }\n",
       "\n",
       "    .dataframe thead th {\n",
       "        text-align: right;\n",
       "    }\n",
       "</style>\n",
       "<table border=\"1\" class=\"dataframe\">\n",
       "  <thead>\n",
       "    <tr style=\"text-align: right;\">\n",
       "      <th></th>\n",
       "      <th>Date</th>\n",
       "      <th>Flow (m3/s)</th>\n",
       "      <th>Water level (m)</th>\n",
       "    </tr>\n",
       "  </thead>\n",
       "  <tbody>\n",
       "    <tr>\n",
       "      <th>0</th>\n",
       "      <td>2009-01-02</td>\n",
       "      <td>1.565</td>\n",
       "      <td>0.236</td>\n",
       "    </tr>\n",
       "    <tr>\n",
       "      <th>1</th>\n",
       "      <td>2009-01-07</td>\n",
       "      <td>1.530</td>\n",
       "      <td>0.267</td>\n",
       "    </tr>\n",
       "    <tr>\n",
       "      <th>2</th>\n",
       "      <td>2009-03-20</td>\n",
       "      <td>0.967</td>\n",
       "      <td>0.224</td>\n",
       "    </tr>\n",
       "    <tr>\n",
       "      <th>3</th>\n",
       "      <td>2009-09-12</td>\n",
       "      <td>5.133</td>\n",
       "      <td>0.707</td>\n",
       "    </tr>\n",
       "    <tr>\n",
       "      <th>4</th>\n",
       "      <td>2009-11-10</td>\n",
       "      <td>3.402</td>\n",
       "      <td>0.468</td>\n",
       "    </tr>\n",
       "    <tr>\n",
       "      <th>5</th>\n",
       "      <td>2009-11-18</td>\n",
       "      <td>4.474</td>\n",
       "      <td>0.589</td>\n",
       "    </tr>\n",
       "    <tr>\n",
       "      <th>6</th>\n",
       "      <td>2010-03-24</td>\n",
       "      <td>1.297</td>\n",
       "      <td>0.296</td>\n",
       "    </tr>\n",
       "    <tr>\n",
       "      <th>7</th>\n",
       "      <td>2010-03-25</td>\n",
       "      <td>1.823</td>\n",
       "      <td>0.300</td>\n",
       "    </tr>\n",
       "    <tr>\n",
       "      <th>8</th>\n",
       "      <td>2010-08-25</td>\n",
       "      <td>4.682</td>\n",
       "      <td>0.632</td>\n",
       "    </tr>\n",
       "  </tbody>\n",
       "</table>\n",
       "</div>"
      ],
      "text/plain": [
       "        Date  Flow (m3/s)  Water level (m)\n",
       "0 2009-01-02        1.565            0.236\n",
       "1 2009-01-07        1.530            0.267\n",
       "2 2009-03-20        0.967            0.224\n",
       "3 2009-09-12        5.133            0.707\n",
       "4 2009-11-10        3.402            0.468\n",
       "5 2009-11-18        4.474            0.589\n",
       "6 2010-03-24        1.297            0.296\n",
       "7 2010-03-25        1.823            0.300\n",
       "8 2010-08-25        4.682            0.632"
      ]
     },
     "execution_count": 29,
     "metadata": {},
     "output_type": "execute_result"
    }
   ],
   "source": [
    "# take a look at the discharge measurements\n",
    "rc_df.head(15)"
   ]
  },
  {
   "cell_type": "code",
   "execution_count": 30,
   "metadata": {},
   "outputs": [
    {
     "name": "stdout",
     "output_type": "stream",
     "text": [
      "There are a total of 9 discharge measurements.\n"
     ]
    }
   ],
   "source": [
    "print(f'There are a total of {len(rc_df)} discharge measurements.')"
   ]
  },
  {
   "cell_type": "markdown",
   "metadata": {},
   "source": [
    "## Plot the Data\n",
    "\n",
    "### Plot Measured Discharge and corresponding stage (water level)\n",
    "\n",
    "From previous site visits, we have collected a total of 9 discharge measurements as can be seen in the `rc_df` dataframe above.  During each measurement, we manually measure the water level to validate the data being recorded continuously by our pressure transducer and datalogger (hydrometric station).  We validate the pressure transducer reading because instrument calibration is not perfect, and can change over time for a number of reasons.  \n",
    "\n",
    "It is important to measure stage by some independent means before and after a discharge measurement in order to to assess the quality of the stage-discharge relationship and any analysis derived from it.  Validating the hydrometric station stage concurrent to a discharge measurement is typically done manually, such as by a benchmark survey.\n"
   ]
  },
  {
   "cell_type": "code",
   "execution_count": 31,
   "metadata": {},
   "outputs": [
    {
     "data": {
      "text/plain": [
       "<AxesSubplot:xlabel='Flow (m3/s)'>"
      ]
     },
     "execution_count": 31,
     "metadata": {},
     "output_type": "execute_result"
    },
    {
     "data": {
      "image/png": "[encoded data removed]",
      "text/plain": [
       "<Figure size 432x288 with 1 Axes>"
      ]
     },
     "metadata": {
      "needs_background": "light"
     },
     "output_type": "display_data"
    }
   ],
   "source": [
    "# plot the discharge measurements on the x-axis, and the corresponding stage on the y axis\n",
    "q_measured = 'Flow (m3/s)'\n",
    "wl_measured = 'Water level (m)'\n",
    "rc_df.plot(q_measured, wl_measured, \n",
    "           marker='o', color='g',\n",
    "           linestyle='',\n",
    "           label='Discharge measurements')"
   ]
  },
  {
   "cell_type": "markdown",
   "metadata": {},
   "source": [
    "### Add the new discharge measurement\n",
    "\n",
    "In Notebook 1, we processed a discharge measurement using salt dilution.  Let's update our rating curve with this latest data point.\n",
    "\n",
    "### Find the stage on the measurement date\n",
    "\n",
    "Instead of manually looking up what the water level was on a particular date, we can use an indexing method to directly return the value at the time of interest./"
   ]
  },
  {
   "cell_type": "code",
   "execution_count": 32,
   "metadata": {},
   "outputs": [
    {
     "name": "stdout",
     "output_type": "stream",
     "text": [
      "633    1.313\n",
      "Name: Water level (daily av.) (m), dtype: float64\n",
      "------\n",
      "\n",
      "The stage on 2010-09-26 00:00:00 was 1.313 m.\n"
     ]
    }
   ],
   "source": [
    "# get the measurement_date from the salt dilution data files\n",
    "msmt_date = '2010-09-26'\n",
    "# conver the date from a string to a \"datetime\" type\n",
    "msmt_date = pd.to_datetime(msmt_date)\n",
    " \n",
    "# here, we are indexing the stage dataframe to return \n",
    "# just the row corresponding to the date we're interested in\n",
    "msmt_date_data = stage_df[stage_df['Date'] == msmt_date]\n",
    "\n",
    "# now just extract the stage\n",
    "# and round to 3 decimals\n",
    "msmt_stage = msmt_date_data[stage_label].round(3)\n",
    "\n",
    "# Note that the msmt_stage variable is still a dataframe\n",
    "print(msmt_stage)\n",
    "print('------')\n",
    "print('')\n",
    "\n",
    "# To get just the value, use the `.values` attribute \n",
    "# which returns an array\n",
    "msmt_stage = msmt_stage.values[0]\n",
    "print(f'The stage on {msmt_date} was {msmt_stage} m.')"
   ]
  },
  {
   "cell_type": "markdown",
   "metadata": {},
   "source": [
    "### Add the latest data to the discharge table.\n",
    "\n",
    "In Notebook 1, we calculated discharge using the salt dilution method.  Add this measurement to `rc_df` and see how it compares to the rest of the measurements.\n",
    "\n",
    ">**Note**: If you make a mistake in adding new discharge measurements, you should re-run the notebook from the cell where `rc_df` is first declared.  Otherwise the erroneous measurement will stay in your table!  Copy the line `rc_df.loc[len(rc_df)] = [pd.to_datetime(msmt_date), Q_calculated, msmt_stage]` and replace the `Q_calculated` and `msmt_stage` variables with random numbers a few times to convince yourself of the outcome.  "
   ]
  },
  {
   "cell_type": "code",
   "execution_count": 33,
   "metadata": {},
   "outputs": [
    {
     "data": {
      "text/html": [
       "<div>\n",
       "<style scoped>\n",
       "    .dataframe tbody tr th:only-of-type {\n",
       "        vertical-align: middle;\n",
       "    }\n",
       "\n",
       "    .dataframe tbody tr th {\n",
       "        vertical-align: top;\n",
       "    }\n",
       "\n",
       "    .dataframe thead th {\n",
       "        text-align: right;\n",
       "    }\n",
       "</style>\n",
       "<table border=\"1\" class=\"dataframe\">\n",
       "  <thead>\n",
       "    <tr style=\"text-align: right;\">\n",
       "      <th></th>\n",
       "      <th>Date</th>\n",
       "      <th>Flow (m3/s)</th>\n",
       "      <th>Water level (m)</th>\n",
       "    </tr>\n",
       "  </thead>\n",
       "  <tbody>\n",
       "    <tr>\n",
       "      <th>0</th>\n",
       "      <td>2009-01-02</td>\n",
       "      <td>1.565</td>\n",
       "      <td>0.236</td>\n",
       "    </tr>\n",
       "    <tr>\n",
       "      <th>1</th>\n",
       "      <td>2009-01-07</td>\n",
       "      <td>1.530</td>\n",
       "      <td>0.267</td>\n",
       "    </tr>\n",
       "    <tr>\n",
       "      <th>2</th>\n",
       "      <td>2009-03-20</td>\n",
       "      <td>0.967</td>\n",
       "      <td>0.224</td>\n",
       "    </tr>\n",
       "    <tr>\n",
       "      <th>3</th>\n",
       "      <td>2009-09-12</td>\n",
       "      <td>5.133</td>\n",
       "      <td>0.707</td>\n",
       "    </tr>\n",
       "    <tr>\n",
       "      <th>4</th>\n",
       "      <td>2009-11-10</td>\n",
       "      <td>3.402</td>\n",
       "      <td>0.468</td>\n",
       "    </tr>\n",
       "    <tr>\n",
       "      <th>5</th>\n",
       "      <td>2009-11-18</td>\n",
       "      <td>4.474</td>\n",
       "      <td>0.589</td>\n",
       "    </tr>\n",
       "    <tr>\n",
       "      <th>6</th>\n",
       "      <td>2010-03-24</td>\n",
       "      <td>1.297</td>\n",
       "      <td>0.296</td>\n",
       "    </tr>\n",
       "    <tr>\n",
       "      <th>7</th>\n",
       "      <td>2010-03-25</td>\n",
       "      <td>1.823</td>\n",
       "      <td>0.300</td>\n",
       "    </tr>\n",
       "    <tr>\n",
       "      <th>8</th>\n",
       "      <td>2010-08-25</td>\n",
       "      <td>4.682</td>\n",
       "      <td>0.632</td>\n",
       "    </tr>\n",
       "  </tbody>\n",
       "</table>\n",
       "</div>"
      ],
      "text/plain": [
       "        Date  Flow (m3/s)  Water level (m)\n",
       "0 2009-01-02        1.565            0.236\n",
       "1 2009-01-07        1.530            0.267\n",
       "2 2009-03-20        0.967            0.224\n",
       "3 2009-09-12        5.133            0.707\n",
       "4 2009-11-10        3.402            0.468\n",
       "5 2009-11-18        4.474            0.589\n",
       "6 2010-03-24        1.297            0.296\n",
       "7 2010-03-25        1.823            0.300\n",
       "8 2010-08-25        4.682            0.632"
      ]
     },
     "execution_count": 33,
     "metadata": {},
     "output_type": "execute_result"
    }
   ],
   "source": [
    "rc_df"
   ]
  },
  {
   "cell_type": "code",
   "execution_count": 34,
   "metadata": {},
   "outputs": [
    {
     "data": {
      "text/html": [
       "<div>\n",
       "<style scoped>\n",
       "    .dataframe tbody tr th:only-of-type {\n",
       "        vertical-align: middle;\n",
       "    }\n",
       "\n",
       "    .dataframe tbody tr th {\n",
       "        vertical-align: top;\n",
       "    }\n",
       "\n",
       "    .dataframe thead th {\n",
       "        text-align: right;\n",
       "    }\n",
       "</style>\n",
       "<table border=\"1\" class=\"dataframe\">\n",
       "  <thead>\n",
       "    <tr style=\"text-align: right;\">\n",
       "      <th></th>\n",
       "      <th>Date</th>\n",
       "      <th>Flow (m3/s)</th>\n",
       "      <th>Water level (m)</th>\n",
       "    </tr>\n",
       "  </thead>\n",
       "  <tbody>\n",
       "    <tr>\n",
       "      <th>0</th>\n",
       "      <td>2009-01-02</td>\n",
       "      <td>1.565</td>\n",
       "      <td>0.236</td>\n",
       "    </tr>\n",
       "    <tr>\n",
       "      <th>1</th>\n",
       "      <td>2009-01-07</td>\n",
       "      <td>1.530</td>\n",
       "      <td>0.267</td>\n",
       "    </tr>\n",
       "    <tr>\n",
       "      <th>2</th>\n",
       "      <td>2009-03-20</td>\n",
       "      <td>0.967</td>\n",
       "      <td>0.224</td>\n",
       "    </tr>\n",
       "    <tr>\n",
       "      <th>3</th>\n",
       "      <td>2009-09-12</td>\n",
       "      <td>5.133</td>\n",
       "      <td>0.707</td>\n",
       "    </tr>\n",
       "    <tr>\n",
       "      <th>4</th>\n",
       "      <td>2009-11-10</td>\n",
       "      <td>3.402</td>\n",
       "      <td>0.468</td>\n",
       "    </tr>\n",
       "    <tr>\n",
       "      <th>5</th>\n",
       "      <td>2009-11-18</td>\n",
       "      <td>4.474</td>\n",
       "      <td>0.589</td>\n",
       "    </tr>\n",
       "    <tr>\n",
       "      <th>6</th>\n",
       "      <td>2010-03-24</td>\n",
       "      <td>1.297</td>\n",
       "      <td>0.296</td>\n",
       "    </tr>\n",
       "    <tr>\n",
       "      <th>7</th>\n",
       "      <td>2010-03-25</td>\n",
       "      <td>1.823</td>\n",
       "      <td>0.300</td>\n",
       "    </tr>\n",
       "    <tr>\n",
       "      <th>8</th>\n",
       "      <td>2010-08-25</td>\n",
       "      <td>4.682</td>\n",
       "      <td>0.632</td>\n",
       "    </tr>\n",
       "    <tr>\n",
       "      <th>9</th>\n",
       "      <td>2010-09-26</td>\n",
       "      <td>12.000</td>\n",
       "      <td>1.313</td>\n",
       "    </tr>\n",
       "  </tbody>\n",
       "</table>\n",
       "</div>"
      ],
      "text/plain": [
       "        Date  Flow (m3/s)  Water level (m)\n",
       "0 2009-01-02        1.565            0.236\n",
       "1 2009-01-07        1.530            0.267\n",
       "2 2009-03-20        0.967            0.224\n",
       "3 2009-09-12        5.133            0.707\n",
       "4 2009-11-10        3.402            0.468\n",
       "5 2009-11-18        4.474            0.589\n",
       "6 2010-03-24        1.297            0.296\n",
       "7 2010-03-25        1.823            0.300\n",
       "8 2010-08-25        4.682            0.632\n",
       "9 2010-09-26       12.000            1.313"
      ]
     },
     "execution_count": 34,
     "metadata": {},
     "output_type": "execute_result"
    }
   ],
   "source": [
    "\n",
    "\n",
    "Q_calculated = 12 # enter the value you calculated from Notebook 1\n",
    "concurrent_stage = msmt_stage # we determined msmst_stage in the previous cell\n",
    "\n",
    "# Add the newly measured point to the rating curve (discharge data) dataframe\n",
    "next_idx = len(rc_df)\n",
    "# the .loc[] function is a way to index row(s) & column(s) of a table.\n",
    "# here we want to add a new complete row, so we use `:` to say \"all columns\"\n",
    "rc_df.loc[len(rc_df), :] = [msmt_date, Q_calculated, msmt_stage]\n",
    "\n",
    "# print out the updated dataframe and see the new point added\n",
    "rc_df"
   ]
  },
  {
   "cell_type": "markdown",
   "metadata": {},
   "source": [
    "### Plot a Curve Representing the Standard Stage-Discharge Relationship\n",
    "\n",
    "The standard stage-discharge relationship takes the form $Q = C(h-h_0)^b$ where:\n",
    "\n",
    "* Q = flow $[\\frac {m^3}{s}]$\n",
    "* C = rating coefficient $[-]$\n",
    "* $h_0$ = elevation offset $[m]$ corresponding to the point of zero flow\n",
    "* b = hydraulic control shape coefficient $[-]$\n",
    "\n",
    "The rating exponent (b) is related to some extent to the cross sectional shape of the hydraulic control.  Values for the rating exponent suggested by Environment Canada (2012) are as follows:\n",
    "\n",
    "| Shape | Value of exponent (b) |\n",
    "|---|---|\n",
    "| Rectangular | 1.3 to 1.8 |\n",
    "| Parabolic | 1.7 to 2.3 |\n",
    "| Triangular | 2.5 to 3 |\n"
   ]
  },
  {
   "cell_type": "code",
   "execution_count": 35,
   "metadata": {},
   "outputs": [],
   "source": [
    "# definition of rating curve: calculate Q from h, given the parameters.\n",
    "def calc_q(C, h, h0, b):\n",
    "    \"\"\"\n",
    "    Standard form of the rating curve equation.\n",
    "        Q = flow [m^3/s]\n",
    "        C = rating coefficient [-]\n",
    "        h0 = elevation offset [m] - corresponds to point of zero flow\n",
    "        b = hydraulic control shape coefficient [-]\n",
    "    Return volumetric flow [m^3/s]\n",
    "    \"\"\"\n",
    "    return C*(h-h0)**b"
   ]
  },
  {
   "cell_type": "markdown",
   "metadata": {},
   "source": [
    "Below are rating curve parameters (`h0`, `b`, `C`) that are **a simple visual fit** to the discharge data.  \n",
    "\n",
    "Try changing the values of `h0`, `b`, and `C` to see the effect on how the curve fits the measured discharge data."
   ]
  },
  {
   "cell_type": "code",
   "execution_count": 36,
   "metadata": {},
   "outputs": [],
   "source": [
    "h0 = -0.1   # offset parameter\n",
    "b = 1.8      # exponent (shape) parameter\n",
    "C = 8.0      # coefficient parameter\n",
    "\n",
    "# here, set a range of stage values over which\n",
    "# we will calculate discharge based on our rating curve parameters\n",
    "stage_range = np.linspace(0.001, 1.5, 100)\n",
    "\n",
    "# here we calculate flow (q) for every value of stage\n",
    "# we defined in stage_range above\n",
    "manual_fit_q = [calc_q(C, h, h0, b) for h in stage_range]"
   ]
  },
  {
   "cell_type": "code",
   "execution_count": 37,
   "metadata": {},
   "outputs": [
    {
     "data": {
      "image/png": "[encoded data removed]",
      "text/plain": [
       "<Figure size 720x432 with 1 Axes>"
      ]
     },
     "metadata": {
      "needs_background": "light"
     },
     "output_type": "display_data"
    }
   ],
   "source": [
    "fig, ax = plt.subplots(1, 1, figsize=(10,6))\n",
    "ax.plot(manual_fit_q, stage_range, label='Manual Fit RC')\n",
    "ax.plot(rc_df[q_measured].to_numpy(), rc_df[wl_measured].to_numpy(), \n",
    "           marker='o', color='g',\n",
    "           linestyle='',\n",
    "           label='Discharge measurements')\n",
    "ax.set_title('Stage - Discharge Rating Curve')\n",
    "ax.set_xlabel('Discharge [m^3/s]')\n",
    "ax.set_ylabel('Stage [m]')\n",
    "ax.legend()\n",
    "plt.show()"
   ]
  },
  {
   "cell_type": "markdown",
   "metadata": {},
   "source": [
    "## Curve Fitting Method\n",
    "\n",
    "Above, we plotted the stage-discharge curve using made up parameters for C, h0, and b.  We can use a \"guess-and-check\" method to change the parameters until they have a 'good' visual fit, but let's be more efficient and systematic and use a \"best fit\" method.\n",
    "\n",
    "Because our equation is not linear (normally $b \\neq 1$), we can't use the linear best fit function shown in Tutorial 1.  Or can we?\n",
    "\n",
    "Recall the rating curve equation from above is: $Q = C(H-h_0)^b$.  \n",
    "\n",
    "If we transform the data to log space, we get the following: $log(Q) = log(C) + b\\cdot log(h-h_0)$\n",
    "\n",
    "We can then rearrange the terms to match the linear form: $y = slope \\cdot x + intercept$.\n",
    "\n",
    "Recall the x and y axis parameters are discharge (Q) and water level (h), respectively, so the linear form of the equation is then: \n",
    "\n",
    "$$log(h-h_0) = slope \\cdot log(Q) + intercept$$\n",
    "\n",
    "Using this linear form of the equation, we can use the ordinary least squares (OLS) method to find the slope and intercept corresponding to the best fit line (in log-log space).  The last step is to transform the values back to linear space.\n",
    "\n",
    "Note that $h_0$ cannot be fitted this way, and has to be set manually. In this case we start by assuming $h_0=0$."
   ]
  },
  {
   "cell_type": "code",
   "execution_count": 38,
   "metadata": {},
   "outputs": [],
   "source": [
    "# Find the best-fit line in log-log space\n",
    "# set our stage offset to zero\n",
    "h0 = 0\n",
    "# take the logarithm of the measured streamflows and the stage\n",
    "q_log = np.log(rc_df['Flow (m3/s)'] - h0)\n",
    "stage_log = np.log(rc_df['Water level (m)'])\n",
    "\n",
    "# find the slope and intercept parameters describing the linear best fit using ordinary least squares (OLS)\n",
    "log_slope, log_intercept, log_rval, log_pval, log_stderr = st.linregress(q_log, stage_log)"
   ]
  },
  {
   "cell_type": "markdown",
   "metadata": {},
   "source": [
    "The linearized form of the best fit equation was shown in the last step: $log(h-h_0) = slope \\cdot log(Q) + intercept$.\n",
    "\n",
    "The `st.linregress` function solved the ordinary least squares best fit and yielded the `slope` and `intercept` of the best fit line, so we have two unknowns.  When we plotted the general stage-discharge curve above, we set a variable `stage_range` to evaluate the range of water level over which we're interested in knowing the corresponding flow.  The remaining unknown is then the `log(Q)` term, but we want a function that will give us the discharge (`Q`) in linear space.  \n",
    "\n",
    "### Solve for Q\n",
    "\n",
    "The last step is to rearrange the log form of the equation we derived previously ($log(h-h_0) = slope \\cdot log(Q) + intercept$) in order to solve for flow (`Q`).  "
   ]
  },
  {
   "cell_type": "code",
   "execution_count": 39,
   "metadata": {},
   "outputs": [],
   "source": [
    "# calculate the discharge based on the best fit\n",
    "# parameters found by ordinary least squares above\n",
    "def ols_rc_q(slope, intercept, h, h0):\n",
    "    \"\"\"\n",
    "    Calculate flow (Q) from the linear best fit parameters.\n",
    "        -slope: the `log_slope` calculated above (constant)\n",
    "        -intercept: `log_intercept` calculated above (constant)\n",
    "        -h0 is the same PZF offset used above (constant)\n",
    "        -h is the independent variable\n",
    "    Returns Q, the discharge in m^3/s.\n",
    "    \"\"\"\n",
    "    if slope == 0:\n",
    "        return 0\n",
    "    try:\n",
    "        return np.exp((np.log(h - h0) - intercept) / slope)\n",
    "    except ValueError: \n",
    "        return None"
   ]
  },
  {
   "cell_type": "code",
   "execution_count": 40,
   "metadata": {},
   "outputs": [],
   "source": [
    "# put best fit results into a dataframe for plotting\n",
    "# use 0 as the PZF (point of zero flow) (the h0 parameter)\n",
    "bf_df = pd.DataFrame()\n",
    "bf_df['stage'] = stage_range\n",
    "\n",
    "# now as before, apply the `ols_rc_q` function to create the stage-discharge\n",
    "# curve based on the best-fit equation\n",
    "bf_df['best_fit_q'] = [ols_rc_q(log_slope, log_intercept, h, 0) for h in stage_range]\n",
    "bf_df.sort_values(by='stage', inplace=True)\n",
    "\n",
    "# now add the manual fit we developed above -- this way we can compare the two curves side-by-side\n",
    "bf_df['manual_fit_q'] = manual_fit_q"
   ]
  },
  {
   "cell_type": "markdown",
   "metadata": {},
   "source": [
    "### Plot the best fit curve\n"
   ]
  },
  {
   "cell_type": "code",
   "execution_count": 41,
   "metadata": {},
   "outputs": [
    {
     "data": {
      "image/png": "[encoded data removed]",
      "text/plain": [
       "<Figure size 720x432 with 1 Axes>"
      ]
     },
     "metadata": {
      "needs_background": "light"
     },
     "output_type": "display_data"
    }
   ],
   "source": [
    "fig, ax = plt.subplots(1, 1, figsize=(10,6))\n",
    "ax.plot(manual_fit_q, stage_range, color='dodgerblue', label='Manual Fit RC')\n",
    "ax.plot(bf_df['best_fit_q'].to_numpy(), bf_df['stage'].to_numpy(),\n",
    "        color='green', label=\"OLS Best Fit\")\n",
    "\n",
    "ax.plot(rc_df[q_measured].to_numpy(), rc_df[wl_measured].to_numpy(), \n",
    "           marker='o', color='r',\n",
    "           linestyle='',\n",
    "           label='Discharge measurements')\n",
    "\n",
    "ax.set_title('Stage - Discharge Rating Curve')\n",
    "ax.set_xlabel('Discharge [m^3/s]')\n",
    "ax.set_ylabel('Stage [m]')\n",
    "ax.legend()\n",
    "plt.show()"
   ]
  },
  {
   "cell_type": "code",
   "execution_count": 42,
   "metadata": {},
   "outputs": [],
   "source": [
    "# if you want to export this data to continue working in excel (or another program)\n",
    "# You can call a function to write a dataframe directly to csv using the command below.\n",
    "# The string is the filename, and you can additionally add path information\n",
    "# just remove the '#' symbol at the start of the line below and execute this cell by pressing shift + enter, or by hitting the 'play' button at the top\n",
    "# bf_df.to_csv('rating_curve_data.csv')"
   ]
  },
  {
   "cell_type": "markdown",
   "metadata": {},
   "source": [
    "### Plot the Daily Average Hydrograph From the Rating Curve \n",
    "\n",
    "Now that we've established the relationship between stage and discharge, we can transform the continuous stage record into a continuous flow record.\n",
    "\n",
    "Apply the rating curve equation we developed above to the long-term water level (stage) time series from our hydrometric station.  Add the result as a new column in the `stage_df` dataframe.  Note the distinction between the stage measured during the discrete measurements, and the \"continuous\" stage (water level) recorded by our pressure transducer.  It is the pressure-transducer series we want to apply the rating curve equation to, not the water level from the discharge measurements!"
   ]
  },
  {
   "cell_type": "code",
   "execution_count": 43,
   "metadata": {},
   "outputs": [],
   "source": [
    "# calculate a dicharge based on the best fit or manually fit rating curve\n",
    "# for each water level recorded in the measured stage record (stage_df)\n",
    "\n",
    "stage_df.loc[:, 'RC Q (cms)'] = stage_df[stage_label].apply(lambda h: ols_rc_q(log_slope, log_intercept, h, 0))\n",
    "\n",
    "# add in the parameters we set manually\n",
    "stage_df.loc[:, 'Manual Q (cms)'] = stage_df[stage_label].apply(lambda h: calc_q(C, h, h0, b))\n"
   ]
  },
  {
   "cell_type": "code",
   "execution_count": 44,
   "metadata": {},
   "outputs": [
    {
     "data": {
      "text/html": [
       "<div>\n",
       "<style scoped>\n",
       "    .dataframe tbody tr th:only-of-type {\n",
       "        vertical-align: middle;\n",
       "    }\n",
       "\n",
       "    .dataframe tbody tr th {\n",
       "        vertical-align: top;\n",
       "    }\n",
       "\n",
       "    .dataframe thead th {\n",
       "        text-align: right;\n",
       "    }\n",
       "</style>\n",
       "<table border=\"1\" class=\"dataframe\">\n",
       "  <thead>\n",
       "    <tr style=\"text-align: right;\">\n",
       "      <th></th>\n",
       "      <th>Date</th>\n",
       "      <th>Water level (daily av.) (m)</th>\n",
       "      <th>RC Q (cms)</th>\n",
       "      <th>Manual Q (cms)</th>\n",
       "    </tr>\n",
       "  </thead>\n",
       "  <tbody>\n",
       "    <tr>\n",
       "      <th>0</th>\n",
       "      <td>2009-01-01</td>\n",
       "      <td>0.240</td>\n",
       "      <td>1.235033</td>\n",
       "      <td>0.613014</td>\n",
       "    </tr>\n",
       "    <tr>\n",
       "      <th>1</th>\n",
       "      <td>2009-01-02</td>\n",
       "      <td>0.236</td>\n",
       "      <td>1.206657</td>\n",
       "      <td>0.594746</td>\n",
       "    </tr>\n",
       "    <tr>\n",
       "      <th>2</th>\n",
       "      <td>2009-01-03</td>\n",
       "      <td>0.234</td>\n",
       "      <td>1.192538</td>\n",
       "      <td>0.585704</td>\n",
       "    </tr>\n",
       "    <tr>\n",
       "      <th>3</th>\n",
       "      <td>2009-01-04</td>\n",
       "      <td>0.233</td>\n",
       "      <td>1.185495</td>\n",
       "      <td>0.581207</td>\n",
       "    </tr>\n",
       "    <tr>\n",
       "      <th>4</th>\n",
       "      <td>2009-01-05</td>\n",
       "      <td>0.231</td>\n",
       "      <td>1.171445</td>\n",
       "      <td>0.572258</td>\n",
       "    </tr>\n",
       "    <tr>\n",
       "      <th>...</th>\n",
       "      <td>...</td>\n",
       "      <td>...</td>\n",
       "      <td>...</td>\n",
       "      <td>...</td>\n",
       "    </tr>\n",
       "    <tr>\n",
       "      <th>725</th>\n",
       "      <td>2010-12-27</td>\n",
       "      <td>0.288</td>\n",
       "      <td>1.589221</td>\n",
       "      <td>0.851131</td>\n",
       "    </tr>\n",
       "    <tr>\n",
       "      <th>726</th>\n",
       "      <td>2010-12-28</td>\n",
       "      <td>0.287</td>\n",
       "      <td>1.581594</td>\n",
       "      <td>0.845819</td>\n",
       "    </tr>\n",
       "    <tr>\n",
       "      <th>727</th>\n",
       "      <td>2010-12-29</td>\n",
       "      <td>0.265</td>\n",
       "      <td>1.416427</td>\n",
       "      <td>0.732711</td>\n",
       "    </tr>\n",
       "    <tr>\n",
       "      <th>728</th>\n",
       "      <td>2010-12-30</td>\n",
       "      <td>0.248</td>\n",
       "      <td>1.292328</td>\n",
       "      <td>0.650284</td>\n",
       "    </tr>\n",
       "    <tr>\n",
       "      <th>729</th>\n",
       "      <td>2010-12-31</td>\n",
       "      <td>0.242</td>\n",
       "      <td>1.249289</td>\n",
       "      <td>0.622240</td>\n",
       "    </tr>\n",
       "  </tbody>\n",
       "</table>\n",
       "<p>730 rows × 4 columns</p>\n",
       "</div>"
      ],
      "text/plain": [
       "          Date  Water level (daily av.) (m)  RC Q (cms)  Manual Q (cms)\n",
       "0   2009-01-01                        0.240    1.235033        0.613014\n",
       "1   2009-01-02                        0.236    1.206657        0.594746\n",
       "2   2009-01-03                        0.234    1.192538        0.585704\n",
       "3   2009-01-04                        0.233    1.185495        0.581207\n",
       "4   2009-01-05                        0.231    1.171445        0.572258\n",
       "..         ...                          ...         ...             ...\n",
       "725 2010-12-27                        0.288    1.589221        0.851131\n",
       "726 2010-12-28                        0.287    1.581594        0.845819\n",
       "727 2010-12-29                        0.265    1.416427        0.732711\n",
       "728 2010-12-30                        0.248    1.292328        0.650284\n",
       "729 2010-12-31                        0.242    1.249289        0.622240\n",
       "\n",
       "[730 rows x 4 columns]"
      ]
     },
     "execution_count": 44,
     "metadata": {},
     "output_type": "execute_result"
    }
   ],
   "source": [
    "stage_df"
   ]
  },
  {
   "cell_type": "code",
   "execution_count": 45,
   "metadata": {},
   "outputs": [],
   "source": [
    "# again, if you want to export this dataframe to csv for use in Excel\n",
    "# or other program, use the command below\n",
    "# stage_df.to_csv('derived_flow_series.csv')"
   ]
  },
  {
   "cell_type": "markdown",
   "metadata": {},
   "source": [
    "### Plot the Resulting Flow series and the rating curve\n",
    "\n",
    "The two plots below are linked.  Check the selection tools, and select points on one plot.  When validating data, it is helpful to be able to link the measurements on the rating curve plot and the daily flow series plot.  Consider how you would you check if the low flows were subject to a shift in the hydraulic control over time?    "
   ]
  },
  {
   "cell_type": "code",
   "execution_count": 46,
   "metadata": {},
   "outputs": [
    {
     "name": "stdout",
     "output_type": "stream",
     "text": [
      "Index(['Date', 'Water level (daily av.) (m)', 'RC Q (cms)', 'Manual Q (cms)'], dtype='object')\n",
      "Index(['Date', 'Flow (m3/s)', 'Water level (m)'], dtype='object')\n"
     ]
    }
   ],
   "source": [
    "print(stage_df.columns)\n",
    "print(rc_df.columns)"
   ]
  },
  {
   "cell_type": "code",
   "execution_count": 53,
   "metadata": {},
   "outputs": [
    {
     "data": {
      "text/html": [
       "\n",
       "\n",
       "\n",
       "\n",
       "\n",
       "\n",
       "  <div class=\"bk-root\" id=\"79a0ddb5-3ebf-42e0-a11a-af7cd5a69c59\" data-root-id=\"3656\"></div>\n"
      ]
     },
     "metadata": {},
     "output_type": "display_data"
    },
    {
     "data": {
      "application/javascript": "(function(root) {\n  function embed_document(root) {\n    \n  const docs_json = {\"9d688bfe-1f9b-4ffb-9504-19fca99a9fef\":{\"defs\":[],\"roots\":{\"references\":[{\"attributes\":{\"children\":[{\"id\":\"3655\"},{\"id\":\"3653\"}]},\"id\":\"3656\",\"type\":\"Column\"},{\"attributes\":{\"bottom_units\":\"screen\",\"coordinates\":null,\"fill_alpha\":0.5,\"fill_color\":\"lightgrey\",\"group\":null,\"left_units\":\"screen\",\"level\":\"overlay\",\"line_alpha\":1.0,\"line_color\":\"black\",\"line_dash\":[4,4],\"line_width\":2,\"right_units\":\"screen\",\"syncable\":false,\"top_units\":\"screen\"},\"id\":\"3420\",\"type\":\"BoxAnnotation\"},{\"attributes\":{},\"id\":\"3440\",\"type\":\"BasicTickFormatter\"},{\"attributes\":{},\"id\":\"3441\",\"type\":\"AllLabels\"},{\"attributes\":{\"axis\":{\"id\":\"3410\"},\"coordinates\":null,\"dimension\":1,\"group\":null,\"ticker\":null},\"id\":\"3413\",\"type\":\"Grid\"},{\"attributes\":{\"axis_label\":\"Stage (m)\",\"coordinates\":null,\"formatter\":{\"id\":\"3437\"},\"group\":null,\"major_label_policy\":{\"id\":\"3438\"},\"ticker\":{\"id\":\"3411\"}},\"id\":\"3410\",\"type\":\"LinearAxis\"},{\"attributes\":{},\"id\":\"3411\",\"type\":\"BasicTicker\"},{\"attributes\":{\"coordinates\":null,\"data_source\":{\"id\":\"3394\"},\"glyph\":{\"id\":\"3553\"},\"group\":null,\"hover_glyph\":null,\"muted_glyph\":{\"id\":\"3555\"},\"nonselection_glyph\":{\"id\":\"3554\"},\"view\":{\"id\":\"3557\"}},\"id\":\"3556\",\"type\":\"GlyphRenderer\"},{\"attributes\":{\"overlay\":{\"id\":\"3421\"}},\"id\":\"3418\",\"type\":\"PolySelectTool\"},{\"attributes\":{},\"id\":\"3415\",\"type\":\"WheelZoomTool\"},{\"attributes\":{},\"id\":\"3414\",\"type\":\"PanTool\"},{\"attributes\":{},\"id\":\"3416\",\"type\":\"ResetTool\"},{\"attributes\":{\"callback\":null},\"id\":\"3417\",\"type\":\"HoverTool\"},{\"attributes\":{\"overlay\":{\"id\":\"3420\"}},\"id\":\"3419\",\"type\":\"BoxSelectTool\"},{\"attributes\":{},\"id\":\"3442\",\"type\":\"UnionRenderers\"},{\"attributes\":{\"source\":{\"id\":\"3393\"}},\"id\":\"3434\",\"type\":\"CDSView\"},{\"attributes\":{},\"id\":\"3443\",\"type\":\"Selection\"},{\"attributes\":{\"label\":{\"value\":\"Measured Q\"},\"renderers\":[{\"id\":\"3433\"}]},\"id\":\"3447\",\"type\":\"LegendItem\"},{\"attributes\":{\"mantissas\":[1,2,5],\"max_interval\":500.0,\"num_minor_ticks\":0},\"id\":\"3538\",\"type\":\"AdaptiveTicker\"},{\"attributes\":{\"coordinates\":null,\"fill_alpha\":0.5,\"fill_color\":\"lightgrey\",\"group\":null,\"level\":\"overlay\",\"line_alpha\":1.0,\"line_color\":\"black\",\"line_dash\":[4,4],\"line_width\":2,\"syncable\":false,\"xs_units\":\"screen\",\"ys_units\":\"screen\"},\"id\":\"3421\",\"type\":\"PolyAnnotation\"},{\"attributes\":{\"base\":60,\"mantissas\":[1,2,5,10,15,20,30],\"max_interval\":1800000.0,\"min_interval\":1000.0,\"num_minor_ticks\":0},\"id\":\"3539\",\"type\":\"AdaptiveTicker\"},{\"attributes\":{\"days\":[1,2,3,4,5,6,7,8,9,10,11,12,13,14,15,16,17,18,19,20,21,22,23,24,25,26,27,28,29,30,31]},\"id\":\"3541\",\"type\":\"DaysTicker\"},{\"attributes\":{\"line_alpha\":0.1,\"line_color\":\"green\",\"x\":{\"field\":\"Date\"},\"y\":{\"field\":\"RC Q (cms)\"}},\"id\":\"3524\",\"type\":\"Line\"},{\"attributes\":{\"base\":24,\"mantissas\":[1,2,4,6,8,12],\"max_interval\":43200000.0,\"min_interval\":3600000.0,\"num_minor_ticks\":0},\"id\":\"3540\",\"type\":\"AdaptiveTicker\"},{\"attributes\":{\"months\":[0,1,2,3,4,5,6,7,8,9,10,11]},\"id\":\"3545\",\"type\":\"MonthsTicker\"},{\"attributes\":{\"months\":[0,2,4,6,8,10]},\"id\":\"3546\",\"type\":\"MonthsTicker\"},{\"attributes\":{},\"id\":\"3505\",\"type\":\"BasicTicker\"},{\"attributes\":{\"days\":[1,4,7,10,13,16,19,22,25,28]},\"id\":\"3542\",\"type\":\"DaysTicker\"},{\"attributes\":{\"days\":[1,15]},\"id\":\"3544\",\"type\":\"DaysTicker\"},{\"attributes\":{\"months\":[0,6]},\"id\":\"3548\",\"type\":\"MonthsTicker\"},{\"attributes\":{\"days\":[1,8,15,22]},\"id\":\"3543\",\"type\":\"DaysTicker\"},{\"attributes\":{},\"id\":\"3549\",\"type\":\"YearsTicker\"},{\"attributes\":{\"months\":[0,4,8]},\"id\":\"3547\",\"type\":\"MonthsTicker\"},{\"attributes\":{\"coordinates\":null,\"data_source\":{\"id\":\"3393\"},\"glyph\":{\"id\":\"3430\"},\"group\":null,\"hover_glyph\":null,\"muted_glyph\":{\"id\":\"3432\"},\"nonselection_glyph\":{\"id\":\"3431\"},\"view\":{\"id\":\"3434\"}},\"id\":\"3433\",\"type\":\"GlyphRenderer\"},{\"attributes\":{\"tools\":[{\"id\":\"3414\"},{\"id\":\"3415\"},{\"id\":\"3416\"},{\"id\":\"3417\"},{\"id\":\"3418\"},{\"id\":\"3419\"}]},\"id\":\"3422\",\"type\":\"Toolbar\"},{\"attributes\":{\"fill_alpha\":{\"value\":0.2},\"fill_color\":{\"value\":\"red\"},\"hatch_alpha\":{\"value\":0.2},\"hatch_color\":{\"value\":\"red\"},\"line_alpha\":{\"value\":0.2},\"line_color\":{\"value\":\"red\"},\"size\":{\"value\":5},\"x\":{\"field\":\"Flow (m3/s)\"},\"y\":{\"field\":\"Water level (m)\"}},\"id\":\"3432\",\"type\":\"Circle\"},{\"attributes\":{\"coordinates\":null,\"group\":null,\"items\":[{\"id\":\"3447\"},{\"id\":\"3467\"},{\"id\":\"3489\"}],\"location\":\"bottom_right\"},\"id\":\"3446\",\"type\":\"Legend\"},{\"attributes\":{\"label\":{\"value\":\"Manual Fit\"},\"renderers\":[{\"id\":\"3452\"}]},\"id\":\"3467\",\"type\":\"LegendItem\"},{\"attributes\":{\"line_alpha\":0.2,\"line_color\":\"dodgerblue\",\"x\":{\"field\":\"x\"},\"y\":{\"field\":\"y\"}},\"id\":\"3451\",\"type\":\"Line\"},{\"attributes\":{\"coordinates\":null,\"data_source\":{\"id\":\"3468\"},\"glyph\":{\"id\":\"3469\"},\"group\":null,\"hover_glyph\":null,\"muted_glyph\":{\"id\":\"3471\"},\"nonselection_glyph\":{\"id\":\"3470\"},\"view\":{\"id\":\"3473\"}},\"id\":\"3472\",\"type\":\"GlyphRenderer\"},{\"attributes\":{\"below\":[{\"id\":\"3500\"}],\"center\":[{\"id\":\"3503\"},{\"id\":\"3507\"},{\"id\":\"3550\"}],\"height\":400,\"left\":[{\"id\":\"3504\"}],\"renderers\":[{\"id\":\"3526\"},{\"id\":\"3556\"},{\"id\":\"3585\"}],\"title\":{\"id\":\"3491\"},\"toolbar\":{\"id\":\"3515\"},\"toolbar_location\":null,\"width\":550,\"x_range\":{\"id\":\"3493\"},\"x_scale\":{\"id\":\"3496\"},\"y_range\":{\"id\":\"3398\"},\"y_scale\":{\"id\":\"3498\"}},\"id\":\"3490\",\"subtype\":\"Figure\",\"type\":\"Plot\"},{\"attributes\":{\"coordinates\":null,\"data_source\":{\"id\":\"3394\"},\"glyph\":{\"id\":\"3523\"},\"group\":null,\"hover_glyph\":null,\"muted_glyph\":{\"id\":\"3525\"},\"nonselection_glyph\":{\"id\":\"3524\"},\"view\":{\"id\":\"3527\"}},\"id\":\"3526\",\"type\":\"GlyphRenderer\"},{\"attributes\":{},\"id\":\"3438\",\"type\":\"AllLabels\"},{\"attributes\":{\"data\":{\"x\":{\"__ndarray__\":\"q2Oe4KirRD87mZTZj0CeP7TUETSK4rI/8TmLrrxMwD8gQpvMdBXIP2Im431aUtA/lPivqn3w1D9aAdlJ9tvZPxk7rI/GDd8/cERZ4DFA4j+TNAXHoxflP8TM7zpVC+g/f227wqoZ6z8/v80mQUHuP9Tev/lwwPA/XgBBf71r8j8HZU7/CyL0P5ElXc3u4vU/9GeJxAKu9z8iUvO77YL5P6QuJUddYfs/VjLKsAVJ/T/HXcYioTn/PwGCCnl3mQBAb3mYg1maAUA1K7+uWp8CQAB5t8pgqANATM4DS1O1BEB7t5AdG8YFQOvuJIei2gZAKy5HBNXyB0DvEOktnw4JQG2JRqHuLQpAFuaC6rFQC0CJxKBx2HYMQHCugmlSoA1AhWCvwBDNDkAsjZ8TBf0PQGLlMdAQmBBAO1i8nSwzEUAqm9Kiz88RQEs/YtHzbRJA6jWwWJMNE0Aj/YKhqK4TQBqsn0ouURRAoiSRJR/1FEBqyLEzdpoVQNT+cKMuQRZAj6bOzUPpFkDuPgc0sZIXQEQubH1yPRhAYw9kdYPpGEDFY48J4JYZQPdsDkiERRpApUflXWz1GkBcsHuVlKYbQPQdNlX5WBxARRkmHpcMHUBw78+KasEdQB4KBE5wdx5AMGPKMaUuH0B/rl4WBucfQHz6nfhHUCBA6jwb5p+tIEDVblFiiQshQNjERAUDaiFA98HybwvJIUCM7/ZLoSgiQGmFNEvDiCJAKKyEJ3DpIkCaCmmipkojQK5VwoRlrCNAIqCKnqsOJEDsK5PGd3EkQPCERdrI1CRAC7BnvZ04JUAIPuNZ9ZwlQG0Vj5/OASZAT8n7gyhnJkCWVkICAs0mQJIj1RpaMydAlCBT0y+aJ0BR6lw2ggEoQCfRa1NQaShANKqqPpnRKEASUdAQXDopQLXC++aXoylAQbuR4ksNKkCLwhspd3cqQM2TKOQY4ipAi84tQTBNK0DM32pxvLgrQMcTzam8JCxAC8HUIjCRLEA9f3sYFv4sQDlcG8ptay1AHgNXejbZLUDIyQJvb0cuQJmZDvEXti5ASKlwTC8lL0A=\",\"dtype\":\"float64\",\"order\":\"little\",\"shape\":[100]},\"y\":{\"__ndarray__\":\"/Knx0k1iUD9m7mT3X4eQPxZhzYhNBKA/+UroFevEpz/cNAOjiIWvP2APDxgTo7M/UYSc3mGDtz9C+SmlsGO7PzRut2v/Q78/k3EiGSeSwT8MLGl8ToLDP4Tmr991csU//aD2Qp1ixz92Wz2mxFLJP+4VhAnsQss/Z9DKbBMzzT/gihHQOiPPP6wirBmxidA/6X9Py8SB0T8l3fJ82HnSP2I6li7scdM/npc54P9p1D/a9NyRE2LVPxdSgEMnWtY/U68j9TpS1z+PDMemTkrYP8xpalhiQtk/CMcNCnY62j9EJLG7iTLbP4GBVG2dKtw/vd73HrEi3T/6O5vQxBrePzaZPoLYEt8/OfvwGXYF4D/XqcLyf4HgP3ZYlMuJ/eA/FAdmpJN54T+ytTd9nfXhP1BkCVanceI/7hLbLrHt4j+NwawHu2njPytwfuDE5eM/yR5Quc5h5D9nzSGS2N3kPwV882riWeU/oyrFQ+zV5T9C2ZYc9lHmP+CHaPX/zeY/fjY6zglK5z8c5QunE8bnP7qT3X8dQug/WUKvWCe+6D/38IAxMTrpP5WfUgo7tuk/M04k40Qy6j/R/PW7Tq7qP2+rx5RYKus/DlqZbWKm6z+sCGtGbCLsP0q3PB92nuw/6GUO+H8a7T+GFODQiZbtPyXDsamTEu4/w3GDgp2O7j9hIFVbpwrvP//OJjSxhu8/zj58hl0B8D8dFuVyYj/wP2ztTV9nffA/u8S2S2y78D8LnB84cfnwP1pziCR2N/E/qUrxEHt18T/4IVr9f7PxP0f5wumE8fE/ltAr1okv8j/lp5TCjm3yPzR//a6Tq/I/g1Zmm5jp8j/SLc+HnSfzPyIFOHSiZfM/cdygYKej8z/AswlNrOHzPw+LcjmxH/Q/XmLbJbZd9D+tOUQSu5v0P/wQrf6/2fQ/S+gV68QX9T+av37XyVX1P+mW58POk/U/OG5QsNPR9T+IRbmc2A/2P9ccIondTfY/JvSKdeKL9j91y/Nh58n2P8SiXE7sB/c/E3rFOvFF9z9iUS4n9oP3P7EolxP7wfc/AAAAAAAA+D8=\",\"dtype\":\"float64\",\"order\":\"little\",\"shape\":[100]}},\"selected\":{\"id\":\"3486\"},\"selection_policy\":{\"id\":\"3485\"}},\"id\":\"3468\",\"type\":\"ColumnDataSource\"},{\"attributes\":{\"line_color\":\"dodgerblue\",\"x\":{\"field\":\"x\"},\"y\":{\"field\":\"y\"}},\"id\":\"3449\",\"type\":\"Line\"},{\"attributes\":{},\"id\":\"3463\",\"type\":\"UnionRenderers\"},{\"attributes\":{\"source\":{\"id\":\"3448\"}},\"id\":\"3453\",\"type\":\"CDSView\"},{\"attributes\":{\"line_alpha\":0.1,\"line_color\":\"dodgerblue\",\"x\":{\"field\":\"x\"},\"y\":{\"field\":\"y\"}},\"id\":\"3450\",\"type\":\"Line\"},{\"attributes\":{},\"id\":\"3464\",\"type\":\"Selection\"},{\"attributes\":{},\"id\":\"3437\",\"type\":\"BasicTickFormatter\"},{\"attributes\":{\"bottom_units\":\"screen\",\"coordinates\":null,\"fill_alpha\":0.5,\"fill_color\":\"lightgrey\",\"group\":null,\"left_units\":\"screen\",\"level\":\"overlay\",\"line_alpha\":1.0,\"line_color\":\"black\",\"line_dash\":[4,4],\"line_width\":2,\"right_units\":\"screen\",\"syncable\":false,\"top_units\":\"screen\"},\"id\":\"3514\",\"type\":\"BoxAnnotation\"},{\"attributes\":{\"tools\":[{\"id\":\"3508\"},{\"id\":\"3509\"},{\"id\":\"3510\"},{\"id\":\"3511\"},{\"id\":\"3512\"},{\"id\":\"3513\"}]},\"id\":\"3515\",\"type\":\"Toolbar\"},{\"attributes\":{\"coordinates\":null,\"group\":null,\"items\":[{\"id\":\"3551\"},{\"id\":\"3580\"},{\"id\":\"3611\"}],\"location\":\"top_left\"},\"id\":\"3550\",\"type\":\"Legend\"},{\"attributes\":{\"fill_alpha\":{\"value\":0.8},\"fill_color\":{\"value\":\"red\"},\"hatch_alpha\":{\"value\":0.8},\"hatch_color\":{\"value\":\"red\"},\"line_alpha\":{\"value\":0.8},\"line_color\":{\"value\":\"red\"},\"size\":{\"value\":5},\"x\":{\"field\":\"Date\"},\"y\":{\"field\":\"Flow (m3/s)\"}},\"id\":\"3582\",\"type\":\"Circle\"},{\"attributes\":{\"line_alpha\":0.1,\"line_color\":\"dodgerblue\",\"x\":{\"field\":\"Date\"},\"y\":{\"field\":\"Manual Q (cms)\"}},\"id\":\"3554\",\"type\":\"Line\"},{\"attributes\":{\"fill_alpha\":{\"value\":0.1},\"fill_color\":{\"value\":\"red\"},\"hatch_alpha\":{\"value\":0.1},\"hatch_color\":{\"value\":\"red\"},\"line_alpha\":{\"value\":0.1},\"line_color\":{\"value\":\"red\"},\"size\":{\"value\":5},\"x\":{\"field\":\"Date\"},\"y\":{\"field\":\"Flow (m3/s)\"}},\"id\":\"3583\",\"type\":\"Circle\"},{\"attributes\":{\"line_color\":\"dodgerblue\",\"x\":{\"field\":\"Date\"},\"y\":{\"field\":\"Manual Q (cms)\"}},\"id\":\"3553\",\"type\":\"Line\"},{\"attributes\":{\"line_alpha\":0.2,\"line_color\":\"dodgerblue\",\"x\":{\"field\":\"Date\"},\"y\":{\"field\":\"Manual Q (cms)\"}},\"id\":\"3555\",\"type\":\"Line\"},{\"attributes\":{\"source\":{\"id\":\"3394\"}},\"id\":\"3557\",\"type\":\"CDSView\"},{\"attributes\":{\"label\":{\"value\":\"Manual RC Flow\"},\"renderers\":[{\"id\":\"3556\"}]},\"id\":\"3580\",\"type\":\"LegendItem\"},{\"attributes\":{},\"id\":\"3486\",\"type\":\"Selection\"},{\"attributes\":{\"data\":{\"Date\":{\"__ndarray__\":\"AACAOkrpcUIAAEA35upxQgAAQNUSAnJCAABAybg6ckIAAIA8tk1yQgAAgGpJUHJCAAAAf9d4ckIAAMDkKXlyQgAAgLRoqnJCAACAbLW0ckI=\",\"dtype\":\"float64\",\"order\":\"little\",\"shape\":[10]},\"Flow (m3/s)\":{\"__ndarray__\":\"CtejcD0K+T97FK5H4Xr4P4ts5/up8e4/1XjpJjGIFECe76fGSzcLQEw3iUFg5RFAjZduEoPA9D9eukkMAiv9P+58PzVeuhJAAAAAAAAAKEA=\",\"dtype\":\"float64\",\"order\":\"little\",\"shape\":[10]},\"Water level (m)\":{\"__ndarray__\":\"aJHtfD81zj9KDAIrhxbRP3npJjEIrMw/ObTIdr6f5j/ByqFFtvPdPwwCK4cW2eI/i2zn+6nx0j8zMzMzMzPTP9NNYhBYOeQ/NV66SQwC9T8=\",\"dtype\":\"float64\",\"order\":\"little\",\"shape\":[10]},\"index\":[0,1,2,3,4,5,6,7,8,9]},\"selected\":{\"id\":\"3443\"},\"selection_policy\":{\"id\":\"3442\"}},\"id\":\"3393\",\"type\":\"ColumnDataSource\"},{\"attributes\":{\"below\":[{\"id\":\"3406\"}],\"center\":[{\"id\":\"3409\"},{\"id\":\"3413\"},{\"id\":\"3446\"}],\"height\":400,\"left\":[{\"id\":\"3410\"}],\"renderers\":[{\"id\":\"3433\"},{\"id\":\"3452\"},{\"id\":\"3472\"}],\"title\":{\"id\":\"3396\"},\"toolbar\":{\"id\":\"3422\"},\"toolbar_location\":null,\"width\":550,\"x_range\":{\"id\":\"3398\"},\"x_scale\":{\"id\":\"3402\"},\"y_range\":{\"id\":\"3400\"},\"y_scale\":{\"id\":\"3404\"}},\"id\":\"3395\",\"subtype\":\"Figure\",\"type\":\"Plot\"},{\"attributes\":{\"coordinates\":null,\"data_source\":{\"id\":\"3448\"},\"glyph\":{\"id\":\"3449\"},\"group\":null,\"hover_glyph\":null,\"muted_glyph\":{\"id\":\"3451\"},\"nonselection_glyph\":{\"id\":\"3450\"},\"view\":{\"id\":\"3453\"}},\"id\":\"3452\",\"type\":\"GlyphRenderer\"},{\"attributes\":{},\"id\":\"3485\",\"type\":\"UnionRenderers\"},{\"attributes\":{\"coordinates\":null,\"group\":null,\"text\":\"Rating Curve Plot\"},\"id\":\"3396\",\"type\":\"Title\"},{\"attributes\":{\"data\":{\"x\":[0.12908282451100986,0.1659842133248819,0.20694943773913288,0.2518798124855584,0.3006895095261458,0.3533027815596579,0.4096519811729917,0.46967610054603626,0.5333196655658702,0.6005318792937172,0.6712659457789726,0.7454785274161557,0.8231293032154441,0.9041806046920848,0.9885971123947462,1.0763456004666323,1.1673947197264198,1.261714811984723,1.359277749944484,1.4600567982479256,1.5640264921481368,1.6711625309821068,1.7814416841615515,1.894841707818755,2.011341270576193,2.130919887172223,2.2535578588862513,2.3792362198773276,2.5079366886887855,2.6396416242851073,2.774333986080753,2.911997297498252,3.0526156126574606,3.1961734858520665,3.3426559435149863,3.4920484584128753,3.6443369258427216,3.7995076416314695,3.957547281763519,4.118442883481587,4.282181827724137,4.448751822777981,4.618140889038054,4.790337344777923,4.965329792844871,5.143107108202255,5.323658426249687,5.506973131858523,5.693040849066239,5.8818514313786725,6.073394952633916,6.267661698385944,6.46464215776981,6.664327015813735,6.866707146166361,7.071773604210265,7.279517620535229,7.489930594746993,7.7030040895892276,7.918729825358233,8.137099674591546,8.358105657013052,8.58173993471864,8.807994807587532,9.036862708905668,9.268336201188404,9.502407972190827,9.739070831094748,9.978317704862262,10.220141634746438,10.464535772950395,10.711493379426539,10.96100781880842,11.213072557468019,11.46768116069184,11.724827289969618,11.98450470038979,12.246707238136278,12.51142883808149,12.778663521470744,13.048405393693578,13.320648642137755,13.595387534121981,13.872616414903545,14.152329705757406,14.434521902123377,14.719187571818281,15.006321353310122,15.295917954051452,15.587972148869351,15.882478778409467,16.17943274763179,16.4788290243559,16.78066263785364,17.084928677487106,17.391622291390114,17.700738685191382,18.01227312077761,18.326220915094915,18.642577438987065],\"y\":{\"__ndarray__\":\"/Knx0k1iUD9m7mT3X4eQPxZhzYhNBKA/+UroFevEpz/cNAOjiIWvP2APDxgTo7M/UYSc3mGDtz9C+SmlsGO7PzRut2v/Q78/k3EiGSeSwT8MLGl8ToLDP4Tmr991csU//aD2Qp1ixz92Wz2mxFLJP+4VhAnsQss/Z9DKbBMzzT/gihHQOiPPP6wirBmxidA/6X9Py8SB0T8l3fJ82HnSP2I6li7scdM/npc54P9p1D/a9NyRE2LVPxdSgEMnWtY/U68j9TpS1z+PDMemTkrYP8xpalhiQtk/CMcNCnY62j9EJLG7iTLbP4GBVG2dKtw/vd73HrEi3T/6O5vQxBrePzaZPoLYEt8/OfvwGXYF4D/XqcLyf4HgP3ZYlMuJ/eA/FAdmpJN54T+ytTd9nfXhP1BkCVanceI/7hLbLrHt4j+NwawHu2njPytwfuDE5eM/yR5Quc5h5D9nzSGS2N3kPwV882riWeU/oyrFQ+zV5T9C2ZYc9lHmP+CHaPX/zeY/fjY6zglK5z8c5QunE8bnP7qT3X8dQug/WUKvWCe+6D/38IAxMTrpP5WfUgo7tuk/M04k40Qy6j/R/PW7Tq7qP2+rx5RYKus/DlqZbWKm6z+sCGtGbCLsP0q3PB92nuw/6GUO+H8a7T+GFODQiZbtPyXDsamTEu4/w3GDgp2O7j9hIFVbpwrvP//OJjSxhu8/zj58hl0B8D8dFuVyYj/wP2ztTV9nffA/u8S2S2y78D8LnB84cfnwP1pziCR2N/E/qUrxEHt18T/4IVr9f7PxP0f5wumE8fE/ltAr1okv8j/lp5TCjm3yPzR//a6Tq/I/g1Zmm5jp8j/SLc+HnSfzPyIFOHSiZfM/cdygYKej8z/AswlNrOHzPw+LcjmxH/Q/XmLbJbZd9D+tOUQSu5v0P/wQrf6/2fQ/S+gV68QX9T+av37XyVX1P+mW58POk/U/OG5QsNPR9T+IRbmc2A/2P9ccIondTfY/JvSKdeKL9j91y/Nh58n2P8SiXE7sB/c/E3rFOvFF9z9iUS4n9oP3P7EolxP7wfc/AAAAAAAA+D8=\",\"dtype\":\"float64\",\"order\":\"little\",\"shape\":[100]}},\"selected\":{\"id\":\"3464\"},\"selection_policy\":{\"id\":\"3463\"}},\"id\":\"3448\",\"type\":\"ColumnDataSource\"},{\"attributes\":{\"line_alpha\":0.2,\"line_color\":\"green\",\"x\":{\"field\":\"x\"},\"y\":{\"field\":\"y\"}},\"id\":\"3471\",\"type\":\"Line\"},{\"attributes\":{\"source\":{\"id\":\"3394\"}},\"id\":\"3527\",\"type\":\"CDSView\"},{\"attributes\":{\"line_alpha\":0.1,\"line_color\":\"green\",\"x\":{\"field\":\"x\"},\"y\":{\"field\":\"y\"}},\"id\":\"3470\",\"type\":\"Line\"},{\"attributes\":{\"label\":{\"value\":\"OLS-based RC Flow\"},\"renderers\":[{\"id\":\"3526\"}]},\"id\":\"3551\",\"type\":\"LegendItem\"},{\"attributes\":{\"axis\":{\"id\":\"3500\"},\"coordinates\":null,\"group\":null,\"ticker\":null},\"id\":\"3503\",\"type\":\"Grid\"},{\"attributes\":{\"line_alpha\":0.2,\"line_color\":\"green\",\"x\":{\"field\":\"Date\"},\"y\":{\"field\":\"RC Q (cms)\"}},\"id\":\"3525\",\"type\":\"Line\"},{\"attributes\":{\"line_color\":\"green\",\"x\":{\"field\":\"x\"},\"y\":{\"field\":\"y\"}},\"id\":\"3469\",\"type\":\"Line\"},{\"attributes\":{\"coordinates\":null,\"data_source\":{\"id\":\"3393\"},\"glyph\":{\"id\":\"3582\"},\"group\":null,\"hover_glyph\":null,\"muted_glyph\":{\"id\":\"3584\"},\"nonselection_glyph\":{\"id\":\"3583\"},\"view\":{\"id\":\"3586\"}},\"id\":\"3585\",\"type\":\"GlyphRenderer\"},{\"attributes\":{\"source\":{\"id\":\"3468\"}},\"id\":\"3473\",\"type\":\"CDSView\"},{\"attributes\":{},\"id\":\"3493\",\"type\":\"DataRange1d\"},{\"attributes\":{\"source\":{\"id\":\"3393\"}},\"id\":\"3586\",\"type\":\"CDSView\"},{\"attributes\":{\"line_color\":\"green\",\"x\":{\"field\":\"Date\"},\"y\":{\"field\":\"RC Q (cms)\"}},\"id\":\"3523\",\"type\":\"Line\"},{\"attributes\":{\"label\":{\"value\":\"OLS Fit\"},\"renderers\":[{\"id\":\"3472\"}]},\"id\":\"3489\",\"type\":\"LegendItem\"},{\"attributes\":{\"axis\":{\"id\":\"3406\"},\"coordinates\":null,\"group\":null,\"ticker\":null},\"id\":\"3409\",\"type\":\"Grid\"},{\"attributes\":{\"children\":[[{\"id\":\"3395\"},0,0],[{\"id\":\"3490\"},0,1]]},\"id\":\"3653\",\"type\":\"GridBox\"},{\"attributes\":{},\"id\":\"3404\",\"type\":\"LinearScale\"},{\"attributes\":{\"fill_alpha\":{\"value\":0.5},\"fill_color\":{\"value\":\"red\"},\"hatch_alpha\":{\"value\":0.5},\"hatch_color\":{\"value\":\"red\"},\"line_alpha\":{\"value\":0.5},\"line_color\":{\"value\":\"red\"},\"size\":{\"value\":5},\"x\":{\"field\":\"Flow (m3/s)\"},\"y\":{\"field\":\"Water level (m)\"}},\"id\":\"3430\",\"type\":\"Circle\"},{\"attributes\":{},\"id\":\"3512\",\"type\":\"ResetTool\"},{\"attributes\":{\"label\":{\"value\":\"Measured Q\"},\"renderers\":[{\"id\":\"3585\"}]},\"id\":\"3611\",\"type\":\"LegendItem\"},{\"attributes\":{\"fill_alpha\":{\"value\":0.2},\"fill_color\":{\"value\":\"red\"},\"hatch_alpha\":{\"value\":0.2},\"hatch_color\":{\"value\":\"red\"},\"line_alpha\":{\"value\":0.2},\"line_color\":{\"value\":\"red\"},\"size\":{\"value\":5},\"x\":{\"field\":\"Date\"},\"y\":{\"field\":\"Flow (m3/s)\"}},\"id\":\"3584\",\"type\":\"Circle\"},{\"attributes\":{},\"id\":\"3536\",\"type\":\"Selection\"},{\"attributes\":{},\"id\":\"3508\",\"type\":\"PanTool\"},{\"attributes\":{\"fill_alpha\":{\"value\":0.1},\"fill_color\":{\"value\":\"red\"},\"hatch_alpha\":{\"value\":0.1},\"hatch_color\":{\"value\":\"red\"},\"line_alpha\":{\"value\":0.1},\"line_color\":{\"value\":\"red\"},\"size\":{\"value\":5},\"x\":{\"field\":\"Flow (m3/s)\"},\"y\":{\"field\":\"Water level (m)\"}},\"id\":\"3431\",\"type\":\"Circle\"},{\"attributes\":{},\"id\":\"3407\",\"type\":\"BasicTicker\"},{\"attributes\":{},\"id\":\"3509\",\"type\":\"WheelZoomTool\"},{\"attributes\":{\"axis_label\":\"Flow (m\\u00b3/s)\",\"coordinates\":null,\"formatter\":{\"id\":\"3440\"},\"group\":null,\"major_label_policy\":{\"id\":\"3441\"},\"ticker\":{\"id\":\"3407\"}},\"id\":\"3406\",\"type\":\"LinearAxis\"},{\"attributes\":{},\"id\":\"3530\",\"type\":\"BasicTickFormatter\"},{\"attributes\":{},\"id\":\"3535\",\"type\":\"UnionRenderers\"},{\"attributes\":{},\"id\":\"3496\",\"type\":\"LinearScale\"},{\"attributes\":{\"data\":{\"Date\":{\"__ndarray__\":\"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\",\"dtype\":\"float64\",\"order\":\"little\",\"shape\":[730]},\"Manual Q (cms)\":{\"__ndarray__\":\"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\",\"dtype\":\"float64\",\"order\":\"little\",\"shape\":[730]},\"RC Q (cms)\":{\"__ndarray__\":\"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\",\"dtype\":\"float64\",\"order\":\"little\",\"shape\":[730]},\"Water level (daily av.) (m)\":{\"__ndarray__\":\"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\",\"dtype\":\"float64\",\"order\":\"little\",\"shape\":[730]},\"index\":[0,1,2,3,4,5,6,7,8,9,10,11,12,13,14,15,16,17,18,19,20,21,22,23,24,25,26,27,28,29,30,31,32,33,34,35,36,37,38,39,40,41,42,43,44,45,46,47,48,49,50,51,52,53,54,55,56,57,58,59,60,61,62,63,64,65,66,67,68,69,70,71,72,73,74,75,76,77,78,79,80,81,82,83,84,85,86,87,88,89,90,91,92,93,94,95,96,97,98,99,100,101,102,103,104,105,106,107,108,109,110,111,112,113,114,115,116,117,118,119,120,121,122,123,124,125,126,127,128,129,130,131,132,133,134,135,136,137,138,139,140,141,142,143,144,145,146,147,148,149,150,151,152,153,154,155,156,157,158,159,160,161,162,163,164,165,166,167,168,169,170,171,172,173,174,175,176,177,178,179,180,181,182,183,184,185,186,187,188,189,190,191,192,193,194,195,196,197,198,199,200,201,202,203,204,205,206,207,208,209,210,211,212,213,214,215,216,217,218,219,220,221,222,223,224,225,226,227,228,229,230,231,232,233,234,235,236,237,238,239,240,241,242,243,244,245,246,247,248,249,250,251,252,253,254,255,256,257,258,259,260,261,262,263,264,265,266,267,268,269,270,271,272,273,274,275,276,277,278,279,280,281,282,283,284,285,286,287,288,289,290,291,292,293,294,295,296,297,298,299,300,301,302,303,304,305,306,307,308,309,310,311,312,313,314,315,316,317,318,319,320,321,322,323,324,325,326,327,328,329,330,331,332,333,334,335,336,337,338,339,340,341,342,343,344,345,346,347,348,349,350,351,352,353,354,355,356,357,358,359,360,361,362,363,364,365,366,367,368,369,370,371,372,373,374,375,376,377,378,379,380,381,382,383,384,385,386,387,388,389,390,391,392,393,394,395,396,397,398,399,400,401,402,403,404,405,406,407,408,409,410,411,412,413,414,415,416,417,418,419,420,421,422,423,424,425,426,427,428,429,430,431,432,433,434,435,436,437,438,439,440,441,442,443,444,445,446,447,448,449,450,451,452,453,454,455,456,457,458,459,460,461,462,463,464,465,466,467,468,469,470,471,472,473,474,475,476,477,478,479,480,481,482,483,484,485,486,487,488,489,490,491,492,493,494,495,496,497,498,499,500,501,502,503,504,505,506,507,508,509,510,511,512,513,514,515,516,517,518,519,520,521,522,523,524,525,526,527,528,529,530,531,532,533,534,535,536,537,538,539,540,541,542,543,544,545,546,547,548,549,550,551,552,553,554,555,556,557,558,559,560,561,562,563,564,565,566,567,568,569,570,571,572,573,574,575,576,577,578,579,580,581,582,583,584,585,586,587,588,589,590,591,592,593,594,595,596,597,598,599,600,601,602,603,604,605,606,607,608,609,610,611,612,613,614,615,616,617,618,619,620,621,622,623,624,625,626,627,628,629,630,631,632,633,634,635,636,637,638,639,640,641,642,643,644,645,646,647,648,649,650,651,652,653,654,655,656,657,658,659,660,661,662,663,664,665,666,667,668,669,670,671,672,673,674,675,676,677,678,679,680,681,682,683,684,685,686,687,688,689,690,691,692,693,694,695,696,697,698,699,700,701,702,703,704,705,706,707,708,709,710,711,712,713,714,715,716,717,718,719,720,721,722,723,724,725,726,727,728,729]},\"selected\":{\"id\":\"3536\"},\"selection_policy\":{\"id\":\"3535\"}},\"id\":\"3394\",\"type\":\"ColumnDataSource\"},{\"attributes\":{},\"id\":\"3531\",\"type\":\"AllLabels\"},{\"attributes\":{},\"id\":\"3402\",\"type\":\"LinearScale\"},{\"attributes\":{\"num_minor_ticks\":5,\"tickers\":[{\"id\":\"3538\"},{\"id\":\"3539\"},{\"id\":\"3540\"},{\"id\":\"3541\"},{\"id\":\"3542\"},{\"id\":\"3543\"},{\"id\":\"3544\"},{\"id\":\"3545\"},{\"id\":\"3546\"},{\"id\":\"3547\"},{\"id\":\"3548\"},{\"id\":\"3549\"}]},\"id\":\"3501\",\"type\":\"DatetimeTicker\"},{\"attributes\":{},\"id\":\"3400\",\"type\":\"DataRange1d\"},{\"attributes\":{\"coordinates\":null,\"group\":null,\"text\":\"Daily Flow Hydrograph\"},\"id\":\"3491\",\"type\":\"Title\"},{\"attributes\":{\"toolbar\":{\"id\":\"3654\"},\"toolbar_location\":\"above\"},\"id\":\"3655\",\"type\":\"ToolbarBox\"},{\"attributes\":{},\"id\":\"3533\",\"type\":\"DatetimeTickFormatter\"},{\"attributes\":{\"toolbars\":[{\"id\":\"3422\"},{\"id\":\"3515\"}],\"tools\":[{\"id\":\"3414\"},{\"id\":\"3415\"},{\"id\":\"3416\"},{\"id\":\"3417\"},{\"id\":\"3418\"},{\"id\":\"3419\"},{\"id\":\"3508\"},{\"id\":\"3509\"},{\"id\":\"3510\"},{\"id\":\"3511\"},{\"id\":\"3512\"},{\"id\":\"3513\"}]},\"id\":\"3654\",\"type\":\"ProxyToolbar\"},{\"attributes\":{\"axis_label\":\"Date\",\"coordinates\":null,\"formatter\":{\"id\":\"3533\"},\"group\":null,\"major_label_policy\":{\"id\":\"3534\"},\"ticker\":{\"id\":\"3501\"}},\"id\":\"3500\",\"type\":\"DatetimeAxis\"},{\"attributes\":{},\"id\":\"3398\",\"type\":\"DataRange1d\"},{\"attributes\":{},\"id\":\"3498\",\"type\":\"LinearScale\"},{\"attributes\":{},\"id\":\"3534\",\"type\":\"AllLabels\"},{\"attributes\":{\"overlay\":{\"id\":\"3514\"}},\"id\":\"3510\",\"type\":\"BoxZoomTool\"},{\"attributes\":{\"axis_label\":\"Flow (m\\u00b3/s)\",\"coordinates\":null,\"formatter\":{\"id\":\"3530\"},\"group\":null,\"major_label_policy\":{\"id\":\"3531\"},\"ticker\":{\"id\":\"3505\"}},\"id\":\"3504\",\"type\":\"LinearAxis\"},{\"attributes\":{},\"id\":\"3511\",\"type\":\"SaveTool\"},{\"attributes\":{\"axis\":{\"id\":\"3504\"},\"coordinates\":null,\"dimension\":1,\"group\":null,\"ticker\":null},\"id\":\"3507\",\"type\":\"Grid\"},{\"attributes\":{},\"id\":\"3513\",\"type\":\"HelpTool\"}],\"root_ids\":[\"3656\"]},\"title\":\"Bokeh Application\",\"version\":\"2.4.2\"}};\n  const render_items = [{\"docid\":\"9d688bfe-1f9b-4ffb-9504-19fca99a9fef\",\"root_ids\":[\"3656\"],\"roots\":{\"3656\":\"79a0ddb5-3ebf-42e0-a11a-af7cd5a69c59\"}}];\n  root.Bokeh.embed.embed_items_notebook(docs_json, render_items);\n\n  }\n  if (root.Bokeh !== undefined) {\n    embed_document(root);\n  } else {\n    let attempts = 0;\n    const timer = setInterval(function(root) {\n      if (root.Bokeh !== undefined) {\n        clearInterval(timer);\n        embed_document(root);\n      } else {\n        attempts++;\n        if (attempts > 100) {\n          clearInterval(timer);\n          console.log(\"Bokeh: ERROR: Unable to run BokehJS code because BokehJS library is missing\");\n        }\n      }\n    }, 10, root)\n  }\n})(window);",
      "application/vnd.bokehjs_exec.v0+json": ""
     },
     "metadata": {
      "application/vnd.bokehjs_exec.v0+json": {
       "id": "3656"
      }
     },
     "output_type": "display_data"
    }
   ],
   "source": [
    "# customize the tools for interacting with the plot\n",
    "TOOLS=\"pan,wheel_zoom,reset,hover,poly_select,box_select\"\n",
    "\n",
    "stage_df = stage_df.reset_index(drop=True)\n",
    "# the Bokeh plotting library uses a \"ColumnDataSource\" data structure to \n",
    "# link plots and make them more interactive\n",
    "# set data sources for plot linking\n",
    "rc_source = ColumnDataSource(rc_df)\n",
    "ts_source = ColumnDataSource(stage_df)\n",
    "\n",
    "#### RATING CURVE PLOT (left side)\n",
    "rc_plot = figure(plot_width=550, plot_height=400,\n",
    "                title='Rating Curve Plot',\n",
    "                tools=TOOLS)\n",
    "\n",
    "# plot the measured discharge points as circle glyphs\n",
    "rc_plot.circle('Flow (m3/s)', 'Water level (m)', size=5, color=\"red\", alpha=0.5,\n",
    "              legend_label='Measured Q', source=rc_source)\n",
    "\n",
    "# plot the rating curve line based on the manual rating curve fit\n",
    "rc_plot.line(manual_fit_q, stage_range, line_color='dodgerblue',\n",
    "             legend_label='Manual Fit')\n",
    "\n",
    "# plot the rating curve line based on the OLS best fit\n",
    "rc_plot.line(bf_df['best_fit_q'], bf_df['stage'],\n",
    "             line_color='green', legend_label='OLS Fit')\n",
    "\n",
    "#### DAILY FLOW SERIES PLOT (right side)\n",
    "# we can use the y_range attribute to link the plot scales\n",
    "daily_flow_plot = figure(plot_width=550, plot_height=400, \n",
    "                        x_axis_type='datetime', \n",
    "                        title='Daily Flow Hydrograph',\n",
    "                        y_range=rc_plot.x_range)\n",
    "\n",
    "# # plot the flow series based on the OLS best fit\n",
    "daily_flow_plot.line('Date', 'RC Q (cms)', \n",
    "                    legend_label='OLS-based RC Flow', color='green',\n",
    "                    source=ts_source)\n",
    "\n",
    "# plot the flow series based on the manual fit\n",
    "daily_flow_plot.line('Date', 'Manual Q (cms)', \n",
    "                    legend_label='Manual RC Flow', color='dodgerblue',\n",
    "                    source=ts_source)\n",
    "\n",
    "# plot the daily flow series generated from the manual rating curve\n",
    "daily_flow_plot.circle('Date', 'Flow (m3/s)', size=5, color=\"red\", alpha=0.8,\n",
    "              source=rc_source, legend_label='Measured Q')\n",
    "\n",
    "# daily_flow_plot.line('Date', 'RC Q (cms)')\n",
    "# label the axes\n",
    "daily_flow_plot.xaxis.axis_label = 'Date'\n",
    "daily_flow_plot.yaxis.axis_label = 'Flow (m³/s)'\n",
    "daily_flow_plot.legend.location = \"top_left\"\n",
    "rc_plot.xaxis.axis_label = 'Flow (m³/s)'\n",
    "rc_plot.yaxis.axis_label = 'Stage (m)'\n",
    "rc_plot.legend.location = \"bottom_right\"\n",
    "\n",
    "layout = gridplot([[rc_plot, daily_flow_plot]])\n",
    "\n",
    "# show the results\n",
    "show(layout)"
   ]
  },
  {
   "cell_type": "markdown",
   "metadata": {},
   "source": [
    "## Summary and Reflection\n",
    "\n",
    "In this notebook we have used discrete measurements to develop a relationship between water level and volumetric flow.  We've used this relationship to develop what is commonly called a 'measured flow series' (the plot above at right), but it's really just an estimate of a relationship that changes in time due to natural (geomorphological) processes.  As we saw in Notebook 1, there is uncertainty in the flow measurements themselves, as well as the water level.  In this notebook we see how these uncertainties translate to the stage-discharge relationship.\n",
    "\n",
    "It is typical that the hydrometric station will record a greater range of water level than what is captured during site visits when discrete discharge measurements are taken.  This is because the hydrometric station is installed and left running to measure water level 'continuously' (at some frequency, 15 minutes is fairly common) for years at a time.  In many cases it isn't practical or cost effective to make more than three or four visits per year to the station to collect measurements, download stage data, check datalogger batteries, etc.  As a result, it is typical to have discrete discharge measurements over a narrower range of flow conditions than is measured by the hydrometric station, so our 'measured flow series' must then *extrapolate* from the range of conditions we have actually taken discrete measurements for.  \n",
    "\n",
    "The 'measured flow series' is used in many applications in resource engineering.  Low flows are used to determine natural or baseline conditions for fish habitat impact assessments, high flows are used to size hydraulic structures, such as dam spillways.  Hydrometric stations are often installed in new locations to support projects that have multi-decade planning horizons.  \n",
    "\n",
    "### Questions for Reflection\n",
    "\n",
    "Ultimately, the rating curve translates measured water level into a discharge series to characterize a water resource and support decisions in policy and design.  In characterizing a water resource, not only is it common to extrapolate beyond the range of measured conditions, it is necessary to extrapolate into the future, introducing new and unique sources of uncertainty.\n",
    "\n",
    "Briefly describe how your confidence in the flow predicted by the rating curve (the model) changes as a function of water level (low flow, median flow, high flow)?  Then describe your level of confidence in the rating curve accurately representing flow tomorrow, versus one year from now, versus ten years from now.  How might these concerns be addressed?  "
   ]
  },
  {
   "cell_type": "code",
   "execution_count": null,
   "metadata": {},
   "outputs": [],
   "source": []
  },
  {
   "cell_type": "code",
   "execution_count": null,
   "metadata": {},
   "outputs": [],
   "source": []
  }
 ],
 "metadata": {
  "kernelspec": {
   "display_name": "Python 3.7.3 64-bit",
   "language": "python",
   "name": "python3"
  },
  "language_info": {
   "codemirror_mode": {
    "name": "ipython",
    "version": 3
   },
   "file_extension": ".py",
   "mimetype": "text/x-python",
   "name": "python",
   "nbconvert_exporter": "python",
   "pygments_lexer": "ipython3",
   "version": "3.8.10"
  },
  "vscode": {
   "interpreter": {
    "hash": "31f2aee4e71d21fbe5cf8b01ff0e069b9275f58929596ceb00d14d90e3e16cd6"
   }
  }
 },
 "nbformat": 4,
 "nbformat_minor": 4
}
