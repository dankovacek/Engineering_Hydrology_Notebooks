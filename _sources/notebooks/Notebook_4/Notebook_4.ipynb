{
 "cells": [
  {
   "cell_type": "markdown",
   "metadata": {},
   "source": [
    "# Notebook 4: Rational Method and Travel Times\n",
    "\n",
    "## Introduction\n",
    "\n",
    "In this notebook, we look at two ways of estimating a runoff hydrograph from precipitation data.\n",
    "\n",
    "First, we'll use the rational method to approximate peak flow and the maximum water level at the basin outlet, and then we'll use an open-source library to make a higher resolution estimate of flow accumulation paths and stream networks using a digital elevation model."
   ]
  },
  {
   "cell_type": "code",
   "execution_count": null,
   "metadata": {},
   "outputs": [],
   "source": [
    "# import required packages\n",
    "import pandas as pd\n",
    "import numpy as np\n",
    "import math\n",
    "\n",
    "# advanced statistics library\n",
    "from scipy import stats\n",
    "\n",
    "import matplotlib.pyplot as plt\n",
    "import matplotlib.patches as mp\n",
    "import matplotlib.colors as colors\n",
    "\n",
    "# SEE COMMENTS ABOUT PYSHEDS LIBRARY IN NEXT CELL\n",
    "from pysheds.grid import Grid\n",
    "import warnings\n",
    "warnings.filterwarnings('ignore')\n",
    "\n",
    "from bokeh.plotting import figure, show\n",
    "from bokeh.io import output_notebook\n",
    "from bokeh.models import LinearColorMapper, LogTicker, ColorBar, BasicTickFormatter\n",
    "from bokeh.io import output_notebook\n",
    "output_notebook()\n",
    "\n",
    "%matplotlib inline"
   ]
  },
  {
   "cell_type": "markdown",
   "metadata": {},
   "source": [
    "## Import Precipitation Data\n",
    "\n",
    "For this exercise, we will use historical climate data from the Meteorological Service of Canada (MSC) station at Whistler, BC."
   ]
  },
  {
   "cell_type": "code",
   "execution_count": null,
   "metadata": {},
   "outputs": [],
   "source": [
    "# calibration data\n",
    "df = pd.read_csv('../../data/Whistler_348_climate.csv', \n",
    "                 index_col='Date/Time', parse_dates=True)\n",
    "# note that the 'head' command shows the first five rows of data, \n",
    "# but in this case the columns are abbreviated. \n",
    "# print(df.head())\n",
    "\n",
    "# list all the columns\n",
    "# print('')\n",
    "# print('__________')\n",
    "for c in df.columns:\n",
    "    print(c)\n",
    "\n",
    "stn_name = df['Station Name'].values[0]"
   ]
  },
  {
   "cell_type": "markdown",
   "metadata": {},
   "source": [
    "## Plot the Data\n",
    "\n",
    "It's always a good idea to begin by visualizing the data we're working with."
   ]
  },
  {
   "cell_type": "code",
   "execution_count": null,
   "metadata": {},
   "outputs": [],
   "source": [
    "# plot flow at Stave vs. precip at the closest climate stations\n",
    "p = figure(width=900, height=400, x_axis_type='datetime')\n",
    "p.line(df.index, df['Total Precip (mm)'], alpha=0.8,\n",
    "         legend_label=\"Total Precip [mm]\", color='dodgerblue')\n",
    "\n",
    "p.line(df.index, df['Total Snow (cm)'], alpha=0.8,\n",
    "         legend_label=\"Total Snow [cm]\", color=\"firebrick\")\n",
    "\n",
    "p.line(df.index, df['Total Rain (mm)'], alpha=0.8,\n",
    "         legend_label=\"Total Rain [mm]\", color='green')\n",
    "\n",
    "p.legend.location = 'top_left'\n",
    "p.legend.click_policy = 'hide'\n",
    "p.xaxis.axis_label = 'Date'#\n",
    "p.yaxis.axis_label = 'Daily Rain [mm] / Snow[cm] Volume'\n",
    "\n",
    "show(p)"
   ]
  },
  {
   "cell_type": "markdown",
   "metadata": {},
   "source": [
    "## Simplified Version of Rainfall-Runoff\n",
    "\n",
    "First, isolate a single precipitation event to use for estimating a runoff hydrograph.  Let's find a nice week for skiing:  "
   ]
  },
  {
   "cell_type": "code",
   "execution_count": null,
   "metadata": {},
   "outputs": [],
   "source": [
    "fig, ax = plt.subplots(1, 1, figsize=(16,4))\n",
    "\n",
    "sample_start = pd.to_datetime('2014-12-01')\n",
    "sample_end = pd.to_datetime('2014-12-15')\n",
    "\n",
    "sample_df = df[(df.index > sample_start) & (df.index < sample_end)][['Total Precip (mm)', 'Total Snow (cm)', 'Total Rain (mm)']]\n",
    "\n",
    "# print(sample_df.head())\n",
    "\n",
    "ax.plot(sample_df.index, sample_df['Total Precip (mm)'], label=\"Total Precip [mm]\")\n",
    "ax.plot(sample_df.index, sample_df['Total Snow (cm)'], label=\"Total Snow [cm]\")\n",
    "ax.plot(sample_df.index, sample_df['Total Rain (mm)'], label=\"Total Rain [mm]\")\n",
    "\n",
    "ax.set_xlabel('Date')\n",
    "ax.set_ylabel('Precipitation')\n",
    "ax.set_title('{}'.format(stn_name))\n",
    "plt.legend()"
   ]
  },
  {
   "cell_type": "markdown",
   "metadata": {},
   "source": [
    "First, imagine we are some unfortunate parking lot attendant working a shift in Whistler Village at Parking Lot 5, and we are told by our cruel supervisor we have stand at the lowest point of the parking lot: a catchment basin with an area of $1 km^2$ where water runs off into FitzSimmons Creek.  The sky looks angry, but we're running late for work and put on our running shoes instead of our sturdy waterproof boots.  \n",
    "\n",
    "Next, assume the travel time is effectively zero across our entire basin (precipitation takes no time to travel to the outlet once it falls on the parking lot surface).  Is this a reasonable assumption in general?  \n",
    "\n",
    "Under these assumptions, lets reconstruct a runoff hydrograph at the outlet.  First, look at the precipitation data over the twelve days of the big storm. "
   ]
  },
  {
   "cell_type": "code",
   "execution_count": null,
   "metadata": {},
   "outputs": [],
   "source": [
    "print(sample_df)"
   ]
  },
  {
   "cell_type": "markdown",
   "metadata": {},
   "source": [
    "## Convert Volume to volmeteric flow units\n",
    "\n",
    "Runoff is typically measured in $\\frac{m^3}{s}$, so convert $\\frac{mm}{day}$ precipitation to $\\frac{m^3}{s}$ runoff.\n",
    "\n",
    "$$1 \\frac{mm}{day} \\times \\frac{1 m}{1000 mm} \\times \\frac{1 day}{24 h} \\times \\frac{1 h}{ 3600 s} \\times 1 km^2 \\times \\frac{1000 m \\times 1000 m}{1 km^2}= \\frac{1}{86.4} \\frac{m^3}{s}$$"
   ]
  },
  {
   "cell_type": "code",
   "execution_count": null,
   "metadata": {},
   "outputs": [],
   "source": [
    "# convert to runoff volume\n",
    "drainage_area = 1 # km^2\n",
    "\n",
    "# runoff is typically measured in m^3/s (cms for short -- cubic metres per second), \n",
    "# so express the runoff in cms\n",
    "sample_df['runoff_cms'] = sample_df['Total Rain (mm)'] / 86.4\n",
    "print(sample_df)"
   ]
  },
  {
   "cell_type": "markdown",
   "metadata": {},
   "source": [
    "If the channel outlet has a rectangular shape of width 2m, how tall should our boots be?  Assume a 2% slope, and find a reasonable assumption for the roughness of asphalt.\n",
    "\n",
    "Recall the Manning equation:\n",
    "\n",
    "$$Q = \\frac{1}{n} A R^{2/3} S^{1/2}$$\n",
    "\n",
    "Where:\n",
    "* **n** is the manning roughness\n",
    "* **A** is cross sectional area of the flow\n",
    "* **R** hydraulic radius (area / wetted perimeter)\n",
    "* **S** is the channel slope"
   ]
  },
  {
   "cell_type": "code",
   "execution_count": null,
   "metadata": {},
   "outputs": [],
   "source": [
    "w_channel = 1.5 # m\n",
    "S = 0.005 # channel slope\n",
    "n_factor = 0.017  # rough asphalt\n",
    "\n",
    "def calc_Q(d, w, S, n):\n",
    "    \"\"\"\n",
    "    Calculate flow from the Manning equation.\n",
    "    \"\"\"\n",
    "    A = d * w\n",
    "    wp = w + 2 * d  # wetted perimeter\n",
    "    R = A / wp\n",
    "    return (1/n) * A * R**(2/3) * S**(1/2)\n",
    "\n",
    "def solve_depth(w, n_factor, Q, S):\n",
    "    \"\"\"\n",
    "    Given a flow, a roughness factor, a channel slope, and a channel width, \n",
    "    calculate flow depth. \n",
    "    \"\"\"\n",
    "    e = 1 / 100  # solve within 1%\n",
    "    d = 0\n",
    "    Q_est = 0\n",
    "    n = 0\n",
    "    while (abs(Q_est - Q) > e) & (n < 1000):\n",
    "        Q_est = calc_Q(d, w, S, n_factor)\n",
    "#         print(Q, Q_est, abs(Q_est - Q))\n",
    "        d += 0.001\n",
    "        n += 1\n",
    "#     print('solved in {} iterations'.format(n))\n",
    "    return d \n",
    "    "
   ]
  },
  {
   "cell_type": "code",
   "execution_count": null,
   "metadata": {},
   "outputs": [],
   "source": [
    "# For each timestep, we want to solve for the depth of water at our outlet\n",
    "sample_df['flow_depth_m'] = sample_df['runoff_cms'].apply(lambda x: solve_depth(w_channel, n_factor, x, S))\n"
   ]
  },
  {
   "cell_type": "code",
   "execution_count": null,
   "metadata": {},
   "outputs": [],
   "source": [
    "plt.plot(sample_df.index, sample_df['flow_depth_m'])\n",
    "plt.ylabel('Flow depth [m]')"
   ]
  },
  {
   "cell_type": "markdown",
   "metadata": {},
   "source": [
    ">**Not only are our feet wet, but if we happen to be there the peak it's potentially dangerous.  As little as 10-15cm of water moving fast enough can sweep you off your feet.**"
   ]
  },
  {
   "cell_type": "markdown",
   "metadata": {},
   "source": [
    "![Recalculating Life](img/recalculating.png)"
   ]
  },
  {
   "cell_type": "markdown",
   "metadata": {},
   "source": [
    "## More Complex Implementation: Spatial Data\n",
    "\n",
    "As discussed in class, precipitation takes time to travel from where it fell to the basin outlet.  Next we will estimate the runoff response in a real catchment, just upstream from the parking lot example in the FitzSimmons Creek basin."
   ]
  },
  {
   "cell_type": "markdown",
   "metadata": {},
   "source": [
    "### Step 1: Instantiate a grid from a DEM raster\n",
    "Some sample data is already included, but for extra data, see the [USGS hydrosheds project](https://www.hydrosheds.org/)."
   ]
  },
  {
   "cell_type": "code",
   "execution_count": null,
   "metadata": {},
   "outputs": [],
   "source": [
    "# grid = Grid.from_raster('data/n45w125_con_grid/n45w125_con/n45w125_con', data_name='dem')\n",
    "grid = Grid.from_ascii(path='../../data/notebook_5_data/n49w1235_con_grid.asc', \n",
    "                       data_name='dem')"
   ]
  },
  {
   "cell_type": "code",
   "execution_count": null,
   "metadata": {},
   "outputs": [],
   "source": [
    "# reset the nodata from -32768 so it doesn't throw off the \n",
    "# DEM plot\n",
    "grid.nodata = 0"
   ]
  },
  {
   "cell_type": "code",
   "execution_count": null,
   "metadata": {},
   "outputs": [],
   "source": [
    "# store the extents of the map\n",
    "map_extents = grid.extent\n",
    "min_x, max_x, min_y, max_y = map_extents"
   ]
  },
  {
   "cell_type": "markdown",
   "metadata": {},
   "source": [
    "### Plot the DEM\n",
    "\n",
    "**NOTE:** The cell below may take up to 30 seconds to load.  Please be patient, it is thinking really hard. \n",
    "\n",
    "The code below will plot the Digital Elevation Model (DEM).  \n",
    "\n",
    "Do you recognize any features of the terrain?  Can you locate where it is?\n",
    "\n",
    "Hover over the map (or touch if using a touchscreen) to see the coordinates in decimal degree units.\n",
    "\n",
    "What does the [precision of the coordinates represent](http://wiki-1-1930356585.us-east-1.elb.amazonaws.com/wiki/index.php/Decimal_degrees)?  \n",
    "* i.e. what does 5 decimal places in decimal degrees equate to in kilometers?\n",
    "\n",
    "You can interact with the plot by using the tools on the left (in vertical order from top to bottom):\n",
    "* **pan:** move around the map\n",
    "* **box zoom:** draw a square to zoom in on\n",
    "* **wheel zoom:** use the mousewheel (or pinch gesture on a touchscreen) to zoom in\n",
    "* **box zoom:** draw a square to zoom in on\n",
    "* **tap**: not yet implemented (but you can see the coordinates)\n",
    "* **refresh**: reset the map\n",
    "* **hover**: see the coordinates when hovering over the map with a mouse or pointer"
   ]
  },
  {
   "cell_type": "code",
   "execution_count": null,
   "metadata": {},
   "outputs": [],
   "source": [
    "# set bokeh plot tools\n",
    "tools = \"pan,wheel_zoom,box_zoom,reset,tap\"\n",
    "\n",
    "# show the precision of the decimal coordinates\n",
    "# in the plot to 5 decimal places\n",
    "TOOLTIPS = [\n",
    "    (\"(x,y)\", \"($x{1.11111}, $y{1.11111})\"),\n",
    "]\n",
    "\n",
    "# create a figure, setting the x and y ranges to the appropriate data bounds\n",
    "p1 = figure(title=\"DEM of the Lower Mainland of BC.  Hover to get coordintes.\", plot_width=600, plot_height=int(400),\n",
    "            x_range = map_extents[:2], y_range = map_extents[2:], \n",
    "            tools=tools, tooltips=TOOLTIPS)\n",
    "\n",
    "# map elevation to a colour spectrum\n",
    "color_mapper = LinearColorMapper(palette=\"Magma256\", low=-200, high=2400)\n",
    "\n",
    "# np.flipud flips the image data on a vertical axis\n",
    "adjusted_img = [np.flipud(grid.dem)]  \n",
    "\n",
    "p1.image(image=adjusted_img,   \n",
    "         x=[min_x],               # lower left x coord\n",
    "         y=[min_y],               # lower left y coord\n",
    "         dw=[max_x-min_x],        # *data space* width of image\n",
    "         dh=[max_y-min_y],        # *data space* height of image\n",
    "         color_mapper=color_mapper\n",
    ")\n",
    "\n",
    "color_bar = ColorBar(color_mapper=color_mapper, #ticker=Ticker(),\n",
    "                     label_standoff=12, border_line_color=None, location=(0,0))\n",
    "\n",
    "p1.add_layout(color_bar, 'right')\n",
    "\n",
    "\n",
    "show(p1)\n",
    "\n",
    "# -123.15512, 49.41293\n",
    "#-123.14657, 49.41080\n",
    "-123.14350, 49.40251"
   ]
  },
  {
   "cell_type": "markdown",
   "metadata": {},
   "source": [
    "### Resolve flats in DEM"
   ]
  },
  {
   "cell_type": "code",
   "execution_count": null,
   "metadata": {},
   "outputs": [],
   "source": [
    "grid.resolve_flats('dem', out_name='inflated_dem')"
   ]
  },
  {
   "cell_type": "markdown",
   "metadata": {},
   "source": [
    "### Specify flow direction values"
   ]
  },
  {
   "cell_type": "code",
   "execution_count": null,
   "metadata": {},
   "outputs": [],
   "source": [
    "#         N    NE    E    SE    S    SW    W    NW\n",
    "dirmap = (64,  128,  1,   2,    4,   8,    16,  32)"
   ]
  },
  {
   "cell_type": "code",
   "execution_count": null,
   "metadata": {},
   "outputs": [],
   "source": [
    "grid.flowdir(data='inflated_dem', out_name='dir', dirmap=dirmap)"
   ]
  },
  {
   "cell_type": "code",
   "execution_count": null,
   "metadata": {},
   "outputs": [],
   "source": [
    "fig = plt.figure(figsize=(8,6))\n",
    "fig.patch.set_alpha(0)\n",
    "\n",
    "plt.imshow(grid.dir, extent=grid.extent, cmap='viridis', zorder=2)\n",
    "boundaries = ([0] + sorted(list(dirmap)))\n",
    "plt.colorbar(boundaries= boundaries,\n",
    "             values=sorted(dirmap))\n",
    "plt.xlabel('Longitude')\n",
    "plt.ylabel('Latitude')\n",
    "plt.title('Flow direction grid')\n",
    "plt.grid(zorder=-1)\n",
    "plt.tight_layout()\n",
    "# plt.savefig('data/img/flow_direction.png', bbox_inches='tight')"
   ]
  },
  {
   "cell_type": "code",
   "execution_count": null,
   "metadata": {},
   "outputs": [],
   "source": [
    "# view the values of the raster as an array\n",
    "grid.dir\n"
   ]
  },
  {
   "cell_type": "code",
   "execution_count": null,
   "metadata": {},
   "outputs": [],
   "source": [
    "# check the size of the raster\n",
    "grid.dir.size"
   ]
  },
  {
   "cell_type": "markdown",
   "metadata": {},
   "source": [
    "### Delineate a Catchment\n",
    "\n",
    "Note that once you've executed the code in the cells below,\n",
    "if you change the Point of Concentration (POC), you'll\n",
    "need to go back to Step 1 and execute the code from there again.\n",
    "\n",
    "This needs to be done to re-initialize the extents of the data \n",
    "that are loaded into memory.  The intermediary steps trim the extent\n",
    "of the DEM and you will get an error message saying:\n",
    "\n",
    "\n",
    ">`ValueError: Pour point (-123.94307, 49.40783) is out of bounds for dataset with bbox (-123.195000000122, 49.39999999984, -123.15333333347199, 49.421666666498).`\n",
    "\n"
   ]
  },
  {
   "cell_type": "code",
   "execution_count": null,
   "metadata": {},
   "outputs": [],
   "source": [
    "# Specify the Point of Concentration (POC) / Catchment Outlet (a.k.a. pour point) \n",
    "# This location is a tributary of the Capilano River, just above the reservoir above\n",
    "# Cleveland Dam.\n",
    "x, y = -123.14657, 49.41080\n",
    "x, y = -123.14350, 49.40251\n",
    "\n",
    "# And just for good measure, here's the little tributary in the south-west corner.\n",
    "# Note the instructions above about reloading the original data to re-initialize\n",
    "# the DEM\n",
    "x, y = -123.15512, 49.41293\n",
    "\n",
    "# Delineate the catchment\n",
    "grid.clip_to('dem')\n",
    "grid.catchment(data='dir', x=x, y=y, dirmap=dirmap, out_name='catch',\n",
    "               recursionlimit=15000, xytype='label', nodata_out=0)"
   ]
  },
  {
   "cell_type": "code",
   "execution_count": null,
   "metadata": {},
   "outputs": [],
   "source": [
    "# Clip the bounding box to the catchment we've chosen\n",
    "grid.clip_to('catch', pad=(1,1,1,1))"
   ]
  },
  {
   "cell_type": "code",
   "execution_count": null,
   "metadata": {},
   "outputs": [],
   "source": [
    "# Create a view of the catchment\n",
    "catch = grid.view('catch', nodata=np.nan)"
   ]
  },
  {
   "cell_type": "code",
   "execution_count": null,
   "metadata": {},
   "outputs": [],
   "source": [
    "# check the shape to see if we've estimated close enough to the \n",
    "# actual river to delineate the catchment successfully\n",
    "print(catch.shape)\n",
    "# if we get dimensions of < 10, we've missed and instead pointed at some \n",
    "# little hillslope"
   ]
  },
  {
   "cell_type": "code",
   "execution_count": null,
   "metadata": {},
   "outputs": [],
   "source": [
    "print(grid.extent)\n",
    "ext_1 = grid.extent"
   ]
  },
  {
   "cell_type": "code",
   "execution_count": null,
   "metadata": {},
   "outputs": [],
   "source": [
    "# Plot the catchment\n",
    "fig, ax = plt.subplots(figsize=(8,6))\n",
    "fig.patch.set_alpha(0)\n",
    "\n",
    "plt.grid('on', zorder=0)\n",
    "im = ax.imshow(catch, extent=grid.extent, zorder=1, cmap='viridis')\n",
    "plt.colorbar(im, ax=ax, boundaries=boundaries, values=sorted(dirmap), label='Flow Direction')\n",
    "plt.xlabel('Longitude')\n",
    "plt.ylabel('Latitude')\n",
    "plt.title('Delineated Catchment')\n",
    "# plt.savefig('data/img/catchment.png', bbox_inches='tight')"
   ]
  },
  {
   "cell_type": "markdown",
   "metadata": {},
   "source": [
    "### Get flow accumulation"
   ]
  },
  {
   "cell_type": "code",
   "execution_count": null,
   "metadata": {},
   "outputs": [],
   "source": [
    "grid.accumulation(data='catch', dirmap=dirmap, out_name='acc')"
   ]
  },
  {
   "cell_type": "code",
   "execution_count": null,
   "metadata": {},
   "outputs": [],
   "source": [
    "fig, ax = plt.subplots(figsize=(8,6))\n",
    "fig.patch.set_alpha(0)\n",
    "plt.grid('on', zorder=0)\n",
    "acc_img = np.where(grid.mask, grid.acc + 1, np.nan)\n",
    "im = ax.imshow(acc_img, extent=grid.extent, zorder=2,\n",
    "               cmap='cubehelix',\n",
    "               norm=colors.LogNorm(1, grid.acc.max()))\n",
    "plt.colorbar(im, ax=ax, label='Upstream Cells')\n",
    "plt.title('Flow Accumulation')\n",
    "plt.xlabel('Longitude')\n",
    "plt.ylabel('Latitude')\n",
    "# plt.savefig('data/img/flow_accumulation.png', bbox_inches='tight')\n"
   ]
  },
  {
   "cell_type": "markdown",
   "metadata": {},
   "source": [
    "### Calculate distances to upstream cells"
   ]
  },
  {
   "cell_type": "code",
   "execution_count": null,
   "metadata": {},
   "outputs": [],
   "source": [
    "grid.flow_distance(data='catch', x=x, y=y, dirmap=dirmap, out_name='dist',\n",
    "                   xytype='label', nodata_out=np.nan)"
   ]
  },
  {
   "cell_type": "code",
   "execution_count": null,
   "metadata": {},
   "outputs": [],
   "source": [
    "fig, ax = plt.subplots(figsize=(8,6))\n",
    "fig.patch.set_alpha(0)\n",
    "plt.grid('on', zorder=0)\n",
    "im = ax.imshow(grid.dist, extent=grid.extent, zorder=2,\n",
    "               cmap='cubehelix_r')\n",
    "plt.colorbar(im, ax=ax, label='Distance to outlet (cells)')\n",
    "plt.xlabel('Longitude')\n",
    "plt.ylabel('Latitude')\n",
    "plt.title('Flow Distance')\n",
    "# plt.savefig('data/img/flow_distance.png', bbox_inches='tight'),"
   ]
  },
  {
   "cell_type": "code",
   "execution_count": null,
   "metadata": {},
   "outputs": [],
   "source": [
    "area_threshold=20\n",
    "fig, ax = plt.subplots(figsize=(8,6))\n",
    "fig.patch.set_alpha(0)\n",
    "plt.grid('on', zorder=0)\n",
    "streamnetwork_img = np.where(acc_img>area_threshold, 100, 1+acc_img*0)\n",
    "# print([['nan' if np.isnan(i) else cmap[i] for i in j] for j in streamnetwork_img])\n",
    "labels = {1:'Catchment', 2: 'Outside Catchment', 100: 'Stream Network'}\n",
    "cmap = {1: [0.247, 0.552, 0.266, 0.5], \n",
    "        100: [0.074, 0.231, 0.764, 0.8],\n",
    "       2: [0.760, 0.760, 0.760, 0.8]}\n",
    "\n",
    "arrayShow = np.array([[cmap[2] if np.isnan(i) else cmap[i] for i in j] for j in streamnetwork_img])    \n",
    "## create patches as legend\n",
    "\n",
    "patches =[mp.Patch(color=cmap[i],label=labels[i]) for i in cmap]\n",
    "\n",
    "#streamnetwork_img = np.where(grid.mask, > 100, 10 , 1)\n",
    "# im = ax.imshow(streamnetwork_img, extent=grid.extent, zorder=2,\n",
    "#                 cmap='cubehelix')\n",
    "im = ax.imshow(arrayShow)\n",
    "plt.legend(handles=patches, loc=1, borderaxespad=0.)\n",
    "# plt.colorbar(im, ax=ax, label='Upstream Cells')\n",
    "plt.title('Stream network')\n",
    "plt.xlabel('Longitude')\n",
    "plt.ylabel('Latitude')\n",
    "# plt.savefig('data/img/stream_network.png', bbox_inches='tight')"
   ]
  },
  {
   "cell_type": "markdown",
   "metadata": {},
   "source": [
    "### Calculate weighted travel distance\n",
    "\n",
    "Assign a travel time to each cell based on the assumption that water travels at one speed (slower) until it reaches a stream network, at which point its speed increases dramatically."
   ]
  },
  {
   "cell_type": "code",
   "execution_count": null,
   "metadata": {},
   "outputs": [],
   "source": [
    "fig, ax = plt.subplots(figsize=(8,6))\n",
    "fig.patch.set_alpha(0)\n",
    "\n",
    "plt.grid('on', zorder=0)\n",
    "grid.clip_to('catch', pad=(1,1,1,1))\n",
    "acc = grid.view('acc')\n",
    "\n",
    "# calculate weights.\n",
    "# assume the threshold is 100 accumulation cells \n",
    "# (of roughly 500mx500m) results in stream\n",
    "weights = (np.where(acc, 0.1, 0)\n",
    "               + np.where((0 < acc) & (acc <= 100), 1, 0)).ravel()\n",
    "\n",
    "weighted_dist = grid.flow_distance(data='catch', x=x, y=y, weights=weights,\n",
    "                   xytype='label', inplace=False)\n",
    "\n",
    "im = ax.imshow(weighted_dist, extent=grid.extent, zorder=2,\n",
    "               cmap='cubehelix_r')\n",
    "# plt.legend(handles=patches, loc=1, borderaxespad=0.)\n",
    "plt.colorbar(im, ax=ax, label='Upstream Cells')\n",
    "plt.title('Stream network')\n",
    "plt.xlabel('Longitude')\n",
    "plt.ylabel('Latitude')"
   ]
  },
  {
   "cell_type": "markdown",
   "metadata": {},
   "source": [
    "## Develop Rainfall-Runoff Model\n",
    "\n",
    "Now that we have weighted flow distances for each cell in the delineated catchment, we can apply precipitation to each 'cell' in order to reconstruct a flow hydrograph.  \n",
    "\n",
    "First, we must figure out the cell dimensions.  From the [USGS Hydrosheds information](https://hydrosheds.cr.usgs.gov/datadownload.php), we know the resolution is 15 (degree) seconds.  Because of the odd shape of the earth, and the projection of coordinate systems onto the earth, there is a little bit of work involved in converting the DEM resolution to equivalent distances.  For the purpose of this exercise, we will assume cells are 300x300m.  You can check the approximation [here](https://opendem.info/arc2meters.html) for a latitude of 49 degrees."
   ]
  },
  {
   "cell_type": "code",
   "execution_count": null,
   "metadata": {},
   "outputs": [],
   "source": [
    "# cells can be grouped by their weighted distance to the outlet to simplify \n",
    "# the process of calculating the contribution of each cell to flow at the outlet\n",
    "\n",
    "dist_df = pd.DataFrame()\n",
    "dist_df['weighted_dist'] = weighted_dist.flatten()\n",
    "# trim the distance dataframe to include only the cells in the catchment,\n",
    "# and round the travel time to the nearest one (hour)\n",
    "dist_df = dist_df[dist_df['weighted_dist'] > 0].round(0)"
   ]
  },
  {
   "cell_type": "code",
   "execution_count": null,
   "metadata": {},
   "outputs": [],
   "source": [
    "start_date = sample_df.index.values[0]\n",
    "end_date = sample_df.index.values[-1]\n",
    "# create an hourly dataframe based on the sample precipitation event\n",
    "# then resample the values to evenly distribute the total daily \n",
    "# precipitation to hourly precipitation\n",
    "resampled_df = sample_df.resample('1H').pad() / 24"
   ]
  },
  {
   "cell_type": "markdown",
   "metadata": {},
   "source": [
    "Note that our 'weighted distance' has just provided a relative difference between the flow accumulation cells and non-flow-accumulation cells.  We still must convert these values to some time-dependent form.\n",
    "\n",
    "For this exercise, we will assume the average velocity of water is 1 m/s value for the flow accumulation cells, and 0.1 m/s for the other cells.  Therefore precipitation will take on average 300s (0.0833 h) and 3000s (0.833 h) to travel to the outlet for flow-accumulation and non-flow-accumulation cells, respectively."
   ]
  },
  {
   "cell_type": "code",
   "execution_count": null,
   "metadata": {},
   "outputs": [],
   "source": [
    "# get the number of cells of each distance\n",
    "grouped_dists = pd.DataFrame(dist_df.groupby('weighted_dist').size())\n",
    "grouped_dists.columns = ['num_cells']"
   ]
  },
  {
   "cell_type": "code",
   "execution_count": null,
   "metadata": {},
   "outputs": [],
   "source": [
    "# create unit hydrographs for each timestep\n",
    "runoff_df = pd.DataFrame(np.zeros(len(resampled_df)))\n",
    "runoff_df.columns = ['Total Precip (mm)']\n",
    "runoff_df.index = resampled_df.index.copy()\n",
    "end_date = pd.to_datetime(runoff_df.index.values[-1]) + pd.DateOffset(hours=1)\n",
    "max_distance = max(grouped_dists.index)\n",
    "\n",
    "extended_df = pd.DataFrame()\n",
    "extended_df['Total Precip (mm)'] = [0 for e in range(int(max_distance) + 1)]\n",
    "extended_df.index = pd.date_range(end_date, periods=max_distance + 1, freq='1H')\n",
    "\n",
    "# append the extra time to the runoff dataframe\n",
    "runoff_df = runoff_df.append(extended_df)\n",
    "runoff_df['Runoff (cms)'] = 0\n"
   ]
  },
  {
   "cell_type": "markdown",
   "metadata": {},
   "source": [
    "**NOTE**: if you re-run the cell below, you need to run the cell above as well, or the runoff dataframe will not reset and the values will keep increasing."
   ]
  },
  {
   "cell_type": "code",
   "execution_count": null,
   "metadata": {},
   "outputs": [],
   "source": [
    "cell_size = 300 # assume each pixel represents 300m x 300m \n",
    "runoff_coefficient = 0.3\n",
    "\n",
    "\n",
    "for ind, row in resampled_df.iterrows():\n",
    "    this_hyd = resampled_df[['Total Precip (mm)']].copy()\n",
    "    for weight_dist, num_cells in grouped_dists.iterrows():\n",
    "        try: \n",
    "            outlet_time = ind + pd.DateOffset(hours=weight_dist)\n",
    "            precip = num_cells.values[0] * row['Total Precip (mm)']\n",
    "            runoff_vol = precip * runoff_coefficient / 1000 * cell_size**2 \n",
    "            runoff_rate = runoff_vol  / 3600  # convert to m^3/s from m^3/h\n",
    "            runoff_df.loc[outlet_time, 'Runoff (cms)'] += runoff_rate\n",
    "        except KeyError as err:\n",
    "            print('error')\n",
    "            break\n",
    "#             print(err)\n",
    "#             print(ind, row)"
   ]
  },
  {
   "cell_type": "code",
   "execution_count": null,
   "metadata": {},
   "outputs": [],
   "source": [
    "fig, ax = plt.subplots(1, 1, figsize=(16,4))\n",
    "\n",
    "sample_start = pd.to_datetime('2014-12-01')\n",
    "sample_end = pd.to_datetime('2014-12-15')\n",
    "\n",
    "sample_df = df[(df.index > sample_start) & (df.index < sample_end)][['Total Precip (mm)', 'Total Snow (cm)', 'Total Rain (mm)']]\n",
    "\n",
    "# print(sample_df.head())\n",
    "# plot the original daily precip\n",
    "# ax.plot(sample_df.index, sample_df['Total Precip (mm)'], label=\"Total Precip [mm]\")\n",
    "# ax.plot(sample_df.index, sample_df['Total Snow (cm)'], label=\"Total Snow [cm]\")\n",
    "# ax.plot(sample_df.index, sample_df['Total Rain (mm)'], label=\"Total Rain [mm]\")\n",
    "ax.plot(runoff_df.index, runoff_df['Runoff (cms)'], label=\"Runoff\")\n",
    "\n",
    "\n",
    "ax.set_xlabel('Date')\n",
    "ax.set_ylabel('Runoff [cms]', color='blue')\n",
    "ax.set_title('Example Rainfall-Runoff Model')\n",
    "ax.legend(loc='upper left')\n",
    "ax.tick_params(axis='y', colors='blue')\n",
    "\n",
    "ax1 = ax.twinx()\n",
    "ax1.plot(sample_df.index, sample_df['Total Rain (mm)'], \n",
    "         color='green',\n",
    "         label=\"Total Rain\")\n",
    "ax1.set_ylabel('Precipitation [mm]', color='green')\n",
    "ax1.tick_params(axis='y', colors='green')\n",
    "ax1.legend(loc='upper right')"
   ]
  },
  {
   "cell_type": "markdown",
   "metadata": {},
   "source": [
    "### Determine the Peak Unit Runoff\n",
    "\n",
    "First, estimate the drainage area.  Then, find the peak hourly flow."
   ]
  },
  {
   "cell_type": "code",
   "execution_count": null,
   "metadata": {},
   "outputs": [],
   "source": [
    "DA = round(grouped_dists.sum().values[0] * 0.3 * 0.3, 0)\n",
    "max_UR = runoff_df['Runoff (cms)'].max() / DA * 1000\n",
    "print('The drainage area is {} km^2 and the peak Unit Runoff is {} L/s/km^2'.format(DA, int(max_UR)))"
   ]
  },
  {
   "cell_type": "markdown",
   "metadata": {},
   "source": [
    "Discuss the limitations of the approach.  Where do uncertainties exist?\n",
    "\n",
    "* assumed precipitation is constant across days\n",
    "* assumed constant runoff coefficient\n",
    "* assumed two weights for travel time, constant across time"
   ]
  },
  {
   "cell_type": "markdown",
   "metadata": {},
   "source": [
    "## Question for Reflection\n",
    "\n",
    "For the first part where we estimated the water level at the parking lot outlet based on an assumption that there was zero infiltration, assuming all else is equal, how could we reduce the maximum water level to 5 cm?  "
   ]
  },
  {
   "cell_type": "code",
   "execution_count": null,
   "metadata": {},
   "outputs": [],
   "source": []
  },
  {
   "cell_type": "code",
   "execution_count": null,
   "metadata": {},
   "outputs": [],
   "source": []
  }
 ],
 "metadata": {
  "kernelspec": {
   "display_name": "Python 3.7.3 64-bit",
   "language": "python",
   "name": "python3"
  },
  "language_info": {
   "codemirror_mode": {
    "name": "ipython",
    "version": 3
   },
   "file_extension": ".py",
   "mimetype": "text/x-python",
   "name": "python",
   "nbconvert_exporter": "python",
   "pygments_lexer": "ipython3",
   "version": "3.8.10"
  },
  "vscode": {
   "interpreter": {
    "hash": "31f2aee4e71d21fbe5cf8b01ff0e069b9275f58929596ceb00d14d90e3e16cd6"
   }
  }
 },
 "nbformat": 4,
 "nbformat_minor": 4
}
