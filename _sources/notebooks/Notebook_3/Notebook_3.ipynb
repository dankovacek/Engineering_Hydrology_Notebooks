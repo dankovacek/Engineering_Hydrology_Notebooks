{
 "cells": [
  {
   "cell_type": "markdown",
   "metadata": {},
   "source": [
    "# Notebook 3: Regional Information Transfer\n",
    "\n",
    "## Characterization of Long-Term Runoff"
   ]
  },
  {
   "cell_type": "code",
   "execution_count": null,
   "metadata": {},
   "outputs": [],
   "source": [
    "import math\n",
    "import pandas as pd\n",
    "import numpy as np\n",
    "from scipy import stats as st\n",
    "\n",
    "import matplotlib.pyplot as plt"
   ]
  },
  {
   "cell_type": "markdown",
   "metadata": {},
   "source": [
    "## Introduction\n",
    "\n",
    "In Notebook 2, we developed a rating curve for our location of interest based on discrete discharge measurements made during a series of visits, and we applied this stage-discharge relationship (rating curve) to the continous stage recorded at our hydrometric station to generate a discharge (flow) time series.  \n",
    "\n",
    "Recall that our hydrometric station has only been running for a couple of years -- this isn't nearly enough data to estimate the **long term** flow characteristics (daily, seasonal, floods, droughts, etc.).  In this notebook, we look in the vicinity of our project location for other stations where records have been kept for much longer&mdash;ideally with complete historical records of 25+ years.  **It's also critical that we find records that are concurrent with the period we measured at our project location.**  We can use concurrent data from nearby stations to develop a model to estimate flow for periods we didn't actually measure at our project location.  This type of model is called a *regional information transfer* model.\n",
    "\n",
    "First, we'll set up our rating curve as we did in Notebook 2 and recalculate the daily average flow series.\n",
    "\n",
    ">**Note**: throughout these notebooks, the short form cms (cubic metres per second) is used interchangeably, and denoted as `m3/s`, `m^3/s` and  $m^3/s$."
   ]
  },
  {
   "cell_type": "markdown",
   "metadata": {},
   "source": [
    "## Import the Data"
   ]
  },
  {
   "cell_type": "code",
   "execution_count": null,
   "metadata": {},
   "outputs": [],
   "source": [
    "# import the stage data (from the Notebook 2 data folder)\n",
    "site_df = pd.read_csv('../../notebook_data/notebook_2_data/WL_data.csv', parse_dates=['Date'])\n",
    "site_df.set_index('Date', inplace=True)"
   ]
  },
  {
   "cell_type": "code",
   "execution_count": null,
   "metadata": {},
   "outputs": [],
   "source": [
    "# take a quick look at what we're dealing with\n",
    "site_df.head()"
   ]
  },
  {
   "cell_type": "code",
   "execution_count": null,
   "metadata": {},
   "outputs": [],
   "source": [
    "# let's store the stage label as a variable for convenience\n",
    "stage_label = 'Water level (daily av.) (m)'"
   ]
  },
  {
   "cell_type": "code",
   "execution_count": null,
   "metadata": {},
   "outputs": [],
   "source": [
    "# plot the data for a quick visual check\n",
    "fig, ax = plt.subplots(figsize=(10, 6))\n",
    "ax.plot(site_df.index, site_df[stage_label])"
   ]
  },
  {
   "cell_type": "code",
   "execution_count": null,
   "metadata": {},
   "outputs": [],
   "source": [
    "# import the discharge measurements\n",
    "rc_df = pd.read_csv('../../notebook_data/notebook_2_data/RC_Data.csv', parse_dates=['Date'])"
   ]
  },
  {
   "cell_type": "code",
   "execution_count": null,
   "metadata": {},
   "outputs": [],
   "source": [
    "# take a look at the discharge measurements\n",
    "rc_df.head(15)"
   ]
  },
  {
   "cell_type": "code",
   "execution_count": null,
   "metadata": {},
   "outputs": [],
   "source": [
    "# remember to add in the newest discharge measurement(s)!\n",
    "msmt_date = pd.to_datetime('2010-09-26')\n",
    "msmt_q = 12\n",
    "# note that in stage_df, the index has been set to the Date column\n",
    "msmt_stage = site_df[site_df.index == msmt_date][stage_label].values[0]\n",
    "\n",
    "# only do this once, or you'll keep adding rows!\n",
    "rc_df.loc[len(rc_df)] = [msmt_date, msmt_q, msmt_stage]\n",
    "rc_df"
   ]
  },
  {
   "cell_type": "markdown",
   "metadata": {},
   "source": [
    "## Plot the Stage-Discharge Rating Curve and the Best Fit Curve\n",
    "\n",
    "Recall the form of the rating curve equation from Notebook 2: $Q = C(H-h_0)^b$.  If we transform the data to log space, we get a linear relationship:\n",
    "\n",
    "$$log(Q) = log(C) + b\\cdot log(h-h_0)$$\n",
    "\n",
    "If we rearrange to the form $y = intercept + slope \\cdot x$, we can use the scipy function for linear regression (`scipy.stats.linregress()` shortened at import to `st.linregress()` from the previous tutorial).\n",
    "\n",
    "Recall the x and y axis parameters are Q and h, respectively, so the linear form of the equation is then: \n",
    "\n",
    "$$log(h-h_0) = slope \\cdot log(Q) + intercept$$\n",
    "\n",
    "The above relationship is linear, so we can use ordinary least squares to find the best fit line (in log-log space), and then transform back to linear space.\n",
    "Note that $h_0$ cannot be fitted this way, and has to be set manually. In this case we will use $h_0=0$ as a first approximation and check the fit to see if an adjustment is warranted."
   ]
  },
  {
   "cell_type": "code",
   "execution_count": null,
   "metadata": {},
   "outputs": [],
   "source": [
    "# calculate the discharge based on the best fit\n",
    "# parameters found by ordinary least squares above\n",
    "def ols_rc_q(slope, intercept, h, h0):\n",
    "    \"\"\"\n",
    "    Calculate flow (Q) from the linear best fit parameters.\n",
    "        -slope: the `log_slope` calculated above (constant)\n",
    "        -intercept: `log_intercept` calculated above (constant)\n",
    "        -h0 is the same PZF offset used above (constant)\n",
    "        -h is the independent variable\n",
    "    Returns Q, the discharge in m^3/s.\n",
    "    \"\"\"\n",
    "    if slope == 0:\n",
    "        return 0\n",
    "    try:\n",
    "        return np.exp((np.log(h - h0) - intercept) / slope)\n",
    "    except ValueError: \n",
    "        return None"
   ]
  },
  {
   "cell_type": "code",
   "execution_count": null,
   "metadata": {},
   "outputs": [],
   "source": [
    "# Find the best-fit line in log-log space\n",
    "# take the logarithm of the measured streamflows and stage\n",
    "h0=0\n",
    "q_log = np.log(rc_df['Flow (m3/s)'] - h0)\n",
    "stage_log = np.log(rc_df['Water level (m)'])\n",
    "\n",
    "# find the parameters describing the linear best fit using ordinary least squares (OLS)\n",
    "log_slope, log_intercept, log_rval, log_pval, log_stderr = st.linregress(q_log, stage_log)"
   ]
  },
  {
   "cell_type": "code",
   "execution_count": null,
   "metadata": {},
   "outputs": [],
   "source": [
    "stage_range = np.linspace(0.001, 1.5, 100)\n",
    "# put best fit results into a dataframe for plotting\n",
    "# use 0 as the PZF (point of zero flow) (the h0 parameter)\n",
    "bf_df = pd.DataFrame()\n",
    "bf_df['stage'] = stage_range\n",
    "\n",
    "# now as before, apply the `ols_rc_q` function to create the stage-discharge\n",
    "# curve based on the best-fit equation\n",
    "bf_df['best_fit_q'] = [ols_rc_q(log_slope, log_intercept, h, 0.0) for h in stage_range]\n",
    "bf_df.sort_values(by='stage', inplace=True)"
   ]
  },
  {
   "cell_type": "markdown",
   "metadata": {},
   "source": [
    "## Calculate Daily Average Discharge\n",
    "\n",
    "From the equation describing the ordinary least squares (OLS) best fit of the measured discharge,\n",
    "calculate daily average flow from daily average water level."
   ]
  },
  {
   "cell_type": "code",
   "execution_count": null,
   "metadata": {},
   "outputs": [],
   "source": [
    "site_df.head()"
   ]
  },
  {
   "cell_type": "code",
   "execution_count": null,
   "metadata": {},
   "outputs": [],
   "source": [
    "# here we apply the rating curve equation function to the entire \n",
    "# water level time series\n",
    "site_df['RC Q (cms)'] = site_df[stage_label].apply(lambda h: ols_rc_q(log_slope, log_intercept, h, 0))"
   ]
  },
  {
   "cell_type": "code",
   "execution_count": null,
   "metadata": {},
   "outputs": [],
   "source": [
    "site_df.head()"
   ]
  },
  {
   "cell_type": "code",
   "execution_count": null,
   "metadata": {},
   "outputs": [],
   "source": [
    "rc_df.columns"
   ]
  },
  {
   "cell_type": "markdown",
   "metadata": {},
   "source": [
    "### Plot the Rating Curve and Resultant Flow Series"
   ]
  },
  {
   "cell_type": "markdown",
   "metadata": {},
   "source": [
    "The two plots below are linked.  Check the selection tools, and select points on one plot.  When validating data, it is helpful to be able to link the measurements on the rating curve plot and the daily flow series plot.  Consider how you would you check if the low flows were subject to a shift in the hydraulic control over time?    "
   ]
  },
  {
   "cell_type": "code",
   "execution_count": null,
   "metadata": {},
   "outputs": [],
   "source": [
    "# here we specify 1, 2 for subplots meaning 1 row and 2 columns\n",
    "fig, ax = plt.subplots(1, 2, figsize=(16,6))\n",
    "\n",
    "# left side plot - rating curve\n",
    "ax[0].plot(bf_df['best_fit_q'], bf_df['stage'],\n",
    "        color='green', label=\"OLS Best Fit\")\n",
    "\n",
    "ax[0].plot(rc_df['Flow (m3/s)'], rc_df['Water level (m)'], \n",
    "           marker='o', color='r',\n",
    "           linestyle='',\n",
    "           label='Discharge measurements')\n",
    "\n",
    "# right side plot -- hydrograph\n",
    "ax[1].plot(site_df.index, site_df['RC Q (cms)'],\n",
    "        color='dodgerblue', label=\"OLS Best Fit\")\n",
    "\n",
    "ax[1].plot(rc_df['Date'], rc_df['Flow (m3/s)'], \n",
    "           marker='o', color='r',\n",
    "           linestyle='',\n",
    "           label='Discharge measurements')\n",
    "\n",
    "ax[0].set_title('Stage - Discharge Rating Curve')\n",
    "ax[0].set_xlabel('Discharge [m^3/s]')\n",
    "ax[0].set_ylabel('Stage [m]')\n",
    "ax[0].legend()\n",
    "# right side plot labels\n",
    "ax[1].set_title('Measured Discharge Hydrograph')\n",
    "ax[1].set_xlabel('Date')\n",
    "ax[1].set_ylabel('Discharge [m^3/s]')\n",
    "ax[1].legend()\n",
    "plt.show()"
   ]
  },
  {
   "cell_type": "markdown",
   "metadata": {},
   "source": [
    "### Cumulative Frequency: The Flow Duration Curve (FDC)\n",
    "\n",
    "In order to illustrate the variability of flow in a river, it is common to map flow magnitude to cumulative frequency, or the proportion of time the flow in the river equals or exceeds some amount.  A flow duration curve presents flow magnitude from 0% to 100% exceedance, where values approaching zero are high flows that are very rarely exceeded.  Conversely, values approaching 100% exceedance are low flows that are almost always exceeded.  **50% exceedance represents the median flow**  Note that these values are based on the sample, and the flow duration curve is generally used to describe the overall distribution of flow and not for estimating extremes.  A *flow duration* curve is also referred to as a *flow exceedance* curve. \n",
    "\n",
    "Let's plot a flow duration curve for the measured flow series we created above by applying the rating curve equation to the stage series."
   ]
  },
  {
   "cell_type": "code",
   "execution_count": null,
   "metadata": {},
   "outputs": [],
   "source": [
    "fig, ax = plt.subplots(figsize=(10,6))\n",
    "\n",
    "pct_exceeded = np.linspace(0, 100, 200)\n",
    "flow_quantiles = np.percentile(site_df['RC Q (cms)'].dropna(), pct_exceeded)\n",
    "\n",
    "start_date, end_date = site_df.index[0], site_df.index[-1]\n",
    "\n",
    "ax.plot(pct_exceeded[::-1], flow_quantiles, 'b-')\n",
    "ax.set_title(f'Flow Exceedance Curve (Measured Data: {start_date:%Y-%m-%d} to {end_date:%Y-%m-%d})')\n",
    "ax.set_ylabel('Flow [m^3/s]')\n",
    "ax.set_xlabel('Percent of Time Exceeded [%]')"
   ]
  },
  {
   "cell_type": "markdown",
   "metadata": {},
   "source": [
    "The shape of the FDC gives some insight into the fluctuation of flows in the watershed.  A steeper peak flow end suggests more dramatic 'flashes' of rainfall-runoff response.  The shape of the low-flow tail describes base flows during low flow seasons.  Below is a comparison of two basins of nearly identical size but in very different climates:\n",
    "\n",
    "![Comparison of flow exceedance curves for two basins in BC and Alberta.](img/FDC_comparison.png)\n",
    "\n",
    "From the plot above, the Alberta basin looks to be a bit bit drier, but a dramatic difference in low-flows can be seen by looking closer at the low-flow range:\n",
    "\n",
    "![Comparison of flow exceedance curves for two basins in BC and Alberta, with a focus on low-flow range.](img/FDC_comparison_low_flow.png)\n"
   ]
  },
  {
   "cell_type": "markdown",
   "metadata": {},
   "source": [
    "An FDC is also informative to compare **different estimates at the same location**, such as a measured vs. modeled flow series.\n",
    "\n",
    "Next we'll develop a regional regression model and then use the FDC to evaluate the quality of our model *over specific flow quantiles* -- this is important for the different end-uses of the data."
   ]
  },
  {
   "cell_type": "markdown",
   "metadata": {},
   "source": [
    "## Linear Regression of Daily Streamflow\n",
    "\n",
    "![Active WSC Stations in Western Canada](img/wsc_map_view1.png)\n",
    "\n",
    "Water Survey of Canada (WSC) has operated and maintained hydrometric stations across Canada for over 100 years.  If we can find a regional proxy WSC station in **close proximity to our location of interest, with similar basin characteristics** to those of our project, we can correlate daily streamflow between the two locations, ultimately to generate an estimated (also called synthetic or modeled) long-term flow series for our project location.\n",
    "\n",
    "Typically regressions are done by chronological pairing, which effectively says \"if the flow at the regional (proxy) station was $Q_p$ at time $t$, the flow at our project location at time $t$ will be approximately linearly proportional."
   ]
  },
  {
   "cell_type": "markdown",
   "metadata": {},
   "source": [
    "### Chronological Pairing (CP)\n",
    "\n",
    "A lot of work goes into finding an appropriate long-term record comparable to our location of interest, but we will assume we have been given a long-term daily flow series to use.\n",
    "\n",
    "1.  Find just the concurrent days of record (days where we have flow recorded at **both creeks/rivers**).\n",
    "2.  Create a scatter plot where the x, y coordinates of each data point are (flow1, flow2).  It is customary to put the long-term regional station on the x-axis.\n",
    "3.  Determine the equation describing the line of best fit through the data.\n",
    "4.  Apply the best fit line equation to the long-term surrogate record to yield an estimated long-term series for the project location.\n",
    "\n",
    "To further refine this estimate, we can recognize that the mechanisms driving flow across seasons and months can change quite dramatically, and the relationship between the two catchments can also change month-by-month, and/or season by season.  If there is enough data to create seasonal or monthly regressions, we can develop a best-fit equation for each month or season.  The process of steps 2 through 4 then are the same, except we treat each season or month independently.  \n",
    "\n",
    "The above method is referred to as **chronological pairing (CP)**, as it pairs flows occurring at the same time.  But what if there are timing differences between stations, or what if the spatial variability of precipitation results in flow events that don't coincide in the short term?  "
   ]
  },
  {
   "cell_type": "markdown",
   "metadata": {},
   "source": [
    "### Empirical Frequency Pairing\n",
    "\n",
    "To eliminate the temporal constraint on timing of events at the daily level, instead of comparing concurrent days, we can compare magnitudes of flows. This method is referred to as Empirical Frequency Pairing (EFP) and is commonly used in British Columbia.  Empirical frequency pairing still uses concurrent records, however it is the ranked flows in each series that are compared, i.e. the data points on an EFP plot are:  \n",
    "\n",
    "$$[(R1_{siteA}, R1_{site_B}), (R2_{siteA}, R2_{siteB}), ..., (Rn_{siteA}, Rn_{siteB})]$$  \n",
    "\n",
    "The steps to derive an estimated long-term flow series for our location of interest are the same (i.e. steps 2-4 above)."
   ]
  },
  {
   "cell_type": "markdown",
   "metadata": {},
   "source": [
    "### Set up a Chronological Pairing Regression\n",
    "\n",
    "The first step is to import the regional data series and find all of the dates with values for both locations.\n",
    "\n",
    "Previewing the data shows line 1 has information about two distinct parameters.  Where the `PARAM` column value is 1, the `Value` column corresponds to daily discharge ($\\frac{m^3}{s}$ and where the `PARAM` column value is 2, the `Value` column corresonds to daily water level ($m$).  \n",
    "\n",
    ">**Note**: At the point of data import, we also need to correctly set the header line to index 1 (the second row), because the file has a row of information describing the PARAM values above the actual column header row.  See for yourself by opening up the csv file."
   ]
  },
  {
   "cell_type": "code",
   "execution_count": null,
   "metadata": {},
   "outputs": [],
   "source": [
    "# set the header row to index 1, tell the function to set the \n",
    "# `Date` column as the index.\n",
    "regional_df = pd.read_csv('../../notebook_data/notebook_3_data/Regional_data.csv', header=1, parse_dates=True, index_col='Date')\n",
    "\n",
    "# filter for only the discharge data (PARAM == 1)\n",
    "regional_df = regional_df[regional_df['PARAM'] == 1]\n",
    " \n",
    "# preview the data\n",
    "regional_df.head()"
   ]
  },
  {
   "cell_type": "code",
   "execution_count": null,
   "metadata": {},
   "outputs": [],
   "source": [
    "# check the date range covered by the regional data\n",
    "print('Period of Record:')\n",
    "print(f'    Regional data: {regional_df.index[0]:%Y-%m-%d} to {regional_df.index[-1]:%Y-%m-%d}')\n",
    "\n",
    "# check the date range covered by our data measured at site\n",
    "print(f'        Site data: {site_df.index[0]:%Y-%m-%d} to {site_df.index[-1]:%Y-%m-%d}')"
   ]
  },
  {
   "cell_type": "markdown",
   "metadata": {},
   "source": [
    "### Obtain Concurrent Data\n",
    "\n",
    "From the previous step, we can see that the regional dataset encompasses the date range of our site data.  To perform a linear regression, we want to use **concurrent data only**.   The `concat`, or concatenate, function [documentation can be found here](https://pandas.pydata.org/pandas-docs/stable/reference/api/pandas.concat.html). \n",
    "\n",
    ">**Note**: the `concat` function is used to combine dataframes.  We want to combine two dataframes based on concurrent days.  The `concat` function requires the dataframes to have `datetime`/`timestamp` type indices."
   ]
  },
  {
   "cell_type": "code",
   "execution_count": null,
   "metadata": {},
   "outputs": [],
   "source": [
    "print(type(site_df.index[0]))\n",
    "print(type(regional_df.index[0]))"
   ]
  },
  {
   "cell_type": "markdown",
   "metadata": {},
   "source": [
    "Above we can see that both dataframe indices are `timestamp` types."
   ]
  },
  {
   "cell_type": "code",
   "execution_count": null,
   "metadata": {},
   "outputs": [],
   "source": [
    "# create a new dataframe of concurrent data and plot the data\n",
    "# join='inner' says to line up the indices and get the \n",
    "# values that are common between the two dataframes\n",
    "# axis=1 says line up columns instead of rows\n",
    "concurrent_df = pd.concat([site_df, regional_df], join='inner', axis=1)\n",
    "concurrent_df = concurrent_df.dropna(subset=['Value','RC Q (cms)'], how='any')\n",
    "concurrent_df.head()"
   ]
  },
  {
   "cell_type": "markdown",
   "metadata": {},
   "source": [
    "## Regression Plot\n",
    "\n",
    "Plot the concurrent daily flows between the project location and the regional station to see if there is a correlation between the two that could be used to develop a model for our project location."
   ]
  },
  {
   "cell_type": "code",
   "execution_count": null,
   "metadata": {},
   "outputs": [],
   "source": [
    "#### Regression Plot\n",
    "fig, ax = plt.subplots(figsize=(8,4))\n",
    "ax.plot(concurrent_df['Value'], concurrent_df['RC Q (cms)'], 'bo')\n",
    "ax.set_title('Regression Plot (All Concurrent Data)')\n",
    "ax.set_ylabel('Site Q [m^3/s]')\n",
    "ax.set_xlabel('Regional Q [m^3/s]')"
   ]
  },
  {
   "cell_type": "code",
   "execution_count": null,
   "metadata": {},
   "outputs": [],
   "source": [
    "# find the best fit equation\n",
    "slope, intercept, rval, pval, stderr = st.linregress(concurrent_df['Value'], concurrent_df['RC Q (cms)'])"
   ]
  },
  {
   "cell_type": "code",
   "execution_count": null,
   "metadata": {},
   "outputs": [],
   "source": [
    "sign = '+'\n",
    "if intercept < 0:\n",
    "    sign = '-'\n",
    "\n",
    "print('Regression Equation:')\n",
    "print(f'    Q_site = {slope:.1f}xQ_regional {sign} {intercept:.1f}')"
   ]
  },
  {
   "cell_type": "markdown",
   "metadata": {},
   "source": [
    "Add the best fit line (regression model) to the plot."
   ]
  },
  {
   "cell_type": "code",
   "execution_count": null,
   "metadata": {},
   "outputs": [],
   "source": [
    "x_range = 0, concurrent_df['Value'].max()\n",
    "model_q = [slope * x + intercept for x in x_range]\n",
    "\n",
    "fig, ax = plt.subplots(figsize=(8,4))\n",
    "ax.plot(concurrent_df['Value'], concurrent_df['RC Q (cms)'], 'bo')\n",
    "ax.set_title(f'Regression Model: Q_site = {slope:.1f}*Q_regional {sign} {intercept:.1f}')\n",
    "ax.set_ylabel('Site Q [m^3/s]')\n",
    "ax.set_xlabel('Regional Q [m^3/s]')\n",
    "ax.plot(x_range, model_q, 'r--')\n"
   ]
  },
  {
   "cell_type": "markdown",
   "metadata": {},
   "source": [
    "## Create long-term daily flow series for the project location\n",
    "\n",
    "The last step in the process of a long-term flow estimate for our project location is to use the equation of the best fit line (the model) to calculate estimated daily flows over periods where flow was not measured at our project location."
   ]
  },
  {
   "cell_type": "code",
   "execution_count": null,
   "metadata": {},
   "outputs": [],
   "source": [
    "regional_df.columns"
   ]
  },
  {
   "cell_type": "code",
   "execution_count": null,
   "metadata": {},
   "outputs": [],
   "source": [
    "# map the equation of the best fit line to the regional flow series\n",
    "# to get the long-term modeled flow series for the project location\n",
    "regional_df['Model_q_cms'] = regional_df['Value'].apply(lambda q: slope * q + intercept)"
   ]
  },
  {
   "cell_type": "code",
   "execution_count": null,
   "metadata": {},
   "outputs": [],
   "source": [
    "regional_df.columns"
   ]
  },
  {
   "cell_type": "markdown",
   "metadata": {},
   "source": [
    "## Compare the model flow series to the measured series"
   ]
  },
  {
   "cell_type": "code",
   "execution_count": null,
   "metadata": {},
   "outputs": [],
   "source": [
    "# compare the modeled vs. measured flow series \n",
    "# \n",
    "concurrent_df['Model_q_cms'] = concurrent_df['Value'].apply(lambda q: slope * q + intercept)\n",
    "concurrent_df.head()"
   ]
  },
  {
   "cell_type": "code",
   "execution_count": null,
   "metadata": {},
   "outputs": [],
   "source": [
    "fig, ax = plt.subplots(figsize=(12, 6))\n",
    "\n",
    "ax.plot(concurrent_df.index, concurrent_df['RC Q (cms)'], 'g-', label='Measured Q')\n",
    "ax.plot(concurrent_df.index, concurrent_df['Model_q_cms'], 'b-', label='Model Q')\n",
    "\n",
    "ax.set_title('Measured vs. Modeled Daily Avg. Flow')\n",
    "ax.set_xlabel('Date')\n",
    "ax.set_ylabel('Flow [cms]')\n",
    "ax.legend()"
   ]
  },
  {
   "cell_type": "markdown",
   "metadata": {},
   "source": [
    "### In the above plot, note general patterns, specific exceptions, and any trends\n",
    "\n",
    "Note the big deviation between the two series in the summer of 2010.  This looks like our model is doing a particularly bad job in the late summer.  How about in other seasons?   How is the model doing at predicting peaks?  \n",
    "\n",
    ">**Note**: in the figure above, we label one series as \"Measured Q\" but in reality recall it is not *directly* measured.  It is itself a model of the relationship between stage and discharge.  **The rating curve equation is the model!**"
   ]
  },
  {
   "cell_type": "markdown",
   "metadata": {},
   "source": [
    "### Best-fit\n",
    "\n",
    "The least-squares best fit is a common way to define the linear relationship between two variables.  It is a minimization of the sum of squared differences between the line (the model) and the observation.  Because it uses the square difference, it is sensitive to outliers.  It is good practice to check the residuals of the model to see if our model contains bias, and make an adjustment if warranted.  We can exclude outliers from the best fit (but still show them in the plot!), or we could use the L1-norm, which is the sum of absolute differences which is more robust to outliers.\n",
    "\n",
    "Below, we'll apply the best fit model to the regional data for the period of measured record, we'll calculate the difference (residuals) between modeled and measured flows, and then we'll plot these residuals to look for bias in our model."
   ]
  },
  {
   "cell_type": "code",
   "execution_count": null,
   "metadata": {},
   "outputs": [],
   "source": [
    "# create a series to represent the modeled flow \n",
    "concurrent_df['Model_Q'] = concurrent_df['Value'] * slope + intercept\n",
    "\n",
    "# find the residuals\n",
    "concurrent_df['residuals'] =  concurrent_df['Model_Q'] - concurrent_df['RC Q (cms)']"
   ]
  },
  {
   "cell_type": "code",
   "execution_count": null,
   "metadata": {},
   "outputs": [],
   "source": [
    "fig, ax = plt.subplots(1, 2, figsize=(10,4))\n",
    "\n",
    "sorted_df = concurrent_df.sort_values('Model_Q').copy()\n",
    "\n",
    "ax[0].plot(sorted_df['Model_Q'], sorted_df['residuals'], 'bo')\n",
    "ax[0].plot([sorted_df['Model_Q'].min(), sorted_df['Model_Q'].max()], [0, 0], 'r--')\n",
    "ax[0].set_title(f'Regression Model Residuals')\n",
    "ax[0].set_xlabel('Measured - Modeled Flow [cms]')\n",
    "ax[0].set_ylabel('Measured Flow')\n",
    "\n",
    "# plot a histogram of the residuals to assess the distribution of error\n",
    "a = plt.hist(sorted_df['residuals'], bins='auto', \n",
    "orientation='horizontal', density=True)\n",
    "ax[1].set_title('Histogram of Residuals')\n",
    "\n",
    "# toggle the line below to see a closeup around 0\n",
    "# ax[1].set_ylim(-1.5, 1.5)"
   ]
  },
  {
   "cell_type": "markdown",
   "metadata": {},
   "source": [
    "### Compare measured vs. modeled flow duration curves\n",
    "\n",
    "How else can we evaluate how the model is fitting the measured data, noting in particular that we are interested in certain ranges of flows, perhaps for generating energy year-round, or supplying a community with drinking water in a dry season?\n",
    "\n",
    "Recall how we plotted the flow duration curve in Notebook 3.  The flow duration curve is particularly useful for focusing on how well the model matches measured data across the range of flows (though extremes are de-emphasized). \n",
    "\n",
    "What do the differences between flow duration curves shown below suggest about how well our model represents the project area?  "
   ]
  },
  {
   "cell_type": "code",
   "execution_count": null,
   "metadata": {},
   "outputs": [],
   "source": [
    "fig, ax = plt.subplots(figsize=(10,6))\n",
    "\n",
    "pct_exceeded = np.linspace(0, 100, 200)\n",
    "msd_flow_quantiles = np.percentile(concurrent_df['RC Q (cms)'].dropna(), pct_exceeded)\n",
    "model_flow_quantiles = np.percentile(concurrent_df['Model_q_cms'].dropna(), pct_exceeded)\n",
    "\n",
    "start_date, end_date = concurrent_df.index[0], concurrent_df.index[-1]\n",
    "\n",
    "#plot the measured series FDC\n",
    "ax.plot(pct_exceeded[::-1], msd_flow_quantiles, 'b-', label='Measured')\n",
    "#plot the measured series FDC\n",
    "ax.plot(pct_exceeded[::-1], model_flow_quantiles, 'r-', label='Modeled')\n",
    "\n",
    "ax.set_title(f'Flow Exceedance Curve ({start_date:%Y-%m-%d} to {end_date:%Y-%m-%d})')\n",
    "ax.set_ylabel('Flow [m^3/s]')\n",
    "ax.set_xlabel('Percent of Time Exceeded [%]')\n",
    "ax.legend()"
   ]
  },
  {
   "cell_type": "markdown",
   "metadata": {},
   "source": [
    "## Estimate the Long-Term Mean Annual Flow for our Project Location\n",
    "\n",
    "Compare the long term mean annual against the short term, then compare the long-term monthly and annual series."
   ]
  },
  {
   "cell_type": "code",
   "execution_count": null,
   "metadata": {},
   "outputs": [],
   "source": [
    "regional_df.head()"
   ]
  },
  {
   "cell_type": "code",
   "execution_count": null,
   "metadata": {},
   "outputs": [],
   "source": [
    "# first drop any NaN values so we can calculate mean and percentile values\n",
    "regional_df.dropna(subset=['Model_q_cms'], inplace=True)\n",
    "\n",
    "lt_mad = regional_df[['Model_q_cms']].mean().values[0]\n",
    "msd_mean = site_df[['RC Q (cms)']].mean().values[0]\n",
    "\n",
    "lt_median = np.percentile(regional_df['Model_q_cms'], 50)\n",
    "msd_median = site_df[['RC Q (cms)']].median().to_numpy()[0]\n",
    "\n",
    "print(f'The estimated long-term mean annual flow (MAD) at our project location is {lt_mad:.1f} m^3/s')\n",
    "print(f'The average flow over the measured period was {msd_mean:.1f} m^3/s')\n",
    "print(f'The estimated long-term median flow is {lt_median:.1f} m^3/s')\n",
    "print(f'The median flow over the measured period was {msd_median:.1f} m^3/s')"
   ]
  },
  {
   "cell_type": "code",
   "execution_count": null,
   "metadata": {},
   "outputs": [],
   "source": [
    "regional_df['month'] = regional_df.index.month\n",
    "annual_series = regional_df[['Model_q_cms', 'month']].groupby('month').mean()\n",
    "\n",
    "site_df['month'] = site_df.index.month\n",
    "msd_ann = site_df[['month', 'RC Q (cms)']].groupby('month').mean()\n",
    "\n",
    "fig, ax = plt.subplots(figsize=(10, 6))\n",
    "\n",
    "ax.plot(annual_series['Model_q_cms'], 'r-', label='LT Modelled')\n",
    "ax.plot(msd_ann['RC Q (cms)'], 'b-', label='Measured')\n",
    "ax.set_title('Annual Hydrograph')\n",
    "ax.set_xlabel('Month')\n",
    "ax.set_ylabel('Flow [cms]')\n",
    "ax.legend()"
   ]
  },
  {
   "cell_type": "markdown",
   "metadata": {},
   "source": [
    "The two series above highlight the difference a long-term estimate can make.  If we were to base a model on the short term measured series (blue), we might underestimate the flow available in the winter months (when energy is especially valuable), or overestimate the snowmelt in spring **over the long term**."
   ]
  },
  {
   "cell_type": "markdown",
   "metadata": {},
   "source": [
    "## Questions for Reflection\n",
    "\n",
    "1.  From our regression plot and from the comparison of measured and estimated daily flow series, what do you think about the quality of our model, i.e. how well does the best fit line approximate the concurrent daily flows (blue dots)?  \n",
    "2.  What flow is exceeded 50% OR MORE of the time, how well is this range modelled and what might this flow range be pertinent to for a hydropower project?  \n",
    "3.  What could differences in concurrent flows at the two locations be attributable to?  \n",
    "4.  How might we modify our model to capture one of the differences you noted in 3?\n",
    "5.  In the last plot, we see that the ~two years of observation have a substantially different annual distribution compared to the long-term estimate.  What might happen if we used the short-term observed series instead of the long-term estimate?"
   ]
  },
  {
   "cell_type": "markdown",
   "metadata": {},
   "source": [
    "## References\n",
    "\n",
    "1. A.S. Hamilton & R.D. Moore (2012). Quantifying Uncertainty in Streamflow Records , Canadian Water Resources Journal / Revue canadienne des ressources hydriques, 37:1, 3-21, DOI: 10.4296/cwrj3701865\n",
    "2. Environment Canada (2012).  Hydrometric Manual - Data Computations.  Water Survey of Canada, Weather and Environmental Monitoring Directorate."
   ]
  },
  {
   "cell_type": "code",
   "execution_count": null,
   "metadata": {},
   "outputs": [],
   "source": [
    "# EFP\n",
    "from bokeh.plotting import figure, show\n",
    "from bokeh.io import output_notebook\n",
    "output_notebook()\n",
    "\n",
    "# efp_x = concurrent_df\n",
    "concurrent_df.columns\n",
    "regional_label = 'Value'\n",
    "local_label = 'RC Q (cms)'\n",
    "\n",
    "efp_x = concurrent_df[regional_label].sort_values()\n",
    "efp_y = concurrent_df[local_label].sort_values()"
   ]
  },
  {
   "cell_type": "code",
   "execution_count": null,
   "metadata": {},
   "outputs": [],
   "source": [
    "# find the best fit equation\n",
    "slope, intercept, rval, pval, stderr = st.linregress(efp_x, efp_y)\n",
    "\n",
    "bf_x = np.linspace(0, 11, 100)\n",
    "bf_y = [slope * x + intercept for x in bf_x]"
   ]
  },
  {
   "cell_type": "code",
   "execution_count": null,
   "metadata": {},
   "outputs": [],
   "source": [
    "p = figure(title='Empirical Frequency Plot', width=500, height=400)\n",
    "p.circle(efp_x, efp_y)\n",
    "p.line(bf_x, bf_y, color='red', line_dash='dashed', \n",
    "       legend_label=f'Q_p = {slope:.2f}xQ_r + {intercept:.2f}')\n",
    "p.xaxis.axis_label = 'Regional Flow [cms]'\n",
    "p.yaxis.axis_label = 'Project Flow [cms]'\n",
    "show(p)"
   ]
  },
  {
   "cell_type": "code",
   "execution_count": null,
   "metadata": {},
   "outputs": [],
   "source": [
    "concurrent_df.columns\n",
    "\n",
    "from bokeh.plotting import figure, show, output_file\n",
    "from bokeh.models import ColumnDataSource, Band\n",
    "from bokeh.io import output_notebook\n",
    "from bokeh.layouts import gridplot, column"
   ]
  },
  {
   "cell_type": "code",
   "execution_count": null,
   "metadata": {},
   "outputs": [],
   "source": [
    "# customize the tools for interacting with the plot\n",
    "TOOLS=\"pan,box_zoom,wheel_zoom,reset,hover,poly_select,lasso_select,box_select\"\n",
    "\n",
    "# stage_df = stage_df.reset_index(drop=True)\n",
    "# the Bokeh plotting library uses a \"ColumnDataSource\" data structure to \n",
    "# link plots and make them more interactive\n",
    "# set data sources for plot linking\n",
    "source = ColumnDataSource(concurrent_df)\n",
    "# ts_source = ColumnDataSource(stage_df)\n",
    "\n",
    "#### RATING CURVE PLOT (left side)\n",
    "reg_plot = figure(plot_width=700, plot_height=400,\n",
    "                title='Regression Plot',\n",
    "                tools=TOOLS)\n",
    "\n",
    "# plot the measured discharge points as circle glyphs\n",
    "reg_plot.circle('Value', 'RC Q (cms)', size=5, color=\"red\", alpha=0.5,\n",
    "              source=source, legend_label='Concurrent Q')\n",
    "\n",
    "#### DAILY FLOW SERIES PLOT (right side)\n",
    "# we can use the y_range attribute to link the plot scales\n",
    "daily_flow_plot = figure(plot_width=700, plot_height=200, \n",
    "                        x_axis_type='datetime', \n",
    "                        title='Daily Flow Hydrograph',\n",
    "                        y_range=reg_plot.x_range)\n",
    "\n",
    "# # plot the flow series based on the OLS best fit\n",
    "daily_flow_plot.circle('Date', 'RC Q (cms)', \n",
    "                    legend_label='Project Flow', color='green',\n",
    "                    source=source)\n",
    "\n",
    "# plot the flow series based on the manual fit\n",
    "daily_flow_plot.circle('Date', 'Value', \n",
    "                    legend_label='Regional Flow', color='dodgerblue',\n",
    "                    source=source)\n",
    "\n",
    "# daily_flow_plot.line('Date', 'RC Q (cms)')\n",
    "# label the axes\n",
    "daily_flow_plot.xaxis.axis_label = 'Date'\n",
    "daily_flow_plot.yaxis.axis_label = 'Flow (m³/s)'\n",
    "daily_flow_plot.legend.location = \"top_left\"\n",
    "reg_plot.xaxis.axis_label = 'Regional Flow (m³/s)'\n",
    "reg_plot.xaxis.axis_label = 'Project Flow (m³/s)'\n",
    "reg_plot.legend.location = \"bottom_right\"\n",
    "\n",
    "layout = column([reg_plot, daily_flow_plot])\n",
    "\n",
    "# show the results\n",
    "show(layout)"
   ]
  },
  {
   "cell_type": "code",
   "execution_count": null,
   "metadata": {},
   "outputs": [],
   "source": []
  },
  {
   "cell_type": "code",
   "execution_count": null,
   "metadata": {},
   "outputs": [],
   "source": []
  }
 ],
 "metadata": {
  "kernelspec": {
   "display_name": "Python 3 (ipykernel)",
   "language": "python",
   "name": "python3"
  },
  "language_info": {
   "codemirror_mode": {
    "name": "ipython",
    "version": 3
   },
   "file_extension": ".py",
   "mimetype": "text/x-python",
   "name": "python",
   "nbconvert_exporter": "python",
   "pygments_lexer": "ipython3",
   "version": "3.10.6"
  },
  "vscode": {
   "interpreter": {
    "hash": "31f2aee4e71d21fbe5cf8b01ff0e069b9275f58929596ceb00d14d90e3e16cd6"
   }
  }
 },
 "nbformat": 4,
 "nbformat_minor": 4
}
