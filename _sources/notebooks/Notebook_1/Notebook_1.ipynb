{
 "cells": [
  {
   "cell_type": "code",
   "execution_count": 1,
   "metadata": {},
   "outputs": [],
   "source": [
    "# import libraries\n",
    "import os\n",
    "import pandas as pd\n",
    "import numpy as np\n",
    "import math\n",
    "\n",
    "# plotting library\n",
    "from matplotlib import pyplot as plt\n",
    "# advanced statistics library\n",
    "from scipy import stats\n"
   ]
  },
  {
   "cell_type": "markdown",
   "metadata": {},
   "source": [
    "# Notebook 1: Flow Measurement using the Salt Dilution Method\n",
    "\n",
    "## Introduction\n",
    "\n",
    "[Flow measurement by salt dilution](https://doi.org/10.1002/hyp.3360070212)$^{[1]}$ is a type of tracer method where the natural conductivity of stream water is temporarily raised by adding (dissolving) a known mass of tracer into the stream, and measuring a response downstream.  Tracer methods can be done by slug injection or steady-state.  A \"slug\" is a known mass of tracer that dissolves and mixes in the stream.  The steady-state method is a constant injection of a dissolved tracer of known concentration.  Both methods are suited to lower flows where a sufficient signal-to-noise ratio can be acheived with a relatively small amount of tracer, and to turbulent flows where adequate mixing of the tracer can be achieved.  Table salt is commonly used for measurement because it is cheap and practical for field measurement, and the concentration and durations are small compared to [observed levels of toxicity](https://doi.org/10.1016/j.envpol.2017.01.040)$^{[2]}$.  \n",
    "\n",
    "This notebook introduces the instrument calibration and measurement data processing for a salt dilution streamflow measurement using the slug tracer method.  More information on the steady-state method can be found [here](https://citeseerx.ist.psu.edu/viewdoc/download?doi=10.1.1.454.1620&rep=rep1&type=pdf&bcgovtm=new%20west%20record).  At the end of this notebook, there is an open ended question that asks you to reflect on the content of the notebook."
   ]
  },
  {
   "cell_type": "markdown",
   "metadata": {},
   "source": [
    "### Given Information:\n",
    "\n",
    "| Parameter | Value | Units |\n",
    "|---|---|---|\n",
    "| Date of Measurement | 26 September 2010 | -|\n",
    "| Mass of Injected Salt | 100 | kg |\n",
    "| Calibration Solution | 10.1 | $\\frac{g}{L}$ |\n",
    "| Calibration Volume | 500 | $mL$ |\n",
    "| Calibration increments | 1.1 | $mL$ |"
   ]
  },
  {
   "cell_type": "markdown",
   "metadata": {},
   "source": [
    "## Import the Salt Dilution Data\n",
    "\n",
    "In a salt dilution measurement, we first calibrate the instrument using known concentrations of salt solution.  \n",
    "\n",
    "The calibration data is provided in a file named **SD_cal.csv**, and it's saved under:\n",
    ">`<project root>/content/notebook_data/notebook_1_data/`.\n",
    "\n",
    "If you haven't done so, review the different ways we can specify file paths and navigate file structure in the [Data Import and Review](notebooks/Introduction/Data_Import_and_Review.ipynb) notebook.  "
   ]
  },
  {
   "cell_type": "code",
   "execution_count": 66,
   "metadata": {},
   "outputs": [],
   "source": [
    "data_file_path = '../../notebook_data/notebook_1_data/'\n",
    "calibration_filename = 'SD_cal.csv' # this is the calibration data file\n",
    "salt_dilution_filename = 'SD_data.csv' # this is the measurement data file"
   ]
  },
  {
   "cell_type": "code",
   "execution_count": 67,
   "metadata": {},
   "outputs": [
    {
     "name": "stdout",
     "output_type": "stream",
     "text": [
      "../../notebook_data/notebook_1_data/SD_cal.csv\n"
     ]
    }
   ],
   "source": [
    "# instrument calibration data\n",
    "# see how two strings can be combined with the '+' operator\n",
    "print(data_file_path + calibration_filename)\n",
    "sd_cal = pd.read_csv(data_file_path + calibration_filename)\n",
    "\n",
    "# discharge measurement data\n",
    "sd_data = pd.read_csv(data_file_path + salt_dilution_filename)"
   ]
  },
  {
   "cell_type": "markdown",
   "metadata": {},
   "source": [
    "Here we specify some known quantities concerning the calibration of our measurement device.  This information was recorded by the field staff and can be found in the SD_cal spreadsheet:\n",
    "\n",
    "![Measurement calibration information found in the calibration spreadsheet file.](img/sd_cal_sheet.png)"
   ]
  },
  {
   "cell_type": "code",
   "execution_count": 68,
   "metadata": {},
   "outputs": [],
   "source": [
    "# data given in the calibration file\n",
    "cal_solution_concn = 10.0 # g/L - this is the NaCl concentration in the calibration solution (column A, row 11)\n",
    "cal_vol = 500 # total calibration volume mL  (row 2 of Calibration volume column)\n",
    "cal_vol_increment = 1.0 # [mL] increments for calibration solution (Calibration solution added (ml) column)"
   ]
  },
  {
   "cell_type": "code",
   "execution_count": 69,
   "metadata": {},
   "outputs": [
    {
     "data": {
      "text/html": [
       "<div>\n",
       "<style scoped>\n",
       "    .dataframe tbody tr th:only-of-type {\n",
       "        vertical-align: middle;\n",
       "    }\n",
       "\n",
       "    .dataframe tbody tr th {\n",
       "        vertical-align: top;\n",
       "    }\n",
       "\n",
       "    .dataframe thead th {\n",
       "        text-align: right;\n",
       "    }\n",
       "</style>\n",
       "<table border=\"1\" class=\"dataframe\">\n",
       "  <thead>\n",
       "    <tr style=\"text-align: right;\">\n",
       "      <th></th>\n",
       "      <th>Calibration volume (ml)</th>\n",
       "      <th>Calibration solution added (ml)</th>\n",
       "      <th>Salt added (mg)</th>\n",
       "      <th>Concentration (mg/l)</th>\n",
       "      <th>Conductivity (microSiemens/cm)</th>\n",
       "      <th>Temperature (C)</th>\n",
       "    </tr>\n",
       "  </thead>\n",
       "  <tbody>\n",
       "    <tr>\n",
       "      <th>0</th>\n",
       "      <td>500</td>\n",
       "      <td>0.0</td>\n",
       "      <td>0.0</td>\n",
       "      <td>0.0</td>\n",
       "      <td>303.0</td>\n",
       "      <td>10.8</td>\n",
       "    </tr>\n",
       "    <tr>\n",
       "      <th>1</th>\n",
       "      <td>NaN</td>\n",
       "      <td>1.0</td>\n",
       "      <td>NaN</td>\n",
       "      <td>NaN</td>\n",
       "      <td>343.0</td>\n",
       "      <td>10.8</td>\n",
       "    </tr>\n",
       "    <tr>\n",
       "      <th>2</th>\n",
       "      <td>NaN</td>\n",
       "      <td>2.0</td>\n",
       "      <td>NaN</td>\n",
       "      <td>NaN</td>\n",
       "      <td>380.0</td>\n",
       "      <td>10.8</td>\n",
       "    </tr>\n",
       "    <tr>\n",
       "      <th>3</th>\n",
       "      <td>NaN</td>\n",
       "      <td>3.0</td>\n",
       "      <td>NaN</td>\n",
       "      <td>NaN</td>\n",
       "      <td>426.0</td>\n",
       "      <td>10.8</td>\n",
       "    </tr>\n",
       "    <tr>\n",
       "      <th>4</th>\n",
       "      <td>NaN</td>\n",
       "      <td>4.0</td>\n",
       "      <td>NaN</td>\n",
       "      <td>NaN</td>\n",
       "      <td>464.0</td>\n",
       "      <td>10.8</td>\n",
       "    </tr>\n",
       "  </tbody>\n",
       "</table>\n",
       "</div>"
      ],
      "text/plain": [
       "  Calibration volume (ml)  Calibration solution added (ml)  Salt added (mg)  \\\n",
       "0                     500                              0.0              0.0   \n",
       "1                     NaN                              1.0              NaN   \n",
       "2                     NaN                              2.0              NaN   \n",
       "3                     NaN                              3.0              NaN   \n",
       "4                     NaN                              4.0              NaN   \n",
       "\n",
       "   Concentration (mg/l)  Conductivity (microSiemens/cm)  Temperature (C)  \n",
       "0                   0.0                           303.0             10.8  \n",
       "1                   NaN                           343.0             10.8  \n",
       "2                   NaN                           380.0             10.8  \n",
       "3                   NaN                           426.0             10.8  \n",
       "4                   NaN                           464.0             10.8  "
      ]
     },
     "execution_count": 69,
     "metadata": {},
     "output_type": "execute_result"
    }
   ],
   "source": [
    "# display a preview of the calibration data\n",
    "sd_cal.head()"
   ]
  },
  {
   "cell_type": "markdown",
   "metadata": {},
   "source": [
    ">**Note**: several columns contain `NaN`.  We need to update these columns based on the calibration procedure.  \n",
    "\n",
    "The calibration procedure is as follows:\n",
    "1.  Collect a sample of river water with a known volume (500mL is the first entry in the `Calibration Volume (ml)` column.)  Let's call this the **control sample**.\n",
    "2.  Measure the baseline conductivity of the control sample.\n",
    "3.  Add a known volume of calibration solution to the control sample (the `Calibration solution added (ml)` column indicates how much solution we add at each calibration step.  In this case, it's 1.0 millilitres.\n",
    "4.  Measure the conductivity of the control sample.\n",
    "5.  Repeat steps 3-4 until five measurements are recorded."
   ]
  },
  {
   "cell_type": "code",
   "execution_count": 70,
   "metadata": {},
   "outputs": [],
   "source": [
    "# update the calibration solution added column for the volume of calibration solution added during the calibration\n",
    "# note that the index column can be used as a multiplier to give the correct cumulative calibration volume added\n",
    "sd_cal['Calibration solution added (ml)'] = cal_vol_increment * sd_cal.index\n",
    "\n",
    "#  add the volume of solution to the calibration volume\n",
    "sd_cal['Calibration volume (ml)'] = cal_vol + sd_cal['Calibration solution added (ml)']\n",
    "\n",
    "# calculate the equivalent salt mass added from the calibration solution volume\n",
    "# and the calibration solution concentration.\n",
    "sd_cal['Salt added (mg)'] = sd_cal['Calibration solution added (ml)'] * cal_solution_concn\n",
    "sd_cal['Concentration (mg/l)'] = sd_cal['Salt added (mg)'] / (sd_cal['Calibration volume (ml)'] / 1000)\n",
    "\n",
    "# drop empty rows\n",
    "sd_cal.dropna(how='any', inplace=True)"
   ]
  },
  {
   "cell_type": "code",
   "execution_count": 71,
   "metadata": {},
   "outputs": [
    {
     "data": {
      "text/html": [
       "<div>\n",
       "<style scoped>\n",
       "    .dataframe tbody tr th:only-of-type {\n",
       "        vertical-align: middle;\n",
       "    }\n",
       "\n",
       "    .dataframe tbody tr th {\n",
       "        vertical-align: top;\n",
       "    }\n",
       "\n",
       "    .dataframe thead th {\n",
       "        text-align: right;\n",
       "    }\n",
       "</style>\n",
       "<table border=\"1\" class=\"dataframe\">\n",
       "  <thead>\n",
       "    <tr style=\"text-align: right;\">\n",
       "      <th></th>\n",
       "      <th>Calibration volume (ml)</th>\n",
       "      <th>Calibration solution added (ml)</th>\n",
       "      <th>Salt added (mg)</th>\n",
       "      <th>Concentration (mg/l)</th>\n",
       "      <th>Conductivity (microSiemens/cm)</th>\n",
       "      <th>Temperature (C)</th>\n",
       "    </tr>\n",
       "  </thead>\n",
       "  <tbody>\n",
       "    <tr>\n",
       "      <th>0</th>\n",
       "      <td>500.0</td>\n",
       "      <td>0.0</td>\n",
       "      <td>0.0</td>\n",
       "      <td>0.000000</td>\n",
       "      <td>303.0</td>\n",
       "      <td>10.8</td>\n",
       "    </tr>\n",
       "    <tr>\n",
       "      <th>1</th>\n",
       "      <td>501.0</td>\n",
       "      <td>1.0</td>\n",
       "      <td>10.0</td>\n",
       "      <td>19.960080</td>\n",
       "      <td>343.0</td>\n",
       "      <td>10.8</td>\n",
       "    </tr>\n",
       "    <tr>\n",
       "      <th>2</th>\n",
       "      <td>502.0</td>\n",
       "      <td>2.0</td>\n",
       "      <td>20.0</td>\n",
       "      <td>39.840637</td>\n",
       "      <td>380.0</td>\n",
       "      <td>10.8</td>\n",
       "    </tr>\n",
       "    <tr>\n",
       "      <th>3</th>\n",
       "      <td>503.0</td>\n",
       "      <td>3.0</td>\n",
       "      <td>30.0</td>\n",
       "      <td>59.642147</td>\n",
       "      <td>426.0</td>\n",
       "      <td>10.8</td>\n",
       "    </tr>\n",
       "    <tr>\n",
       "      <th>4</th>\n",
       "      <td>504.0</td>\n",
       "      <td>4.0</td>\n",
       "      <td>40.0</td>\n",
       "      <td>79.365079</td>\n",
       "      <td>464.0</td>\n",
       "      <td>10.8</td>\n",
       "    </tr>\n",
       "    <tr>\n",
       "      <th>5</th>\n",
       "      <td>505.0</td>\n",
       "      <td>5.0</td>\n",
       "      <td>50.0</td>\n",
       "      <td>99.009901</td>\n",
       "      <td>505.0</td>\n",
       "      <td>10.8</td>\n",
       "    </tr>\n",
       "    <tr>\n",
       "      <th>6</th>\n",
       "      <td>506.0</td>\n",
       "      <td>6.0</td>\n",
       "      <td>60.0</td>\n",
       "      <td>118.577075</td>\n",
       "      <td>546.0</td>\n",
       "      <td>10.8</td>\n",
       "    </tr>\n",
       "  </tbody>\n",
       "</table>\n",
       "</div>"
      ],
      "text/plain": [
       "   Calibration volume (ml)  Calibration solution added (ml)  Salt added (mg)  \\\n",
       "0                    500.0                              0.0              0.0   \n",
       "1                    501.0                              1.0             10.0   \n",
       "2                    502.0                              2.0             20.0   \n",
       "3                    503.0                              3.0             30.0   \n",
       "4                    504.0                              4.0             40.0   \n",
       "5                    505.0                              5.0             50.0   \n",
       "6                    506.0                              6.0             60.0   \n",
       "\n",
       "   Concentration (mg/l)  Conductivity (microSiemens/cm)  Temperature (C)  \n",
       "0              0.000000                           303.0             10.8  \n",
       "1             19.960080                           343.0             10.8  \n",
       "2             39.840637                           380.0             10.8  \n",
       "3             59.642147                           426.0             10.8  \n",
       "4             79.365079                           464.0             10.8  \n",
       "5             99.009901                           505.0             10.8  \n",
       "6            118.577075                           546.0             10.8  "
      ]
     },
     "execution_count": 71,
     "metadata": {},
     "output_type": "execute_result"
    }
   ],
   "source": [
    "# see how the calibration data has been updated\n",
    "sd_cal"
   ]
  },
  {
   "cell_type": "markdown",
   "metadata": {},
   "source": [
    "## Plot the calibration and best fit line\n",
    "\n",
    "The sevel calibration points are plotted below as a series of red circles.  The best fit line through the calibration points is represented by a dashed blue line.    \n",
    "\n",
    ">**Note**:  More information on specifying the appearance of plots can be found in the [matplotlib documentation](https://matplotlib.org/3.1.0/api/markers_api.html#module-matplotlib.markers). In the plot below, the red circle is specified by the short-form string `'ro'` and the dashed blue line is specified by the three character code `'b--'`.\n",
    "\n",
    "The `stats.linregress` function takes in two arrays and returns the equation of the best fit line through the data, along with information about the fit.  Note that the r-value is the correlation coefficient.  The coefficient of determination ($R^2$) is the correlation coefficient squared."
   ]
  },
  {
   "cell_type": "code",
   "execution_count": 72,
   "metadata": {},
   "outputs": [
    {
     "data": {
      "text/plain": [
       "<matplotlib.legend.Legend at 0x7fa8f4a64fa0>"
      ]
     },
     "execution_count": 72,
     "metadata": {},
     "output_type": "execute_result"
    },
    {
     "data": {
      "image/png": "[encoded data removed]",
      "text/plain": [
       "<Figure size 720x432 with 1 Axes>"
      ]
     },
     "metadata": {
      "needs_background": "light"
     },
     "output_type": "display_data"
    }
   ],
   "source": [
    "# initialize a single figure (the values 1, 1 can be changed to create a grid of plots)\n",
    "fig, ax = plt.subplots(1, 1, figsize=(10,6))\n",
    "\n",
    "# the .to_numpy() attribute converts to a vector in order to do vector operations\n",
    "cond_series = sd_cal['Conductivity (microSiemens/cm)'].to_numpy()\n",
    "conc_series = sd_cal['Concentration (mg/l)'].to_numpy()\n",
    "\n",
    "# add the calibration points to the plot\n",
    "ax.plot(cond_series, conc_series, 'go', label=\"Calibration Points\")\n",
    "\n",
    "ax.set_xlabel('Temperature Compenstated Conductivity [uS/cm]')\n",
    "ax.set_ylabel('Control Volume Salt Concentration [mg/l]')\n",
    "ax.set_title('Salt Dilution Measurement Calibration')\n",
    "\n",
    "# add best fit line\n",
    "results = stats.linregress(cond_series, conc_series)\n",
    "# the stats.linregress output is a 5-tuple, r_value is the correlation coefficient\n",
    "slope, intercept, r_value, p_value, std_err = results\n",
    "\n",
    "#  create an array between the minimum and maximum calibration points\n",
    "x_range = np.linspace(cond_series.min(), cond_series.max(),  100)\n",
    "\n",
    "# use the best fit slope and intercept to construct the best fit line\n",
    "best_fit = [x * slope + intercept for x in x_range]\n",
    "\n",
    "# add the best fit line to the plot\n",
    "ax.plot(x_range, best_fit, 'b--', label='Best Fit (R^2 = {:.2f})'.format(r_value**2))\n",
    "# by default a legend is not shown, so we need to call the attribute.\n",
    "plt.legend()"
   ]
  },
  {
   "cell_type": "markdown",
   "metadata": {},
   "source": [
    "### Best Fit slope and coefficient of determination ($R^2$) of calibration points"
   ]
  },
  {
   "cell_type": "code",
   "execution_count": 73,
   "metadata": {},
   "outputs": [
    {
     "name": "stdout",
     "output_type": "stream",
     "text": [
      "The calibration best fit slope is 0.49 [[mg/L] / [uS/cm]]\n",
      "The coefficient of determination of the calibration is 1.000.\n"
     ]
    }
   ],
   "source": [
    "#note: the number of decimals in the slope is too low. adjust the line below to print one more decimal.\n",
    "print(f\"The calibration best fit slope is {slope:.2f} [[mg/L] / [uS/cm]]\")\n",
    "print(f\"The coefficient of determination of the calibration is {r_value**2:.3f}.\")"
   ]
  },
  {
   "cell_type": "markdown",
   "metadata": {},
   "source": [
    ">**Note**: Above, the print statement string has an `f` before the opening quotation `\"`, which enables the insertion of variables into the string.  This is done using the `{}` symbol and a 'type' specifier.  In this case, the values inside the curly brackets `{slope:.2f}` means I want a **float** of **2** decimal places.  There are a number of ways to insert variables into strings for output.  More information on string formatting can be [found here](https://www.python.org/dev/peps/pep-3101/)."
   ]
  },
  {
   "cell_type": "markdown",
   "metadata": {},
   "source": [
    "## Flow measurement\n",
    "\n",
    "### Plot the salt dilution measurement\n",
    "\n",
    "Now we'll use the second data file.  Recall that the first file was for calibration.  The EC sensor was placed in a measured volume of water, and calibration solution was added in measured amounts to record the change in conductivity.  \n",
    "\n",
    "For the actual measurement of flow in the creek, the EC sensor is placed in the creek some distance downstream of the where a known mass of salt is deposited and mixed.\n",
    "\n",
    "Below we plot the conductivity over time, and we also determine what the 'background' conductivity was in order to calculate the area under the conductivity curve.  It turns out there is a lot of interesting information about runoff processes contained in the background EC signal."
   ]
  },
  {
   "cell_type": "code",
   "execution_count": 50,
   "metadata": {},
   "outputs": [
    {
     "data": {
      "text/html": [
       "<div>\n",
       "<style scoped>\n",
       "    .dataframe tbody tr th:only-of-type {\n",
       "        vertical-align: middle;\n",
       "    }\n",
       "\n",
       "    .dataframe tbody tr th {\n",
       "        vertical-align: top;\n",
       "    }\n",
       "\n",
       "    .dataframe thead th {\n",
       "        text-align: right;\n",
       "    }\n",
       "</style>\n",
       "<table border=\"1\" class=\"dataframe\">\n",
       "  <thead>\n",
       "    <tr style=\"text-align: right;\">\n",
       "      <th></th>\n",
       "      <th>Time (s)</th>\n",
       "      <th>ECT (uS/cm)</th>\n",
       "      <th>Temperature (C)</th>\n",
       "      <th>t_elapsed</th>\n",
       "      <th>Concentration</th>\n",
       "      <th>time_step</th>\n",
       "    </tr>\n",
       "  </thead>\n",
       "  <tbody>\n",
       "    <tr>\n",
       "      <th>0</th>\n",
       "      <td>1</td>\n",
       "      <td>298</td>\n",
       "      <td>10.8</td>\n",
       "      <td>1</td>\n",
       "      <td>0.0</td>\n",
       "      <td>NaN</td>\n",
       "    </tr>\n",
       "    <tr>\n",
       "      <th>1</th>\n",
       "      <td>2</td>\n",
       "      <td>298</td>\n",
       "      <td>10.8</td>\n",
       "      <td>2</td>\n",
       "      <td>0.0</td>\n",
       "      <td>1.0</td>\n",
       "    </tr>\n",
       "    <tr>\n",
       "      <th>2</th>\n",
       "      <td>3</td>\n",
       "      <td>298</td>\n",
       "      <td>10.8</td>\n",
       "      <td>3</td>\n",
       "      <td>0.0</td>\n",
       "      <td>1.0</td>\n",
       "    </tr>\n",
       "    <tr>\n",
       "      <th>3</th>\n",
       "      <td>4</td>\n",
       "      <td>298</td>\n",
       "      <td>10.8</td>\n",
       "      <td>4</td>\n",
       "      <td>0.0</td>\n",
       "      <td>1.0</td>\n",
       "    </tr>\n",
       "    <tr>\n",
       "      <th>4</th>\n",
       "      <td>5</td>\n",
       "      <td>298</td>\n",
       "      <td>10.8</td>\n",
       "      <td>5</td>\n",
       "      <td>0.0</td>\n",
       "      <td>1.0</td>\n",
       "    </tr>\n",
       "    <tr>\n",
       "      <th>...</th>\n",
       "      <td>...</td>\n",
       "      <td>...</td>\n",
       "      <td>...</td>\n",
       "      <td>...</td>\n",
       "      <td>...</td>\n",
       "      <td>...</td>\n",
       "    </tr>\n",
       "    <tr>\n",
       "      <th>863</th>\n",
       "      <td>864</td>\n",
       "      <td>298</td>\n",
       "      <td>10.5</td>\n",
       "      <td>864</td>\n",
       "      <td>0.0</td>\n",
       "      <td>1.0</td>\n",
       "    </tr>\n",
       "    <tr>\n",
       "      <th>864</th>\n",
       "      <td>865</td>\n",
       "      <td>298</td>\n",
       "      <td>10.5</td>\n",
       "      <td>865</td>\n",
       "      <td>0.0</td>\n",
       "      <td>1.0</td>\n",
       "    </tr>\n",
       "    <tr>\n",
       "      <th>865</th>\n",
       "      <td>866</td>\n",
       "      <td>298</td>\n",
       "      <td>10.5</td>\n",
       "      <td>866</td>\n",
       "      <td>0.0</td>\n",
       "      <td>1.0</td>\n",
       "    </tr>\n",
       "    <tr>\n",
       "      <th>866</th>\n",
       "      <td>867</td>\n",
       "      <td>298</td>\n",
       "      <td>10.5</td>\n",
       "      <td>867</td>\n",
       "      <td>0.0</td>\n",
       "      <td>1.0</td>\n",
       "    </tr>\n",
       "    <tr>\n",
       "      <th>867</th>\n",
       "      <td>868</td>\n",
       "      <td>298</td>\n",
       "      <td>10.5</td>\n",
       "      <td>868</td>\n",
       "      <td>0.0</td>\n",
       "      <td>1.0</td>\n",
       "    </tr>\n",
       "  </tbody>\n",
       "</table>\n",
       "<p>868 rows × 6 columns</p>\n",
       "</div>"
      ],
      "text/plain": [
       "     Time (s)  ECT (uS/cm)  Temperature (C)  t_elapsed  Concentration  \\\n",
       "0           1          298             10.8          1            0.0   \n",
       "1           2          298             10.8          2            0.0   \n",
       "2           3          298             10.8          3            0.0   \n",
       "3           4          298             10.8          4            0.0   \n",
       "4           5          298             10.8          5            0.0   \n",
       "..        ...          ...              ...        ...            ...   \n",
       "863       864          298             10.5        864            0.0   \n",
       "864       865          298             10.5        865            0.0   \n",
       "865       866          298             10.5        866            0.0   \n",
       "866       867          298             10.5        867            0.0   \n",
       "867       868          298             10.5        868            0.0   \n",
       "\n",
       "     time_step  \n",
       "0          NaN  \n",
       "1          1.0  \n",
       "2          1.0  \n",
       "3          1.0  \n",
       "4          1.0  \n",
       "..         ...  \n",
       "863        1.0  \n",
       "864        1.0  \n",
       "865        1.0  \n",
       "866        1.0  \n",
       "867        1.0  \n",
       "\n",
       "[868 rows x 6 columns]"
      ]
     },
     "execution_count": 50,
     "metadata": {},
     "output_type": "execute_result"
    }
   ],
   "source": [
    "sd_data"
   ]
  },
  {
   "cell_type": "code",
   "execution_count": 51,
   "metadata": {},
   "outputs": [
    {
     "data": {
      "text/plain": [
       "<AxesSubplot:xlabel='Time (s)'>"
      ]
     },
     "execution_count": 51,
     "metadata": {},
     "output_type": "execute_result"
    },
    {
     "data": {
      "image/png": "[encoded data removed]",
      "text/plain": [
       "<Figure size 432x288 with 1 Axes>"
      ]
     },
     "metadata": {
      "needs_background": "light"
     },
     "output_type": "display_data"
    }
   ],
   "source": [
    "# we can also plot directly from a dataframe\n",
    "sd_data.plot('Time (s)', 'ECT (uS/cm)')"
   ]
  },
  {
   "cell_type": "markdown",
   "metadata": {},
   "source": [
    "### Specify background and measurement periods\n",
    "\n",
    "We need to establish the background conductivity, or the natural conductivity of the stream prior to the measurement.  Use the plot above to establish a first guess at both the background period and the measurement period."
   ]
  },
  {
   "cell_type": "code",
   "execution_count": 52,
   "metadata": {},
   "outputs": [],
   "source": [
    "# the background is the natural level of conductivity prior to the salt injection\n",
    "start_bg = 0  # set the time (in seconds) for the start point of the background\n",
    "end_bg = 150  # set the time (in seconds) for the end point of the background\n",
    "\n",
    "# start and end time of the measurement (seconds)\n",
    "msmt_start = 190\n",
    "msmt_end = 700\n",
    "\n",
    "# here, the mean of the background over a certain period is calculated as the representative background EC.T\n",
    "background_ect = sd_data['ECT (uS/cm)'].iloc[start_bg: end_bg].mean()"
   ]
  },
  {
   "cell_type": "code",
   "execution_count": 53,
   "metadata": {},
   "outputs": [
    {
     "data": {
      "text/plain": [
       "<matplotlib.legend.Legend at 0x7fa8f4af47c0>"
      ]
     },
     "execution_count": 53,
     "metadata": {},
     "output_type": "execute_result"
    },
    {
     "data": {
      "image/png": "[encoded data removed]",
      "text/plain": [
       "<Figure size 720x432 with 1 Axes>"
      ]
     },
     "metadata": {
      "needs_background": "light"
     },
     "output_type": "display_data"
    }
   ],
   "source": [
    "fig, ax = plt.subplots(1, 1, figsize=(10,6))\n",
    "\n",
    "# plot the conductivity vs. time\n",
    "t = sd_data['Time (s)'].to_numpy()\n",
    "ec_t = sd_data['ECT (uS/cm)'].to_numpy()\n",
    "\n",
    "ax.plot(t, ec_t, label=\"Conductivity (microSiemens/cm)\")\n",
    "\n",
    "# label the axes, and set the plot title\n",
    "ax.set_xlabel('Elapsed Time (s)')\n",
    "ax.set_ylabel('Temp. Compenstated Conductivity [uS/cm]')\n",
    "ax.set_title('Salt Dilution Measurement')\n",
    "\n",
    "ax.plot(t[start_bg: end_bg], \n",
    "        ec_t[start_bg: end_bg], 'ro',\n",
    "        label='Background')\n",
    "\n",
    "ax.plot((t[msmt_start], t[msmt_end]),\n",
    "        (ec_t[msmt_start], ec_t[msmt_end]), 'go',\n",
    "        label='Measurement Start & End')\n",
    "\n",
    "plt.legend()"
   ]
  },
  {
   "cell_type": "markdown",
   "metadata": {},
   "source": [
    "## Calculate Discharge\n",
    "\n",
    "The volumetric flow (discharge) is equal to the area under the salt dilution curve, minus the background EC.\n",
    "\n",
    "Calculate the area under the curve:\n",
    "\n",
    "The area is: $$A_{curve} = \\sum_{i=start}^{end} (ECT_i - ECT_{BG,i}) \\cdot Slope_{calibration} \\cdot t_{step,i} = \\frac{\\mu S}{cm} \\cdot \\frac {mg/L}{\\mu S/cm} \\cdot s = \\frac {mg}{L} \\cdot s$$\n",
    "Then discharge (Q) is calculated by: $\\frac{m_{salt}}{A_{curve}} = \\frac{M\\cdot kg \\cdot \\frac{1x10^6 mg}{1kg}}{\\frac {mg}{L} \\cdot \\frac{1000 L}{1m^3} \\cdot s} = \\frac {m^3}{s}$\n",
    "\n",
    "To illustrate, we are calculating the total area under the curve:\n",
    "\n",
    "![Area under conductivity curve](img/a1.png)\n",
    "\n",
    "And we are subtracting the rectangle representing the background.\n",
    "\n",
    "![Background Area](img/a2.png)\n"
   ]
  },
  {
   "cell_type": "markdown",
   "metadata": {},
   "source": [
    "In the cell below, we calculate the area under the conductivity curve (`ECT (uS/cm`) and subtract the background average determined above.  We do this by finite-difference, which is simply adding up all the little rectangles that approximate the green region in the diagram above."
   ]
  },
  {
   "cell_type": "code",
   "execution_count": 54,
   "metadata": {},
   "outputs": [],
   "source": [
    "# subtract the background and multiply by the calibration slope \n",
    "sd_data['Concentration'] = (sd_data['ECT (uS/cm)'] - background_ect) * slope"
   ]
  },
  {
   "cell_type": "markdown",
   "metadata": {},
   "source": [
    "Check the time step duration.  We know from the column header the time units are in seconds (s), and we could look at the values and hard-code the time step, but it's better to not assume or hard code values, so we will use the actual time step by calling the `.diff()` function on the `Time (s)` column to get a row-wise difference."
   ]
  },
  {
   "cell_type": "code",
   "execution_count": 55,
   "metadata": {},
   "outputs": [],
   "source": [
    "sd_data['time_step'] = sd_data['Time (s)'].diff()"
   ]
  },
  {
   "cell_type": "code",
   "execution_count": 56,
   "metadata": {},
   "outputs": [],
   "source": [
    "# trim the time series to the start and end time\n",
    "msmt_slice = sd_data[(sd_data['Time (s)'] > msmt_start) & (sd_data['Time (s)'] < msmt_end)].copy()\n",
    "\n",
    "# approximating the area under the curve as the sum of small \n",
    "# rectangles of height 'concentration' and widths of 1 time step\n",
    "concentration_area = np.sum(np.multiply(msmt_slice['Concentration'], msmt_slice['time_step']))"
   ]
  },
  {
   "cell_type": "markdown",
   "metadata": {},
   "source": [
    ">**Note**: The `np.muliply()` function used above does element-wise multiplication.  i.e. if $a=[0, 1, 2]$ and $b=[3, 4, 5]$, `np.multiply(a, b) = [0, 4, 10]`.  Consider what would happen if our timestep was not uniform and we used a constant multiplier to calculate area under the curve."
   ]
  },
  {
   "cell_type": "code",
   "execution_count": 57,
   "metadata": {},
   "outputs": [
    {
     "data": {
      "text/plain": [
       "array([ 0,  4, 10])"
      ]
     },
     "execution_count": 57,
     "metadata": {},
     "output_type": "execute_result"
    }
   ],
   "source": [
    "a = [0, 1, 2]\n",
    "b = [3, 4, 5]\n",
    "np.multiply(a, b)"
   ]
  },
  {
   "cell_type": "code",
   "execution_count": 62,
   "metadata": {},
   "outputs": [
    {
     "name": "stdout",
     "output_type": "stream",
     "text": [
      "The calculated discharge for the measurement is 11.9 m^3/s\n"
     ]
    }
   ],
   "source": [
    "mass = 100 # 1 kg \"slug\" of salt (NaCl) was put in the river (as recorded in the SD_cal spreadsheet, shown previously)\n",
    "\n",
    "# see the \"Calculate Discharge\" section above to convince yourself that the units work out\n",
    "Q_calculated = mass * 1000 / concentration_area\n",
    "\n",
    "print(f'The calculated discharge for the measurement is {Q_calculated:.1f} m^3/s')"
   ]
  },
  {
   "cell_type": "markdown",
   "metadata": {},
   "source": [
    "## Notebook Reflection\n",
    "\n",
    "In this notebook, we demonstrated how a salt dilution measurement is processed, including calibration and calculation of volumetric flow.  There are a number of sources of uncertainty in this process.  Provide short written responses to the questions below.  It is recommended to use this notebook to get a sense of the sensitivity of the resulting volumetric flow calculation to various input parameters.\n",
    "\n",
    "Near the start of the notebook, we set variables associated with the calibration of the EC sensor:  \n",
    " * `cal_vol`: the volume of water from the stream used as the baseline for calibration,\n",
    " * `cal_solution_concn`: the concentration of our calibration solution, and \n",
    " * `cal_vol_increment`: the incremental volume of calibration solution added to the calibration volume\n",
    " \n",
    "### Question 1: \n",
    "\n",
    "Comment on the effect of errors in the *accuracy* of the three calibration variables.  Which variable results in the greatest change to the calculated discharge if the variable is changed by +/- 10%?  In other words, what is the *sensitivity* of the result (measured flow) to each of the three calibration variables, in relative, qualitative terms? \n",
    "\n",
    "### Question 2: \n",
    "\n",
    "Above, we manually set the start and end of the salt injection measurement (marked in the plot by the green dots) using the `msmt_start` and `msmt_end` variables.  In some flow conditions, the EC reading will take a very long time to return to baseline.  The realities of field work (time constraints, battery power, etc) occassionally result in the 'tail' of the measurement curve being cut off.  What happens to the calculated discharge if the EC measurement stops unexpectedly before the EC returns to baseline?  Go back in the notebook and change the `msmt_end` time and comment on the effect on the calculated discharge."
   ]
  },
  {
   "cell_type": "markdown",
   "metadata": {},
   "source": [
    "## Additional Info\n",
    "\n",
    "### Temperature Correction for Conductivity\n",
    "\n",
    "The electrical conductivity (EC) of water is a function of temperature, so it is important that the water used for calibration is the same temperature as the water in the stream being measured.  Alternatively, a temperature correction can be applied.  For the data in this notebook, the instrument used for flow measurement has a thermometer, so temperature compensation is built into the instrument.\n",
    "\n",
    "Two different methods of temperature compensation are provided below for reference, the first is an [EU standard for the determination of electrical conductivity](https://standards.iteh.ai/catalog/standards/cen/3978cdbc-b72f-459e-9275-99e7fc2b4b84/en-27888-1993), and the second is a [linear approximation of conductivity]()$^{[3]}$ as a function of temperature."
   ]
  },
  {
   "cell_type": "code",
   "execution_count": 74,
   "metadata": {},
   "outputs": [],
   "source": [
    "def eu_std_ect_adjust(temp, ec):\n",
    "    \"\"\"\n",
    "    Takes in a temperature (Theta), and an EC value,\n",
    "    returns a temperature adjusted ECT value\n",
    "    based on EU standard 27888 conversion.\n",
    "        Input:  -temperature (Celsius)\n",
    "                -electrical conductivity\n",
    "    \"\"\"\n",
    "    c1 = -0.198058\n",
    "    c2 = -1.992186\n",
    "    c3 = 231.17628\n",
    "    c4 = 86.39123\n",
    "    r = c1 + math.exp(c2 + c3 / (temp + c4))\n",
    "    c5 = 0.962144\n",
    "    c6 = 0.965078\n",
    "    c7 = 1.116\n",
    "    f25 = ((1 - c5) + c5 * (r**c6)) * c7\n",
    "    return ec * f25\n",
    "\n",
    "def linear2_ect_adjust(temp, ec):\n",
    "    \"\"\"\n",
    "    Takes in a temperature (temp), and an EC value (ec),\n",
    "    returns a temperature adjusted ECT value\n",
    "    based on linear interpolation assuming\n",
    "    2.5% per degree centigrade. (Smith, 1962)\n",
    "    \"\"\"\n",
    "    f25 = 2.5\n",
    "    return ec / (1 + (f25 /100) * (temp - 25))\n"
   ]
  },
  {
   "cell_type": "code",
   "execution_count": 65,
   "metadata": {},
   "outputs": [],
   "source": [
    "# Apply temperature compensation to the measured conductivity\n",
    "temp_compensated = []\n",
    "for i, row in sd_cal.iterrows():\n",
    "    conductivity = row['Conductivity (microSiemens/cm)']\n",
    "    temperature = row['Temperature (C)']\n",
    "\n",
    "    # for each value in the conductivity time series,\n",
    "    # apply the function to correct for temperature,\n",
    "    # and add to the temp compensated array\n",
    "    temp_ec = eu_std_ect_adjust(temp=temperature, ec=conductivity)\n",
    "    \n",
    "    temp_compensated.append(temp_ec)"
   ]
  },
  {
   "cell_type": "markdown",
   "metadata": {},
   "source": [
    "## References\n",
    "\n",
    "\n",
    "1. Kite, Geoff. \"Computerized streamflow measurement using slug injection.\" *Hydrological processes* 7.2 (1993): 227-233.\n",
    "2. Hintz, William D., and Rick A. Relyea. \"Impacts of road deicing salts on the early-life growth and development of a stream salmonid: salt type matters.\" *Environmental pollution* 223 (2017): 409-415.\n",
    "3. Smith, Stanford H. \"TEMPERATURE CORRECTION IN CONDUCTIVITY MEASUREMENTS 1.\" *Limnology and Oceanography* 7.3 (1962): 330-334.\n"
   ]
  },
  {
   "cell_type": "code",
   "execution_count": null,
   "metadata": {},
   "outputs": [],
   "source": []
  }
 ],
 "metadata": {
  "kernelspec": {
   "display_name": "Python 3",
   "language": "python",
   "name": "python3"
  },
  "language_info": {
   "codemirror_mode": {
    "name": "ipython",
    "version": 3
   },
   "file_extension": ".py",
   "mimetype": "text/x-python",
   "name": "python",
   "nbconvert_exporter": "python",
   "pygments_lexer": "ipython3",
   "version": "3.8.10"
  }
 },
 "nbformat": 4,
 "nbformat_minor": 4
}
