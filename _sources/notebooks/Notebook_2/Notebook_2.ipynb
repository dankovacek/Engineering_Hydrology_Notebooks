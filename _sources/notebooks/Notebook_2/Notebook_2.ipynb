{
 "cells": [
  {
   "cell_type": "markdown",
   "metadata": {},
   "source": [
    "# Notebook 2: Rating Curve Development"
   ]
  },
  {
   "cell_type": "code",
   "execution_count": null,
   "metadata": {
    "tags": []
   },
   "outputs": [],
   "source": [
    "import math\n",
    "import pandas as pd\n",
    "import numpy as np\n",
    "from scipy import stats as st\n",
    "\n",
    "import matplotlib.pyplot as plt\n",
    "from pandas.plotting import register_matplotlib_converters\n",
    "register_matplotlib_converters()\n",
    "\n",
    "from bokeh.plotting import figure, show, output_file\n",
    "from bokeh.models import ColumnDataSource, Band\n",
    "from bokeh.io import output_notebook\n",
    "from bokeh.layouts import gridplot\n",
    "output_notebook()\n",
    "\n",
    "import warnings\n",
    "\n",
    "import pandas as pd\n",
    "from pandas.core.common import SettingWithCopyWarning\n",
    "\n",
    "warnings.simplefilter(action=\"ignore\", category=SettingWithCopyWarning)\n"
   ]
  },
  {
   "cell_type": "markdown",
   "metadata": {},
   "source": [
    "## Introduction\n",
    "\n",
    "It isn't typically possible to accurately measure surface runoff directly on a *continuous* basis.  Instead, in practice it is much easier and more reliable to install an instrument in the river to measure pressure, which recall is a linear function of the depth of water.  A hydrometric station is often simply a pressure transducer (below) connected to a device to store measurements in memory (such as a data logger).  We then need a way to map these recorded water depth measurements -- referred to as 'stage' measurements -- to **volumetric flow** ($\\frac{m^3}{s}$).\n",
    "\n",
    "![Pressure Transducer](img/transducer.png)\n",
    "\n",
    "\n",
    "![Hydrometric Station](img/station.png)\n",
    "\n",
    "In the last exercise, we processed a single discharge measurement taken using the salt dilution method.  Typically we want to collect discharge measurements to describe as much of the expected range of natural flow conditions as possible, from very low flows in the dry season, to the highest flows we can (safely) measure.\n",
    "\n",
    "**Note**: [A folder of references is provided in the repository](https://github.com/dankovacek/Engineering_Hydrology_Notebooks/tree/main/content/notebooks/Notebook_2/References) containing governing standards for hydrometric data collection, as well as a discussion paper on uncertainty in hydrometric data collection.\n",
    "\n",
    "Go through this notebook and follow along with the development of the stage-discharge rating curve. At the end, there is an open ended question that requires you to reflect on the content of the notebook. Written responses are to be submitted via Canvas, where a response field will be set up."
   ]
  },
  {
   "cell_type": "markdown",
   "metadata": {},
   "source": [
    "## Stage-Discharge (Rating Curve) Development\n",
    "\n",
    "The purpose of establishing continuous collection of stage data, and collecting many discharge (flow) measurements is to establish (and validate) a relationship between the water level and the volumetric flow over a wide range of conditions:\n",
    "\n",
    "![Stage-Discharge Relationship (source: Hamilton & Moore (2012))](img/rating_curve_ex.png)\n",
    "\n",
    "Each point in the above plot represents an 'instantaneous' discharge measurement, and the water level (stage) at the time the discharge measurement was taken.\n",
    "\n",
    "In this exercise, we will develop a stage-discharge relationship from a collection of discharge measurements and the corresponding stage record. Once a valid stage-discharge relationship has been established, it can be used to translate the time series of **stage measurements** to a time series of **discharge measurements**."
   ]
  },
  {
   "cell_type": "markdown",
   "metadata": {},
   "source": [
    "## Import the Data"
   ]
  },
  {
   "cell_type": "code",
   "execution_count": null,
   "metadata": {},
   "outputs": [],
   "source": [
    "# import the stage data\n",
    "stage_df = pd.read_csv('../../Project_Data/Hidden_Creek_stage_data.csv', parse_dates=['Date'])\n",
    "# stage_df.dropna(inplace=True)\n",
    "stage_df.loc[:, 'Value'] = pd.to_numeric(stage_df.loc[:, 'Value'], errors='coerce')"
   ]
  },
  {
   "cell_type": "code",
   "execution_count": null,
   "metadata": {},
   "outputs": [],
   "source": [
    "# take a quick look at what we're dealing with\n",
    "stage_df"
   ]
  },
  {
   "cell_type": "code",
   "execution_count": null,
   "metadata": {},
   "outputs": [],
   "source": [
    "# looking at the data preview above, the water level (stage) label is quite long\n",
    "stage_label = 'Value'\n",
    "\n",
    "stage_df = stage_df[['Date', 'Value']].copy()\n",
    "\n",
    "# let's shorten it by renaming the column\n",
    "# We want a name to be descriptive, and it should also contain the units\n",
    "# note the Date column is unchanged, but needs to be included in the \n",
    "# order the columns appear from left to right\n",
    "stage_df.columns = ['Date', 'WL_m']"
   ]
  },
  {
   "cell_type": "code",
   "execution_count": null,
   "metadata": {},
   "outputs": [],
   "source": [
    "# import the table of discrete discharge measurements\n",
    "rc_df = pd.read_csv('../../Project_Data/Project_QH_table_2021.csv', parse_dates=['Date'])"
   ]
  },
  {
   "cell_type": "code",
   "execution_count": null,
   "metadata": {},
   "outputs": [],
   "source": [
    "# take a look at the discharge measurements\n",
    "rc_df.head(15)"
   ]
  },
  {
   "cell_type": "markdown",
   "metadata": {},
   "source": [
    "## Plot the Data\n",
    "\n",
    "### Plot Measured Discharge and corresponding stage (water level)\n",
    "\n",
    "From previous site visits, we have collected a total of 9 discharge measurements as can be seen in the `rc_df` dataframe above.  During each measurement, we manually measure the water level to validate the data being recorded continuously by our pressure transducer and datalogger (hydrometric station).  We validate the pressure transducer reading because instrument calibration is not perfect, and can change over time for a number of reasons.  It is important to measure stage by some independent means before and after a discharge measurement in order to to assess the quality of the stage-discharge relationship and any analysis derived from it.  Validating the hydrometric station stage concurrent to a discharge measurement is typically done manually, such as with a benchmark survey.\n"
   ]
  },
  {
   "cell_type": "code",
   "execution_count": null,
   "metadata": {},
   "outputs": [],
   "source": [
    "# plot the discharge measurements on the x-axis, and the corresponding stage on the y axis\n",
    "q_measured = 'Flow (m^3/s)'\n",
    "wl_measured = 'water level (m above 0 flow ref)'\n",
    "rc_df.plot(q_measured, wl_measured, \n",
    "           marker='o', color='g',\n",
    "           linestyle='',\n",
    "           label='Discharge measurements')"
   ]
  },
  {
   "cell_type": "markdown",
   "metadata": {},
   "source": [
    "### Add the new discharge measurement\n",
    "\n",
    "In Notebook 1, we processed a discharge measurement using salt dilution.  Let's update our rating curve with this latest data point.\n",
    "\n",
    "### Find the stage on the measurement date (26 September 2010)\n",
    "\n",
    "Instead of manually looking up what the water level was on a particular date, we can use an indexing method to directly return the value at the time of interest./"
   ]
  },
  {
   "cell_type": "code",
   "execution_count": null,
   "metadata": {},
   "outputs": [],
   "source": [
    "# measurement_date\n",
    "msmt_date = '2010-09-20'\n",
    " \n",
    "# here, we are indexing the stage dataframe to return \n",
    "# just the row corresponding to the date we're interested in\n",
    "msmt_date_data = stage_df[stage_df['Date'] == pd.to_datetime(msmt_date)].copy()\n",
    "\n",
    "# now just extract the stage\n",
    "# and round to 3 decimals\n",
    "msmt_date_data.loc[:, 'WL_m'] = pd.to_numeric(msmt_date_data.loc[:, 'WL_m'])\n",
    "msmt_stage = msmt_date_data['WL_m'].round(3)\n",
    "\n",
    "# Note that when we index this way,  \n",
    "# a dataframe is still returned\n",
    "print(msmt_stage)\n",
    "print('------')\n",
    "print('')\n",
    "\n",
    "# To get just the value\n",
    "msmt_stage = msmt_stage.values[0]\n",
    "print('The stage on {} was {} m.'.format(msmt_date, msmt_stage))"
   ]
  },
  {
   "cell_type": "code",
   "execution_count": null,
   "metadata": {},
   "outputs": [],
   "source": [
    "test = stage_df.set_index('Date')\n",
    "test[test.index == '2010-09-10']"
   ]
  },
  {
   "cell_type": "markdown",
   "metadata": {},
   "source": [
    "### Add Latest Data\n",
    "\n",
    "In Notebook 1, we calculated discharge using the salt dilution method.  Include this new measurement and see how it compares to the rest of the measurements."
   ]
  },
  {
   "cell_type": "code",
   "execution_count": null,
   "metadata": {},
   "outputs": [],
   "source": [
    "# add a new point - get the discharge value \n",
    "# you calculated in the previous tutorial\n",
    "# Here we can enter the additional point for the rating curve \n",
    "# from the salt dilution measurement calculation exercise\n",
    "# set variables corresponding to the discharge and stage from that measurement\n",
    "\n",
    "Q_calculated = 12 # enter the value you calculated from Tutorial 1\n",
    "concurrent_stage = msmt_stage # we determined msmst_stage in the previous cell\n",
    "\n",
    "# Add the newly measured point to the rating curve (discharge data) dataframe\n",
    "# len(stage_df) + 1 makes it add a row at the bottom\n",
    "rc_df.loc[len(rc_df)] = [pd.to_datetime(msmt_date), Q_calculated, msmt_stage]\n",
    "rc_df.loc[len(rc_df)] = [pd.to_datetime(msmt_date), 5, 0.36]\n",
    "\n",
    "# print out the updated dataframe and see the new point added\n",
    "rc_df"
   ]
  },
  {
   "cell_type": "markdown",
   "metadata": {},
   "source": [
    "### Plot the stage-discharge measurement points and the rating curve\n",
    "\n",
    "The plot below is where you will be able to validate if your answer for question 4 is correct."
   ]
  },
  {
   "cell_type": "markdown",
   "metadata": {},
   "source": [
    "### Plot a Curve Representing the Standard Stage-Discharge Relationship\n",
    "\n",
    "The standard stage-discharge relationship takes the form $Q = C(h-h_0)^b$ where:\n",
    "\n",
    "* Q = flow $[\\frac {m^3}{s}]$\n",
    "* C = rating coefficient $[-]$\n",
    "* $h_0$ = elevation offset $[m]$ corresponding to the point of zero flow\n",
    "* b = hydraulic control shape coefficient $[-]$\n",
    "\n",
    "The rating exponent (b) is related to some extent to the cross sectional shape of the hydraulic control.  Values for the rating exponent suggested by Environment Canada (2012) are as follows:\n",
    "\n",
    "| Shape | Value of exponent (b) |\n",
    "|---|---|\n",
    "| Rectangular | 1.3 to 1.8 |\n",
    "| Parabolic | 1.7 to 2.3 |\n",
    "| Triangular | 2.5 to 3 |\n"
   ]
  },
  {
   "cell_type": "code",
   "execution_count": null,
   "metadata": {},
   "outputs": [],
   "source": [
    "# definition of rating curve: calculate Q from h, given the parameters.\n",
    "def calc_q(C, h, h0, b):\n",
    "    \"\"\"\n",
    "    Standard form of the rating curve equation.\n",
    "        Q = flow [m^3/s]\n",
    "        C = rating coefficient [-]\n",
    "        h0 = elevation offset [m] - corresponds to point of zero flow\n",
    "        b = hydraulic control shape coefficient [-]\n",
    "    Return volumetric flow [m^3/s]\n",
    "    \"\"\"\n",
    "    return C*(h-h0)**b"
   ]
  },
  {
   "cell_type": "markdown",
   "metadata": {},
   "source": [
    "Below are rating curve parameters (`h0`, `b`, `C`) that are purposely not a great fit to the discharge data.  \n",
    "\n",
    "Try changing the values to see the effect on how the curve fits the measured discharge data."
   ]
  },
  {
   "cell_type": "code",
   "execution_count": null,
   "metadata": {},
   "outputs": [],
   "source": [
    "h0 = -0.1   # offset parameter\n",
    "b = 1.8      # exponent (shape) parameter\n",
    "C = 8.0      # coefficient parameter\n",
    "\n",
    "# here, set a range of stage values over which\n",
    "# we will calculate discharge based on our rating curve parameters\n",
    "stage_range = np.linspace(0.001, 1.5, 100)\n",
    "\n",
    "# here we calculate flow (q) for every value of stage\n",
    "# we defined in stage_range above\n",
    "manual_fit_q = [calc_q(C, h, h0, b) for h in stage_range]"
   ]
  },
  {
   "cell_type": "code",
   "execution_count": null,
   "metadata": {},
   "outputs": [],
   "source": [
    "fig, ax = plt.subplots(1, 1, figsize=(10,6))\n",
    "ax.plot(manual_fit_q, stage_range, label='Manual Fit RC')\n",
    "ax.plot(rc_df[q_measured].to_numpy(), rc_df[wl_measured].to_numpy(), \n",
    "           marker='o', color='g',\n",
    "           linestyle='',\n",
    "           label='Discharge measurements')\n",
    "ax.set_title('Stage - Discharge Rating Curve')\n",
    "ax.set_xlabel('Discharge [m^3/s]')\n",
    "ax.set_ylabel('Stage [m]')\n",
    "ax.legend()\n",
    "plt.show()"
   ]
  },
  {
   "cell_type": "markdown",
   "metadata": {},
   "source": [
    "## Curve Fitting Method\n",
    "\n",
    "Above, we plotted the stage-discharge curve using made up parameters for C, h0, and b.  We can use a \"guess-and-check\" method to change the parameters until they have a 'good' visual fit, but let's be more efficient and systematic and use a \"best fit\" method.\n",
    "\n",
    "Because our equation is not linear (normally $b \\neq 1$), we can't use the linear best fit function shown in Tutorial 1.  Or can we?\n",
    "\n",
    "Recall the rating curve equation from above is: $Q = C(H-h_0)^b$.  \n",
    "\n",
    "If we transform the data to log space, we get the following: $log(Q) = log(C) + b\\cdot log(h-h_0)$\n",
    "\n",
    "We can then rearrange the terms to match the linear form: $y = slope \\cdot x + intercept$.\n",
    "\n",
    "Recall the x and y axis parameters are discharge (Q) and water level (h), respectively, so the linear form of the equation is then: \n",
    "\n",
    "$$log(h-h_0) = slope \\cdot log(Q) + intercept$$\n",
    "\n",
    "Using this linear form of the equation, we can use the ordinary least squares (OLS) method to find the slope and intercept corresponding to the best fit line (in log-log space).  The last step is to transform the values back to linear space.\n",
    "\n",
    "Note that $h_0$ cannot be fitted this way, and has to be set manually. In this case we start by assuming $h_0=0$."
   ]
  },
  {
   "cell_type": "code",
   "execution_count": null,
   "metadata": {},
   "outputs": [],
   "source": [
    "print(rc_df)"
   ]
  },
  {
   "cell_type": "code",
   "execution_count": null,
   "metadata": {},
   "outputs": [],
   "source": [
    "# Find the best-fit line in log-log space\n",
    "# set our stage offset to zero\n",
    "h0 = 0\n",
    "# take the logarithm of the measured streamflows and the stage\n",
    "q_log = np.log(rc_df['Flow (m^3/s)'] - h0)\n",
    "stage_log = np.log(rc_df['water level (m above 0 flow ref)'])\n",
    "\n",
    "# find the slope and intercept parameters describing the linear best fit using ordinary least squares (OLS)\n",
    "log_slope, log_intercept, log_rval, log_pval, log_stderr = st.linregress(q_log, stage_log)"
   ]
  },
  {
   "cell_type": "markdown",
   "metadata": {},
   "source": [
    "The linearized form of the best fit equation was shown in the last step: $log(h-h_0) = slope \\cdot log(Q) + intercept$.\n",
    "\n",
    "The `st.linregress` function solved the ordinary least squares best fit and yielded the `slope` and `intercept` of the best fit line, so we have two unknowns.  When we plotted the general stage-discharge curve above, we set a variable `stage_range` to evaluate the range of water level over which we're interested in knowing the corresponding flow.  The remaining unknown is then the `log(Q)` term, but we want a function that will give us the discharge (`Q`) in linear space.  \n",
    "\n",
    "### Solve for Q\n",
    "\n",
    "The last step is to rearrange the log form of the equation we derived previously ($log(h-h_0) = slope \\cdot log(Q) + intercept$) in order to solve for flow (`Q`).  "
   ]
  },
  {
   "cell_type": "code",
   "execution_count": null,
   "metadata": {},
   "outputs": [],
   "source": [
    "# calculate the discharge based on the best fit\n",
    "# parameters found by ordinary least squares above\n",
    "def ols_rc_q(slope, intercept, h, h0):\n",
    "    \"\"\"\n",
    "    Calculate flow (Q) from the linear best fit parameters.\n",
    "        -slope: the `log_slope` calculated above (constant)\n",
    "        -intercept: `log_intercept` calculated above (constant)\n",
    "        -h0 is the same PZF offset used above (constant)\n",
    "        -h is the independent variable\n",
    "    Returns Q, the discharge in m^3/s.\n",
    "    \"\"\"\n",
    "    if slope == 0:\n",
    "        return 0\n",
    "    try:\n",
    "        return np.exp((np.log(h - h0) - intercept) / slope)\n",
    "    except ValueError: \n",
    "        return None"
   ]
  },
  {
   "cell_type": "code",
   "execution_count": null,
   "metadata": {},
   "outputs": [],
   "source": [
    "# put best fit results into a dataframe for plotting\n",
    "# use 0 as the PZF (point of zero flow) (the h0 parameter)\n",
    "bf_df = pd.DataFrame()\n",
    "bf_df['stage'] = stage_range\n",
    "\n",
    "# now as before, apply the `ols_rc_q` function to create the stage-discharge\n",
    "# curve based on the best-fit equation\n",
    "bf_df['best_fit_q'] = [ols_rc_q(log_slope, log_intercept, h, 0) for h in stage_range]\n",
    "bf_df.sort_values(by='stage', inplace=True)\n",
    "\n",
    "# now add the manual fit we developed above -- this way we can compare the two curves side-by-side\n",
    "bf_df['manual_fit_q'] = manual_fit_q"
   ]
  },
  {
   "cell_type": "markdown",
   "metadata": {},
   "source": [
    "### Plot the best fit curve\n"
   ]
  },
  {
   "cell_type": "code",
   "execution_count": null,
   "metadata": {},
   "outputs": [],
   "source": [
    "fig, ax = plt.subplots(1, 1, figsize=(10,6))\n",
    "ax.plot(manual_fit_q, stage_range, color='dodgerblue', label='Manual Fit RC')\n",
    "ax.plot(bf_df['best_fit_q'].to_numpy(), bf_df['stage'].to_numpy(),\n",
    "        color='green', label=\"OLS Best Fit\")\n",
    "\n",
    "ax.plot(rc_df[q_measured].to_numpy(), rc_df[wl_measured].to_numpy(), \n",
    "           marker='o', color='r',\n",
    "           linestyle='',\n",
    "           label='Discharge measurements')\n",
    "\n",
    "ax.set_title('Stage - Discharge Rating Curve')\n",
    "ax.set_xlabel('Discharge [m^3/s]')\n",
    "ax.set_ylabel('Stage [m]')\n",
    "ax.legend()\n",
    "plt.show()"
   ]
  },
  {
   "cell_type": "code",
   "execution_count": null,
   "metadata": {},
   "outputs": [],
   "source": [
    "# if you want to export this data to continue working in excel (or another program)\n",
    "# You can call a function to write a dataframe directly to csv using the command below.\n",
    "# The string is the filename, and you can additionally add path information\n",
    "# just remove the '#' symbol at the start of the line below and execute this cell by pressing shift + enter, or by hitting the 'play' button at the top\n",
    "# bf_df.to_csv('rating_curve_data.csv')"
   ]
  },
  {
   "cell_type": "markdown",
   "metadata": {},
   "source": [
    "### Plot the Daily Average Hydrograph From the Rating Curve \n",
    "\n",
    "Now that we've established the relationship between stage and discharge, we can transform the continuous stage record into a continuous flow record.\n",
    "\n",
    "Apply the rating curve equation we developed above to the long-term water level (stage) time series from our hydrometric station.  Add the result as a new column in the `stage_df` dataframe.  Note the distinction between the stage measured during the discrete measurements, and the \"continuous\" stage (water level) recorded by our pressure transducer.  It is the pressure-transducer series we want to apply the rating curve equation to, not the water level from the discharge measurements!"
   ]
  },
  {
   "cell_type": "code",
   "execution_count": null,
   "metadata": {},
   "outputs": [],
   "source": [
    "# calculate a dicharge based on the best fit or manually fit rating curve\n",
    "# for each water level recorded in the measured stage record (stage_df)\n",
    "\n",
    "stage_df.loc[:, 'RC Q (cms)'] = stage_df['WL_m'].apply(lambda h: ols_rc_q(log_slope, log_intercept, h, 0))\n",
    "\n",
    "# add in the parameters we set manually\n",
    "stage_df.loc[:, 'Manual Q (cms)'] = stage_df['WL_m'].apply(lambda h: calc_q(C, h, h0, b))\n"
   ]
  },
  {
   "cell_type": "code",
   "execution_count": null,
   "metadata": {},
   "outputs": [],
   "source": [
    "stage_df"
   ]
  },
  {
   "cell_type": "code",
   "execution_count": null,
   "metadata": {},
   "outputs": [],
   "source": [
    "# again, if you want to export this dataframe to csv for use in Excel\n",
    "# or other program, use the command below\n",
    "# stage_df.to_csv('derived_flow_series.csv')"
   ]
  },
  {
   "cell_type": "markdown",
   "metadata": {},
   "source": [
    "### Plot the Resulting Flow series and the rating curve\n",
    "\n",
    "The two plots below are linked.  Check the selection tools, and select points on one plot.  When validating data, it is helpful to be able to link the measurements on the rating curve plot and the daily flow series plot.  Consider how you would you check if the low flows were subject to a shift in the hydraulic control over time?    "
   ]
  },
  {
   "cell_type": "code",
   "execution_count": null,
   "metadata": {},
   "outputs": [],
   "source": [
    "print(stage_df.columns)\n",
    "print(rc_df.columns)"
   ]
  },
  {
   "cell_type": "code",
   "execution_count": null,
   "metadata": {},
   "outputs": [],
   "source": [
    "# output to static HTML file\n",
    "#output_file(\"filename.html\")\n",
    "\n",
    "# customize the tools for interacting with the bokeh plot\n",
    "TOOLS=\"pan,wheel_zoom,reset,hover,poly_select,box_select\"\n",
    "\n",
    "# Bokeh uses a ColumnDataSource data structure to \n",
    "# link plots and make them more interactive\n",
    "\n",
    "stage_df = stage_df.reset_index(drop=True)\n",
    "\n",
    "# set data sources for plot linking\n",
    "rc_source = ColumnDataSource(data=dict())\n",
    "rc_source.data = rc_source.from_df(rc_df)\n",
    "\n",
    "ts_source = ColumnDataSource(data=dict())\n",
    "ts_source.data = ts_source.from_df(stage_df)\n",
    "\n",
    "#### RATING CURVE PLOT (LET)\n",
    "rc_plot = figure(plot_width=550, plot_height=400,\n",
    "                title='Rating Curve Plot',\n",
    "                tools=TOOLS)\n",
    "\n",
    "# plot the measured discharge points\n",
    "rc_plot.circle('Flow (m^3/s)', 'water level (m above 0 flow ref)', size=5, color=\"red\", alpha=0.5,\n",
    "              legend_label='Measured Q', source=rc_source)\n",
    "\n",
    "# plot the rating curve based on the manual rating curve fit\n",
    "rc_plot.line(manual_fit_q, stage_range, line_color='dodgerblue',\n",
    "             legend_label='Manual Fit')\n",
    "\n",
    "# plot the rating curve based on the OLS best fit\n",
    "rc_plot.line(bf_df['best_fit_q'], bf_df['stage'],\n",
    "             line_color='green', legend_label='OLS Fit')\n",
    "\n",
    "#### DAILY FLOW SERIES PLOT (RIGHT)\n",
    "daily_flow_plot = figure(plot_width=550, plot_height=400, \n",
    "                        x_axis_type='datetime', title='Daily Flow Hydrograph')\n",
    "\n",
    "# # plot the flow series based on the OLS best fit\n",
    "daily_flow_plot.line('Date', 'RC Q (cms)', \n",
    "                    legend_label='OLS-based RC Flow', color='green',\n",
    "                    source=ts_source)\n",
    "\n",
    "# plot the flow series based on the manual fit\n",
    "daily_flow_plot.line('Date', 'Manual Q (cms)', \n",
    "                    legend_label='Manual RC Flow', color='dodgerblue',\n",
    "                    source=ts_source)\n",
    "\n",
    "# plot the daily flow series generated from the manual rating curve\n",
    "daily_flow_plot.circle('Date', 'Flow (m^3/s)', size=5, color=\"red\", alpha=0.8,\n",
    "              source=rc_source, legend_label='Measured Q')\n",
    "\n",
    "# daily_flow_plot.line('Date', 'RC Q (cms)')\n",
    "# label the axes\n",
    "daily_flow_plot.xaxis.axis_label = 'Date'\n",
    "daily_flow_plot.yaxis.axis_label = 'Flow (m³/s)'\n",
    "daily_flow_plot.legend.location = \"top_left\"\n",
    "rc_plot.xaxis.axis_label = 'Flow (m³/s)'\n",
    "rc_plot.yaxis.axis_label = 'Stage (m)'\n",
    "rc_plot.legend.location = \"bottom_right\"\n",
    "\n",
    "layout = gridplot([[rc_plot, daily_flow_plot]])\n",
    "\n",
    "# show the results\n",
    "show(layout)"
   ]
  },
  {
   "cell_type": "markdown",
   "metadata": {},
   "source": [
    "## Summary and Reflection\n",
    "\n",
    "In this notebook we have used discrete measurements to develop a relationship between water level and volumetric flow.  We've used this relationship to develop what is commonly called a 'measured flow series' (the plot above at right), but it's really just an estimate of a relationship that changes in time due to natural morphological processes.  As we saw in Notebook 1 there is uncertainty in the measurements themselves, and in this notebook we see there is uncertainty in the stage-discharge relationship.\n",
    "\n",
    "It is typical that the hydrometric station will record a greater range of water level than what is captured during site visits when discrete discharge measurements are taken.  This is because the hydrometric station is installed and left running to measure water level 'continuously' (at some frequency, such as 2 minutes or 15 minutes) for years at a time.  In many cases it isn't practical or cost effective to make more than three or four visits per year to the station to collect measurements, download stage data, check datalogger batteries, etc.  As a result, it is typical to have discrete discharge measurements over a narrower range of flow conditions than is measured by the hydrometric station, so our 'measured flow series' then must *extrapolate* from the range of conditions we have actually taken discrete measurements for.  \n",
    "\n",
    "The 'measured flow series' is used in many applications in resource engineering.  Low flows are used to determine natural or baseline conditions for fish habitat impact assessments, high flows are used to size hydraulic structures, such as dam spillways.  Hydrometric stations are often installed in new locations to support projects that have multi-decade planning horizons.  \n",
    "\n",
    "## Questions for Reflection\n",
    "\n",
    "Ultimately, the rating curve and measured discharge series are used to characterize a water resource to support decisions in policy and design.  In characterizing a water resource, not only is it common to extrapolate beyond the range of measured conditions, it is necessary to extrapolate into the future.  \n",
    "\n",
    "Provide a brief discussion (1-2 paragraphs) describing how your confidence in the flow predicted by the rating curve changes as a function of water level?  Compare your level of confidence in the rating curve accurately predicting flow tomorrow, versus one year from now, versus ten years from now.  How might these concerns be addressed?  "
   ]
  },
  {
   "cell_type": "code",
   "execution_count": null,
   "metadata": {},
   "outputs": [],
   "source": []
  },
  {
   "cell_type": "code",
   "execution_count": null,
   "metadata": {},
   "outputs": [],
   "source": []
  }
 ],
 "metadata": {
  "kernelspec": {
   "display_name": "Python 3",
   "language": "python",
   "name": "python3"
  },
  "language_info": {
   "codemirror_mode": {
    "name": "ipython",
    "version": 3
   },
   "file_extension": ".py",
   "mimetype": "text/x-python",
   "name": "python",
   "nbconvert_exporter": "python",
   "pygments_lexer": "ipython3",
   "version": "3.8.10"
  }
 },
 "nbformat": 4,
 "nbformat_minor": 4
}
