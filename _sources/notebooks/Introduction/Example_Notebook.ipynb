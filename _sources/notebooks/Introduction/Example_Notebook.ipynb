{
 "cells": [
  {
   "cell_type": "code",
   "execution_count": 1,
   "metadata": {},
   "outputs": [],
   "source": [
    "# import a few useful libraries\n",
    "import pandas as pd\n",
    "import numpy as np\n",
    "import math\n",
    "\n",
    "from matplotlib import pyplot as plt"
   ]
  },
  {
   "cell_type": "markdown",
   "metadata": {},
   "source": [
    "# Example: Clausius-Clapeyron Equation\n",
    "\n",
    "## Introduction\n",
    "\n",
    "This notebook is an interactive development environment (IDE) where you can run Python code to do calculations, numerical simuluation, and much more.\n",
    "\n",
    "For this example, we'll plot the atmospheric saturation water vapour pressure as a function of air temperature."
   ]
  },
  {
   "cell_type": "markdown",
   "metadata": {},
   "source": [
    "The numpy library has a `linspace()` function that creates arrays of numbers with specific properties.\n",
    "\n",
    "Here we're interested in looking at saturation vapour pressure for a range of temperatures we want to explore.  Say **0 degrees to 30 degrees Celsius** (the relationship does not hold below zero).  We can also specify how many points we want between the minimum and maximum we've set.  Let's say 50 for now."
   ]
  },
  {
   "cell_type": "code",
   "execution_count": 2,
   "metadata": {},
   "outputs": [],
   "source": [
    "min_temp = 1\n",
    "max_temp = 30\n",
    "temperature_range = np.linspace(min_temp, max_temp, 50)\n",
    "\n",
    "# alternatively we could specify the step size"
   ]
  },
  {
   "cell_type": "markdown",
   "metadata": {},
   "source": [
    "When executing the cell block above, did you get an error that says `NameError: name 'np' is not defined`?\n",
    "\n",
    "Recall that code cells must be executed in order to load the requisite libraries, variables, etc. into memory.  The error above suggests the very first cell in this notebook wasn't executed, so the numpy library is not yet accessible in the variable `np`.  Note the line `import numpy as np` loads the numpy library and makes its many functions available from the variable `np`. "
   ]
  },
  {
   "cell_type": "code",
   "execution_count": 3,
   "metadata": {},
   "outputs": [
    {
     "data": {
      "text/plain": [
       "array([ 1.        ,  1.59183673,  2.18367347,  2.7755102 ,  3.36734694,\n",
       "        3.95918367,  4.55102041,  5.14285714,  5.73469388,  6.32653061,\n",
       "        6.91836735,  7.51020408,  8.10204082,  8.69387755,  9.28571429,\n",
       "        9.87755102, 10.46938776, 11.06122449, 11.65306122, 12.24489796,\n",
       "       12.83673469, 13.42857143, 14.02040816, 14.6122449 , 15.20408163,\n",
       "       15.79591837, 16.3877551 , 16.97959184, 17.57142857, 18.16326531,\n",
       "       18.75510204, 19.34693878, 19.93877551, 20.53061224, 21.12244898,\n",
       "       21.71428571, 22.30612245, 22.89795918, 23.48979592, 24.08163265,\n",
       "       24.67346939, 25.26530612, 25.85714286, 26.44897959, 27.04081633,\n",
       "       27.63265306, 28.2244898 , 28.81632653, 29.40816327, 30.        ])"
      ]
     },
     "execution_count": 3,
     "metadata": {},
     "output_type": "execute_result"
    }
   ],
   "source": [
    "temperature_range"
   ]
  },
  {
   "cell_type": "markdown",
   "metadata": {},
   "source": [
    "## Markdown\n",
    "\n",
    "<img src=\"img/block_type.png\" alt=\"Block-type dropdown menu\" style=\"width: 400px;\">\n",
    "\n",
    "This cell/block is set to \"Markdown\" which is an easy way to format text nicely.  \n",
    "\n",
    "More information on formatting text blocks using Markdown [can be found here](https://jupyter-notebook.readthedocs.io/en/stable/examples/Notebook/Working%20With%20Markdown%20Cells.html).\n",
    "\n",
    "Most academic writing is formatted using a system called [LaTeX](https://www.latex-project.org/).  \n",
    "\n",
    ">**Note:** If you are thinking about grad school, you will most likely end up learning LaTeX for publishing papers.  If you can work with Markdown (hint: you can!), it isn't much further to preparing your work using LaTeX.  [Overleaf](https://www.overleaf.com/) is a great web application for storage and collaborative editing of LaTeX documents.\n"
   ]
  },
  {
   "cell_type": "markdown",
   "metadata": {},
   "source": [
    "Let's write the Clausius-Clapeyron equation in a print-worthy format:"
   ]
  },
  {
   "cell_type": "markdown",
   "metadata": {},
   "source": [
    "## Clausius-Clapeyron Equation\n",
    "\n",
    "The change in saturation vapour pressure of air as a function of temperature is given in differential form by:\n",
    "\n",
    "$$\\frac{de_s}{dT} = \\frac{L_v(T)\\cdot e_s}{R_v \\cdot T^2}$$ \n",
    "\n",
    "Assuming $L_v$ is constant yields the approximation$^{[1]}$:\n",
    "\n",
    "$$e_s(T) = e_{s0} \\cdot exp \\left(\\frac{L_v}{R_v} \\left[ \\frac{1}{T_0} - \\frac{1}{T} \\right] \\right) $$\n",
    "\n",
    "\n",
    "Where:\n",
    "* $L_v$ is the latent heat of vaporization, (constant approximation 0-35 Celsius = $2.5\\times10^6 \\frac{J}{kg \\cdot K}$)\n",
    "* $R_v$ is the vapor pressure gas constant ($461 \\frac{J}{kg \\cdot K}$)\n",
    "* $T$ is air temperature in Kelvin\n",
    "* $T_0$ and $e_{s0}$ are constants ($273 K$ and $0.611 kPa$)\n",
    "\n",
    "1.  Margulis, S. *Introduction to Hydrology*. 2014."
   ]
  },
  {
   "cell_type": "markdown",
   "metadata": {},
   "source": [
    "We can write this as a function in Python:"
   ]
  },
  {
   "cell_type": "code",
   "execution_count": 4,
   "metadata": {},
   "outputs": [],
   "source": [
    "def calculate_saturation_vapour_pressure(T):\n",
    "    \"\"\"\n",
    "    Given T (temperature) as an input in Celsius,\n",
    "    return the saturation vapour pressure of air.\n",
    "    Output units are in kiloPascals [kPa].\n",
    "    \"\"\"\n",
    "    e_s0 = 0.611\n",
    "    L_v = 2.5E6\n",
    "    R_v = 461\n",
    "    T_0 = 273.16\n",
    "    T_k = T + T_0\n",
    "    return e_s0 * math.exp( (L_v/R_v) * (1/T_0 - 1/T_k))\n",
    "    "
   ]
  },
  {
   "cell_type": "markdown",
   "metadata": {},
   "source": [
    "It's good practice to write functions into simple components so they can be reused and combined.  \n",
    "\n",
    "Calculate the saturation vapour pressure for the temperature range we defined above:"
   ]
  },
  {
   "cell_type": "code",
   "execution_count": 5,
   "metadata": {},
   "outputs": [],
   "source": [
    "# create an empty array to store the vapour pressures we will calculate\n",
    "vapour_pressures = []\n",
    "# iterate through the temperature array we created above\n",
    "for t in temperature_range:\n",
    "    sat_vapour_pressure = calculate_saturation_vapour_pressure(t)\n",
    "    vapour_pressures.append(sat_vapour_pressure)"
   ]
  },
  {
   "cell_type": "code",
   "execution_count": 6,
   "metadata": {},
   "outputs": [
    {
     "data": {
      "text/plain": [
       "Text(0, 0.5, 'Saturation Vapour Pressure (kPa)')"
      ]
     },
     "execution_count": 6,
     "metadata": {},
     "output_type": "execute_result"
    },
    {
     "data": {
      "image/png": "[encoded data removed]",
      "text/plain": [
       "<Figure size 720x432 with 1 Axes>"
      ]
     },
     "metadata": {
      "needs_background": "light"
     },
     "output_type": "display_data"
    }
   ],
   "source": [
    "# now plot the result \n",
    "# note in the matplotlib plotting library the figsize is defined in inches by default\n",
    "# here we're saying 10\" wide by 6\" high\n",
    "\n",
    "fig, ax = plt.subplots(1, 1, figsize=(10, 6))\n",
    "\n",
    "ax.plot(temperature_range, vapour_pressures, 'b-')\n",
    "ax.set_title('Saturation Vapour Pressure vs. Temperature')\n",
    "ax.set_xlabel('Temperature (Celsius)')\n",
    "ax.set_ylabel('Saturation Vapour Pressure (kPa)')"
   ]
  },
  {
   "cell_type": "markdown",
   "metadata": {},
   "source": [
    "Below we'll create a function to calculate dewpoint temperature that uses the vapour pressure function above."
   ]
  },
  {
   "cell_type": "code",
   "execution_count": 7,
   "metadata": {},
   "outputs": [],
   "source": [
    "def calculate_dewpoint_temperature(rh, T):\n",
    "    \"\"\"\n",
    "    Given relative humidity and ambient temperature (in Celsius), \n",
    "    return the dewpoint temperature in Celsius.\n",
    "    \"\"\"\n",
    "    # declare constants\n",
    "    L_v = 2.5E6\n",
    "    R_v = 461\n",
    "    e_s0 = 0.611\n",
    "    T_0 = 273.16\n",
    "    \n",
    "    e_s = calculate_saturation_vapour_pressure(T)\n",
    "    # calculate the (actual) vapour pressure\n",
    "    e_a = rh * e_s\n",
    "    # calculate the dewpoint temperature    \n",
    "    T_dk = 1 / (1/T_0 - (R_v / L_v) * np.log(e_a / e_s0))\n",
    "    \n",
    "    T_d = T_dk - T_0\n",
    "    \n",
    "    # if the dewpoint temperature is below zero, return NaN\n",
    "    if T_d < 0:\n",
    "        return np.nan\n",
    "    else:\n",
    "        return T_d"
   ]
  },
  {
   "cell_type": "markdown",
   "metadata": {},
   "source": [
    "Let's assume we want to explore the dewpoint temperature as a function of relative humidity."
   ]
  },
  {
   "cell_type": "code",
   "execution_count": 8,
   "metadata": {},
   "outputs": [],
   "source": [
    "# create an array to represent the relative humidity from 10% to 100%\n",
    "rh_range = np.linspace(0.1, 1, 10)"
   ]
  },
  {
   "cell_type": "markdown",
   "metadata": {},
   "source": [
    "This time we'll use a *list comprehension* instead of a \"for\" loop to calculate the dewpoint temperature where we assume temperature is constant but we want to evaluate a range of relative humidity.  When might we encounter such a situation?"
   ]
  },
  {
   "cell_type": "code",
   "execution_count": 9,
   "metadata": {},
   "outputs": [],
   "source": [
    "t_amb = 25\n",
    "dewpt_temps = [calculate_dewpoint_temperature(rh, t_amb) for rh in rh_range]"
   ]
  },
  {
   "cell_type": "code",
   "execution_count": 10,
   "metadata": {},
   "outputs": [
    {
     "data": {
      "text/plain": [
       "Text(0, 0.5, 'Dewpoint Temperature (Celsius)')"
      ]
     },
     "execution_count": 10,
     "metadata": {},
     "output_type": "execute_result"
    },
    {
     "data": {
      "image/png": "[encoded data removed]",
      "text/plain": [
       "<Figure size 720x432 with 1 Axes>"
      ]
     },
     "metadata": {
      "needs_background": "light"
     },
     "output_type": "display_data"
    }
   ],
   "source": [
    "# now plot the result \n",
    "fig, ax = plt.subplots(1, 1, figsize=(10, 6))\n",
    "\n",
    "ax.plot(rh_range, dewpt_temps, 'b-')\n",
    "ax.set_title(f'Dewpoint Temperatures by Relative Humidity for Ambient Temperature = {t_amb} Celsius')\n",
    "ax.set_xlabel('Relative Humidity [/100]')\n",
    "ax.set_ylabel('Dewpoint Temperature (Celsius)')"
   ]
  },
  {
   "cell_type": "markdown",
   "metadata": {},
   "source": [
    "Let's get really fancy and create a heat map to express the relationship between ambient air temperature, relative humidity, and dewpoint temperature.\n",
    "\n",
    "See this [gist example](https://gist.github.com/Kautenja/f9d6fd3d1dee631200bc11b8a46a76b7) used as a template."
   ]
  },
  {
   "cell_type": "code",
   "execution_count": 17,
   "metadata": {},
   "outputs": [],
   "source": [
    "ambient_temp_range = np.linspace(0, 50, 100)\n",
    "rh_range = np.linspace(0.01, 1.0, 100)\n",
    "\n",
    "# create an empty dataframe to store results\n",
    "dewpt_df = pd.DataFrame()\n",
    "dewpt_df['T_amb'] = ambient_temp_range \n",
    "dewpt_df.set_index('T_amb', inplace=True)\n",
    "\n",
    "for r in rh_range:\n",
    "    dewpt_df[r] = [calculate_dewpoint_temperature(r, t) for t in dewpt_df.index]"
   ]
  },
  {
   "cell_type": "code",
   "execution_count": 19,
   "metadata": {},
   "outputs": [],
   "source": [
    "data = dewpt_df.T"
   ]
  },
  {
   "cell_type": "code",
   "execution_count": 22,
   "metadata": {},
   "outputs": [
    {
     "data": {
      "text/plain": [
       "Text(0.5, 1.0, 'Dewpoint Temperature [degrees Celsius]')"
      ]
     },
     "execution_count": 22,
     "metadata": {},
     "output_type": "execute_result"
    },
    {
     "data": {
      "image/png": "[encoded data removed]",
      "text/plain": [
       "<Figure size 1440x432 with 2 Axes>"
      ]
     },
     "metadata": {
      "needs_background": "light"
     },
     "output_type": "display_data"
    }
   ],
   "source": [
    "fig, ax = plt.subplots(figsize=(20, 6))\n",
    "img = ax.imshow(data, cmap='inferno')\n",
    "fig.colorbar(img)\n",
    "\n",
    "ambient_temp_labels = np.arange(0, 50, 5)\n",
    "rh_labels = np.linspace(0.01, 1.0, 10).round(1)\n",
    "\n",
    "label_locs = np.arange(0, 100, 10)\n",
    "\n",
    "# Show all ticks and label them with the respective list entries\n",
    "# set x ticks to ambient temperature and y to relative humidity\n",
    "ax.set_yticks(label_locs)\n",
    "ax.set_xticks(label_locs)\n",
    "ax.set_yticklabels(ambient_temp_labels)\n",
    "ax.set_xticklabels(rh_labels)\n",
    "\n",
    "ax.set_xlabel('Relative Humidity [/100]')\n",
    "ax.set_ylabel('Ambient Temperature (Celsius)')\n",
    "\n",
    "ax.set_title(\"Dewpoint Temperature [degrees Celsius]\")"
   ]
  },
  {
   "cell_type": "markdown",
   "metadata": {},
   "source": [
    "### Other examples of functions related to atmospheric energy balance"
   ]
  },
  {
   "cell_type": "code",
   "execution_count": 13,
   "metadata": {},
   "outputs": [],
   "source": [
    "def calculate_blackbody_radiation(T):\n",
    "    \"\"\"\n",
    "    Given T (temperature) as an input in Kelvin,\n",
    "    return the unit area (area = 1m^2) \n",
    "    **black body** radiative power in W/m^2/K^4.\n",
    "    \"\"\"\n",
    "    sigma=5.670374419e-8\n",
    "    return sigma*(T^4)"
   ]
  },
  {
   "cell_type": "code",
   "execution_count": 14,
   "metadata": {},
   "outputs": [],
   "source": [
    "def calculate_greybody_radiation(T,emiss):\n",
    "    \"\"\"\n",
    "    Given T (temperature) as an input in Kelvin,\n",
    "    return the unit area (area = 1m^2) \n",
    "    **grey body** radiative power in W/m^2/K^4..\n",
    "    \"\"\"\n",
    "    sigma=5.670374419e-8\n",
    "    return sigma*emiss*(T^4)"
   ]
  },
  {
   "cell_type": "markdown",
   "metadata": {},
   "source": [
    "Stefan-Bolzmann Constant ($\\sigma$):\n",
    "$\\sigma = 5.670374419×10^8$ $W m^{−2}⋅K^{−4}$"
   ]
  },
  {
   "cell_type": "code",
   "execution_count": 15,
   "metadata": {},
   "outputs": [
    {
     "data": {
      "text/plain": [
       "0.00031164377806824"
      ]
     },
     "execution_count": 15,
     "metadata": {},
     "output_type": "execute_result"
    }
   ],
   "source": [
    "calculate_blackbody_radiation(5500)"
   ]
  },
  {
   "cell_type": "code",
   "execution_count": null,
   "metadata": {},
   "outputs": [],
   "source": []
  },
  {
   "cell_type": "code",
   "execution_count": null,
   "metadata": {},
   "outputs": [],
   "source": []
  }
 ],
 "metadata": {
  "kernelspec": {
   "display_name": "Python 3",
   "language": "python",
   "name": "python3"
  },
  "language_info": {
   "codemirror_mode": {
    "name": "ipython",
    "version": 3
   },
   "file_extension": ".py",
   "mimetype": "text/x-python",
   "name": "python",
   "nbconvert_exporter": "python",
   "pygments_lexer": "ipython3",
   "version": "3.8.10"
  }
 },
 "nbformat": 4,
 "nbformat_minor": 4
}
